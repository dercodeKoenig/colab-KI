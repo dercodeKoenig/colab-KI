{
  "cells": [
    {
      "cell_type": "markdown",
      "metadata": {
        "id": "view-in-github",
        "colab_type": "text"
      },
      "source": [
        "<a href=\"https://colab.research.google.com/github/dercodeKoenig/colab-KI/blob/main/stochastics2.ipynb\" target=\"_parent\"><img src=\"https://colab.research.google.com/assets/colab-badge.svg\" alt=\"Open In Colab\"/></a>"
      ]
    },
    {
      "cell_type": "code",
      "source": [
        "import numpy as np\n",
        "import random\n",
        "import matplotlib.pyplot as plt  \n",
        "from tqdm.notebook import tqdm\n",
        "import IPython"
      ],
      "metadata": {
        "id": "VDP2cFSj8KCQ"
      },
      "execution_count": 1,
      "outputs": []
    },
    {
      "cell_type": "code",
      "execution_count": 2,
      "metadata": {
        "id": "lIYdn1woOS1n"
      },
      "outputs": [],
      "source": [
        "n = 100\n",
        "repetitions = 90000000\n",
        "multiplier = 1.1"
      ]
    },
    {
      "cell_type": "code",
      "source": [
        "random_list = list(np.random.randint(low = 0,high=2,size=n+repetitions))\n",
        "\n",
        "wins = np.sum(random_list)\n",
        "losses = len(random_list) - wins\n",
        "print(wins, losses)\n",
        "\n",
        "\n",
        "\n",
        "balance_list = []\n",
        "leverage_list = []\n",
        "balance = 0\n",
        "\n",
        "lm = 1\n",
        "\n",
        "for i in tqdm(range(n, len(random_list))):\n",
        "  l = multiplier ** lm\n",
        "  z = random_list[i]\n",
        "  \n",
        "\n",
        "  if z == 0:\n",
        "    balance -= l\n",
        "    lm += 1\n",
        "  else:\n",
        "    balance += l\n",
        "    lm = 1\n",
        "  \n",
        "  \n",
        "  \n",
        "  balance_list.append(balance)\n",
        "  leverage_list.append(l)\n",
        "\n",
        "#plt.plot(random_list)\n",
        "fig, ax = plt.subplots(1,2,figsize = (20,3))\n",
        "ax[0].plot(leverage_list)\n",
        "ax[1].plot(balance_list)"
      ],
      "metadata": {
        "id": "J4sQ98YH45FS"
      },
      "execution_count": null,
      "outputs": []
    },
    {
      "cell_type": "code",
      "source": [
        ""
      ],
      "metadata": {
        "id": "GDeFl3TQ7V-8"
      },
      "execution_count": null,
      "outputs": []
    }
  ],
  "metadata": {
    "colab": {
      "name": "stochastics2",
      "provenance": [],
      "include_colab_link": true
    },
    "kernelspec": {
      "display_name": "Python 3",
      "name": "python3"
    }
  },
  "nbformat": 4,
  "nbformat_minor": 0
}