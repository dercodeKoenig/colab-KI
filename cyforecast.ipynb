{
  "cells": [
    {
      "cell_type": "markdown",
      "metadata": {
        "id": "view-in-github",
        "colab_type": "text"
      },
      "source": [
        "<a href=\"https://colab.research.google.com/github/dercodeKoenig/colab-KI/blob/main/cyforecast.ipynb\" target=\"_parent\"><img src=\"https://colab.research.google.com/assets/colab-badge.svg\" alt=\"Open In Colab\"/></a>"
      ]
    },
    {
      "cell_type": "code",
      "source": [
        "from google.colab import drive\n",
        "drive.mount('/content/drive')"
      ],
      "metadata": {
        "colab": {
          "base_uri": "https://localhost:8080/"
        },
        "id": "VgvFzNntuKWZ",
        "outputId": "85b1ee9e-ea68-4d34-c6c8-1e39faee6e65"
      },
      "id": "VgvFzNntuKWZ",
      "execution_count": 1,
      "outputs": [
        {
          "output_type": "stream",
          "name": "stdout",
          "text": [
            "Drive already mounted at /content/drive; to attempt to forcibly remount, call drive.mount(\"/content/drive\", force_remount=True).\n"
          ]
        }
      ]
    },
    {
      "cell_type": "code",
      "source": [
        "%%writefile kaggle.json\n",
        "{\"username\":\"rammellutz\",\"key\":\"bc9c85fb114c7ca4f3f046207998604c\"}"
      ],
      "metadata": {
        "colab": {
          "base_uri": "https://localhost:8080/"
        },
        "id": "BoEA6vQ9TQFK",
        "outputId": "267d5e3e-6534-4aa4-c9f6-ae3997558c5e"
      },
      "id": "BoEA6vQ9TQFK",
      "execution_count": 2,
      "outputs": [
        {
          "output_type": "stream",
          "name": "stdout",
          "text": [
            "Writing kaggle.json\n"
          ]
        }
      ]
    },
    {
      "cell_type": "code",
      "source": [
        "!mkdir /root/.kaggle\n",
        "!mv kaggle.json /root/.kaggle/kaggle.json\n",
        "!kaggle datasets download -d bpwqsdd/ethusdt01012018\n",
        "!unzip ethusdt01012018.zip\n",
        "!mkdir input\n",
        "!mv *.npy input/"
      ],
      "metadata": {
        "id": "mejmAkjvTWB9"
      },
      "id": "mejmAkjvTWB9",
      "execution_count": 3,
      "outputs": []
    },
    {
      "cell_type": "code",
      "execution_count": 1,
      "id": "be1d1314-4381-4eaa-a1e2-dd0cfbc6e495",
      "metadata": {
        "id": "be1d1314-4381-4eaa-a1e2-dd0cfbc6e495"
      },
      "outputs": [],
      "source": [
        "from IPython.display import clear_output\n",
        "import numpy as np\n",
        "import tensorflow as tf\n",
        "import copy\n",
        "import matplotlib.pyplot as plt\n",
        "import time\n",
        "from tqdm.notebook import tqdm"
      ]
    },
    {
      "cell_type": "code",
      "execution_count": 2,
      "id": "80285bce-54c0-4cc2-9ef9-78e810e3929f",
      "metadata": {
        "colab": {
          "base_uri": "https://localhost:8080/"
        },
        "id": "80285bce-54c0-4cc2-9ef9-78e810e3929f",
        "outputId": "473effe3-8a81-48f2-a216-d3dbe4cb927d"
      },
      "outputs": [
        {
          "output_type": "stream",
          "name": "stdout",
          "text": [
            "72 symbols found\n",
            "woking on ETHUSDT\n"
          ]
        }
      ],
      "source": [
        "seq_len = int(24*3*60)\n",
        "batch_size = 20*8\n",
        "buffer_size = 20\n",
        "\n",
        "learnrate = 0.0001\n",
        "looks_in_future = 30\n",
        "\n",
        "datadir = \"input/\"\n",
        "\n",
        "valid_symbols = ['ETHUSDT', 'AAVEUSDT', 'ADAUSDT', 'ADXUSDT', 'AIONUSDT', 'AVAXUSDT', 'AXSUSDT', 'BATUSDT', 'BLZUSDT', 'BNBUSDT', 'BNTUSDT', 'CHRUSDT', 'CVCUSDT', 'DASHUSDT', 'DATAUSDT', 'DENTUSDT', 'DEXEUSDT', 'DOTUSDT', 'ELFUSDT', 'ENJUSDT', 'EOSUSDT', 'ETCUSDT', 'FIROUSDT', 'FTMUSDT', 'FUNUSDT', 'GALAUSDT', 'GHSTUSDT', 'GRTUSDT', 'GXSUSDT', 'HOTUSDT', 'ICXUSDT', 'IOSTUSDT', 'IOTAUSDT', 'IOTXUSDT', 'KEYUSDT', 'KMDUSDT', 'KNCUSDT', 'LINKUSDT', 'LRCUSDT', 'LSKUSDT', 'LTCUSDT', 'MANAUSDT', 'MATICUSDT', 'MFTUSDT', 'MTLUSDT', 'NANOUSDT', 'NEOUSDT', 'OMGUSDT', 'ONTUSDT', 'POWRUSDT', 'PUNDIXUSDT', 'REPUSDT', 'RLCUSDT', 'SANDUSDT', 'SCUSDT', 'SOLUSDT', 'STRAXUSDT', 'THETAUSDT', 'TRXUSDT', 'VETUSDT', 'VGXUSDT', 'WANUSDT', 'WAVESUSDT', 'XEMUSDT', 'XLMUSDT', 'XMRUSDT', 'XRPUSDT', 'XVGUSDT', 'ZECUSDT', 'ZENUSDT', 'ZILUSDT', 'ZRXUSDT']\n",
        "\n",
        "print(len(valid_symbols),\"symbols found\")\n",
        "symbol = valid_symbols[0]\n",
        "print(\"woking on\", symbol)"
      ]
    },
    {
      "cell_type": "code",
      "execution_count": 8,
      "id": "a2d74b80-a65c-429b-9184-d204f819e085",
      "metadata": {
        "colab": {
          "base_uri": "https://localhost:8080/"
        },
        "id": "a2d74b80-a65c-429b-9184-d204f819e085",
        "outputId": "60fddafd-481c-40ed-c22d-7d393a7d2465"
      },
      "outputs": [
        {
          "output_type": "stream",
          "name": "stdout",
          "text": [
            "loaded: (2077934, 7)\n"
          ]
        }
      ],
      "source": [
        "npd = np.load(datadir+symbol+\".npy\",allow_pickle=True)\n",
        "print(\"loaded:\", npd.shape)"
      ]
    },
    {
      "cell_type": "code",
      "execution_count": 9,
      "id": "9902bbaa-f1e1-4294-8043-4cee1967fe26",
      "metadata": {
        "colab": {
          "base_uri": "https://localhost:8080/",
          "height": 344,
          "referenced_widgets": [
            "0e07878c19a84cf5b55a9dfa0884f3d2",
            "e9526bb4a8554ce99e29422f1acba68b",
            "679d0507eb204a168fa8d25c8468b3b6",
            "705d604726c646fea8505e019357aaad",
            "0f81a1b1ab524e3e98352d320085a826",
            "0b081f477e2946e0a6c0c0a951621ba0",
            "afb0bd0315704c5bbe1bada642edf91c",
            "2a4f4396c4d0478b9ac716f62c0b90cc",
            "7b34a596a8224150afd116828c2b5518",
            "dd5e6d9fa8684d6ba8f2ec4ffddaf840",
            "bd79e63b57874445a33b8d4d1eb4abd0"
          ]
        },
        "id": "9902bbaa-f1e1-4294-8043-4cee1967fe26",
        "outputId": "d2ce6c74-1117-47c7-a1cd-3100c26384eb"
      },
      "outputs": [
        {
          "output_type": "display_data",
          "data": {
            "application/vnd.jupyter.widget-view+json": {
              "model_id": "0e07878c19a84cf5b55a9dfa0884f3d2",
              "version_minor": 0,
              "version_major": 2
            },
            "text/plain": [
              "  0%|          | 0/2077933 [00:00<?, ?it/s]"
            ]
          },
          "metadata": {}
        },
        {
          "output_type": "stream",
          "name": "stdout",
          "text": [
            "\n"
          ]
        },
        {
          "output_type": "display_data",
          "data": {
            "image/png": "[encoded data removed]",
            "text/plain": [
              "<Figure size 432x288 with 1 Axes>"
            ]
          },
          "metadata": {
            "needs_background": "light"
          }
        }
      ],
      "source": [
        "#for each entry we are calculating the maximum price this crypto reached until than\n",
        "all_time_high = []\n",
        "last_max_val = 0\n",
        "for i in tqdm(range(1,npd.shape[0])):\n",
        "    current_val = float(npd[i][3])\n",
        "    if(current_val > last_max_val):\n",
        "        last_max_val = current_val\n",
        "    \n",
        "    all_time_high.append(last_max_val)\n",
        "\n",
        "print(\"\")\n",
        "plt.title(\"all-time-high values for each entry\")\n",
        "plt.plot(all_time_high)\n",
        "plt.show()"
      ]
    },
    {
      "cell_type": "code",
      "execution_count": 10,
      "id": "0f0b7b09-fa5e-47ae-bd33-467939bc1225",
      "metadata": {
        "colab": {
          "base_uri": "https://localhost:8080/",
          "height": 67,
          "referenced_widgets": [
            "884d1e1e25d54737ac0319622331534b",
            "69b301df75634b4d94af7e57b5a18ac9",
            "b6e09852661b432e88089c0c26cce2c3",
            "097b0d19f5b24e398e09d4218506047c",
            "a8ea92d7aae046b4a98c9c67e0345cc4",
            "1c13b84ea91f4015a2c081699e217bda",
            "7f6edec758c64c01ac5f73fdcafd14bf",
            "778876d55eff4873a08e237e9dd3917f",
            "3c43a0dfe3ad4a38afad059d93fa8181",
            "874f3ee976034c21851162dde1c87087",
            "b5e66110191d4ee4a916ff60dc9b870c"
          ]
        },
        "id": "0f0b7b09-fa5e-47ae-bd33-467939bc1225",
        "outputId": "74270589-70e1-4658-a3dc-a45e7fcbd3d6"
      },
      "outputs": [
        {
          "output_type": "stream",
          "name": "stdout",
          "text": [
            "converting to relative data...\n"
          ]
        },
        {
          "output_type": "display_data",
          "data": {
            "application/vnd.jupyter.widget-view+json": {
              "model_id": "884d1e1e25d54737ac0319622331534b",
              "version_minor": 0,
              "version_major": 2
            },
            "text/plain": [
              "  0%|          | 0/2077933 [00:00<?, ?it/s]"
            ]
          },
          "metadata": {}
        }
      ],
      "source": [
        "npd_relative = []\n",
        "print(\"converting to relative data...\")\n",
        "\n",
        "prices_relative_to_ath_max = []\n",
        "prices_relative_to_ath_min = []\n",
        "\n",
        "relative_price_changes_max = []\n",
        "relative_price_changes_min = []\n",
        "\n",
        "for i in tqdm(range(npd.shape[0]-1)):\n",
        "    #changes\n",
        "    price_open  = (float(npd[i+1][2])-float(npd[i][2]))/float(npd[i][2])*10\n",
        "    price_high  = (float(npd[i+1][3])-float(npd[i][3]))/float(npd[i][3])*10\n",
        "    price_low   = (float(npd[i+1][4])-float(npd[i][4]))/float(npd[i][4])*10\n",
        "    price_close = (float(npd[i+1][5])-float(npd[i][5]))/float(npd[i][5])*10\n",
        "    volume = 0\n",
        "    if float(npd[i][6]) > 0:\n",
        "        volume = (float(npd[i+1][6])-float(npd[i][6]))/float(npd[i][6])\n",
        "        \n",
        "    #max/min price in price / ath\n",
        "    price_relative_ath_max = float(npd[i+1][3]) / all_time_high[i]\n",
        "    price_relative_ath_min = float(npd[i+1][4]) / all_time_high[i]\n",
        "    \n",
        "    prices_relative_to_ath_max.append(price_relative_ath_max)\n",
        "    prices_relative_to_ath_min.append(price_relative_ath_min)\n",
        "    relative_price_changes_min.append(price_high)\n",
        "    relative_price_changes_max.append(price_low)\n",
        "    \n",
        "    npd_relative.append((price_open, price_high, price_low, price_close, volume, price_relative_ath_max, price_relative_ath_min))\n",
        "    \n",
        "npd = np.array(npd_relative,dtype=\"float32\")"
      ]
    },
    {
      "cell_type": "code",
      "source": [
        "fig, (ax1,ax2) = plt.subplots(2,1, figsize=(15,5))\n",
        "ax1.set_title(\"relative high/low values\")\n",
        "ax1.plot(prices_relative_to_ath_min, color=\"red\")\n",
        "ax1.plot(prices_relative_to_ath_max, color=\"green\")\n",
        "\n",
        "ax2.set_title(\"changes in price (high/low)\")\n",
        "ax2.plot(relative_price_changes_min, color=\"red\")\n",
        "ax2.plot(relative_price_changes_max, color=\"green\")\n",
        "\n",
        "fig.show()"
      ],
      "metadata": {
        "colab": {
          "base_uri": "https://localhost:8080/",
          "height": 349
        },
        "id": "UBfsru-vetiL",
        "outputId": "6a3a46b3-f8b9-489a-9fa1-dc5884feb238"
      },
      "id": "UBfsru-vetiL",
      "execution_count": 11,
      "outputs": [
        {
          "output_type": "display_data",
          "data": {
            "image/png": "[encoded data removed]",
            "text/plain": [
              "<Figure size 1080x360 with 2 Axes>"
            ]
          },
          "metadata": {
            "needs_background": "light"
          }
        }
      ]
    },
    {
      "cell_type": "code",
      "execution_count": 19,
      "id": "cafccde5-c4ee-4ce7-ac7c-4ad5cc531b46",
      "metadata": {
        "id": "cafccde5-c4ee-4ce7-ac7c-4ad5cc531b46"
      },
      "outputs": [],
      "source": [
        "def unpack_batch(batch):\n",
        "    X=[]\n",
        "    Y=[]\n",
        "    for i in batch:\n",
        "            X.append(i[0])\n",
        "            Y.append(i[1])\n",
        "    X = np.array(X,dtype=\"float32\")\n",
        "    Y = np.array(Y,dtype=\"float32\")\n",
        "    \n",
        "    return (X, Y)\n",
        "          \n",
        "def array_to_samples(ar):\n",
        "    samples = []\n",
        "    l = ar.shape[0]-seq_len-looks_in_future\n",
        "    \n",
        "    for i in range(l):\n",
        "        array_future_data = ar[i+seq_len+1:i+seq_len+1+looks_in_future]\n",
        "        maxval = np.amax(array_future_data, axis=0)[5]\n",
        "        minval = np.amin(array_future_data, axis=0)[6]\n",
        "        \n",
        "        maxval_relative = (maxval - ar[i+seq_len][5]) /ar[i+seq_len][5]*10\n",
        "        minval_relative = (minval - ar[i+seq_len][6]) /ar[i+seq_len][6]*10\n",
        "        \n",
        "        data = (ar[i:i+seq_len],(maxval_relative,minval_relative))\n",
        "        samples.append(np.array(data,dtype=object))\n",
        "    \n",
        "    return np.array(samples,dtype=object)"
      ]
    },
    {
      "cell_type": "code",
      "source": [
        "resolver = tf.distribute.cluster_resolver.TPUClusterResolver(tpu='')\n",
        "tf.config.experimental_connect_to_cluster(resolver)\n",
        "tf.tpu.experimental.initialize_tpu_system(resolver)\n",
        "strategy = tf.distribute.TPUStrategy(resolver)"
      ],
      "metadata": {
        "colab": {
          "base_uri": "https://localhost:8080/"
        },
        "id": "mdbKVtouVWM6",
        "outputId": "1e0440b8-69ba-40cc-fc22-e2a5cd413df2"
      },
      "id": "mdbKVtouVWM6",
      "execution_count": 20,
      "outputs": [
        {
          "output_type": "stream",
          "name": "stdout",
          "text": [
            "INFO:tensorflow:Deallocate tpu buffers before initializing tpu system.\n"
          ]
        },
        {
          "output_type": "stream",
          "name": "stderr",
          "text": [
            "INFO:tensorflow:Deallocate tpu buffers before initializing tpu system.\n"
          ]
        },
        {
          "output_type": "stream",
          "name": "stdout",
          "text": [
            "WARNING:tensorflow:TPU system grpc://10.54.127.90:8470 has already been initialized. Reinitializing the TPU can cause previously created variables on TPU to be lost.\n"
          ]
        },
        {
          "output_type": "stream",
          "name": "stderr",
          "text": [
            "WARNING:tensorflow:TPU system grpc://10.54.127.90:8470 has already been initialized. Reinitializing the TPU can cause previously created variables on TPU to be lost.\n"
          ]
        },
        {
          "output_type": "stream",
          "name": "stdout",
          "text": [
            "INFO:tensorflow:Initializing the TPU system: grpc://10.54.127.90:8470\n"
          ]
        },
        {
          "output_type": "stream",
          "name": "stderr",
          "text": [
            "INFO:tensorflow:Initializing the TPU system: grpc://10.54.127.90:8470\n"
          ]
        },
        {
          "output_type": "stream",
          "name": "stdout",
          "text": [
            "INFO:tensorflow:Finished initializing TPU system.\n"
          ]
        },
        {
          "output_type": "stream",
          "name": "stderr",
          "text": [
            "INFO:tensorflow:Finished initializing TPU system.\n"
          ]
        },
        {
          "output_type": "stream",
          "name": "stdout",
          "text": [
            "INFO:tensorflow:Found TPU system:\n"
          ]
        },
        {
          "output_type": "stream",
          "name": "stderr",
          "text": [
            "INFO:tensorflow:Found TPU system:\n"
          ]
        },
        {
          "output_type": "stream",
          "name": "stdout",
          "text": [
            "INFO:tensorflow:*** Num TPU Cores: 8\n"
          ]
        },
        {
          "output_type": "stream",
          "name": "stderr",
          "text": [
            "INFO:tensorflow:*** Num TPU Cores: 8\n"
          ]
        },
        {
          "output_type": "stream",
          "name": "stdout",
          "text": [
            "INFO:tensorflow:*** Num TPU Workers: 1\n"
          ]
        },
        {
          "output_type": "stream",
          "name": "stderr",
          "text": [
            "INFO:tensorflow:*** Num TPU Workers: 1\n"
          ]
        },
        {
          "output_type": "stream",
          "name": "stdout",
          "text": [
            "INFO:tensorflow:*** Num TPU Cores Per Worker: 8\n"
          ]
        },
        {
          "output_type": "stream",
          "name": "stderr",
          "text": [
            "INFO:tensorflow:*** Num TPU Cores Per Worker: 8\n"
          ]
        },
        {
          "output_type": "stream",
          "name": "stdout",
          "text": [
            "INFO:tensorflow:*** Available Device: _DeviceAttributes(/job:localhost/replica:0/task:0/device:CPU:0, CPU, 0, 0)\n"
          ]
        },
        {
          "output_type": "stream",
          "name": "stderr",
          "text": [
            "INFO:tensorflow:*** Available Device: _DeviceAttributes(/job:localhost/replica:0/task:0/device:CPU:0, CPU, 0, 0)\n"
          ]
        },
        {
          "output_type": "stream",
          "name": "stdout",
          "text": [
            "INFO:tensorflow:*** Available Device: _DeviceAttributes(/job:worker/replica:0/task:0/device:CPU:0, CPU, 0, 0)\n"
          ]
        },
        {
          "output_type": "stream",
          "name": "stderr",
          "text": [
            "INFO:tensorflow:*** Available Device: _DeviceAttributes(/job:worker/replica:0/task:0/device:CPU:0, CPU, 0, 0)\n"
          ]
        },
        {
          "output_type": "stream",
          "name": "stdout",
          "text": [
            "INFO:tensorflow:*** Available Device: _DeviceAttributes(/job:worker/replica:0/task:0/device:TPU:0, TPU, 0, 0)\n"
          ]
        },
        {
          "output_type": "stream",
          "name": "stderr",
          "text": [
            "INFO:tensorflow:*** Available Device: _DeviceAttributes(/job:worker/replica:0/task:0/device:TPU:0, TPU, 0, 0)\n"
          ]
        },
        {
          "output_type": "stream",
          "name": "stdout",
          "text": [
            "INFO:tensorflow:*** Available Device: _DeviceAttributes(/job:worker/replica:0/task:0/device:TPU:1, TPU, 0, 0)\n"
          ]
        },
        {
          "output_type": "stream",
          "name": "stderr",
          "text": [
            "INFO:tensorflow:*** Available Device: _DeviceAttributes(/job:worker/replica:0/task:0/device:TPU:1, TPU, 0, 0)\n"
          ]
        },
        {
          "output_type": "stream",
          "name": "stdout",
          "text": [
            "INFO:tensorflow:*** Available Device: _DeviceAttributes(/job:worker/replica:0/task:0/device:TPU:2, TPU, 0, 0)\n"
          ]
        },
        {
          "output_type": "stream",
          "name": "stderr",
          "text": [
            "INFO:tensorflow:*** Available Device: _DeviceAttributes(/job:worker/replica:0/task:0/device:TPU:2, TPU, 0, 0)\n"
          ]
        },
        {
          "output_type": "stream",
          "name": "stdout",
          "text": [
            "INFO:tensorflow:*** Available Device: _DeviceAttributes(/job:worker/replica:0/task:0/device:TPU:3, TPU, 0, 0)\n"
          ]
        },
        {
          "output_type": "stream",
          "name": "stderr",
          "text": [
            "INFO:tensorflow:*** Available Device: _DeviceAttributes(/job:worker/replica:0/task:0/device:TPU:3, TPU, 0, 0)\n"
          ]
        },
        {
          "output_type": "stream",
          "name": "stdout",
          "text": [
            "INFO:tensorflow:*** Available Device: _DeviceAttributes(/job:worker/replica:0/task:0/device:TPU:4, TPU, 0, 0)\n"
          ]
        },
        {
          "output_type": "stream",
          "name": "stderr",
          "text": [
            "INFO:tensorflow:*** Available Device: _DeviceAttributes(/job:worker/replica:0/task:0/device:TPU:4, TPU, 0, 0)\n"
          ]
        },
        {
          "output_type": "stream",
          "name": "stdout",
          "text": [
            "INFO:tensorflow:*** Available Device: _DeviceAttributes(/job:worker/replica:0/task:0/device:TPU:5, TPU, 0, 0)\n"
          ]
        },
        {
          "output_type": "stream",
          "name": "stderr",
          "text": [
            "INFO:tensorflow:*** Available Device: _DeviceAttributes(/job:worker/replica:0/task:0/device:TPU:5, TPU, 0, 0)\n"
          ]
        },
        {
          "output_type": "stream",
          "name": "stdout",
          "text": [
            "INFO:tensorflow:*** Available Device: _DeviceAttributes(/job:worker/replica:0/task:0/device:TPU:6, TPU, 0, 0)\n"
          ]
        },
        {
          "output_type": "stream",
          "name": "stderr",
          "text": [
            "INFO:tensorflow:*** Available Device: _DeviceAttributes(/job:worker/replica:0/task:0/device:TPU:6, TPU, 0, 0)\n"
          ]
        },
        {
          "output_type": "stream",
          "name": "stdout",
          "text": [
            "INFO:tensorflow:*** Available Device: _DeviceAttributes(/job:worker/replica:0/task:0/device:TPU:7, TPU, 0, 0)\n"
          ]
        },
        {
          "output_type": "stream",
          "name": "stderr",
          "text": [
            "INFO:tensorflow:*** Available Device: _DeviceAttributes(/job:worker/replica:0/task:0/device:TPU:7, TPU, 0, 0)\n"
          ]
        },
        {
          "output_type": "stream",
          "name": "stdout",
          "text": [
            "INFO:tensorflow:*** Available Device: _DeviceAttributes(/job:worker/replica:0/task:0/device:TPU_SYSTEM:0, TPU_SYSTEM, 0, 0)\n"
          ]
        },
        {
          "output_type": "stream",
          "name": "stderr",
          "text": [
            "INFO:tensorflow:*** Available Device: _DeviceAttributes(/job:worker/replica:0/task:0/device:TPU_SYSTEM:0, TPU_SYSTEM, 0, 0)\n"
          ]
        },
        {
          "output_type": "stream",
          "name": "stdout",
          "text": [
            "INFO:tensorflow:*** Available Device: _DeviceAttributes(/job:worker/replica:0/task:0/device:XLA_CPU:0, XLA_CPU, 0, 0)\n"
          ]
        },
        {
          "output_type": "stream",
          "name": "stderr",
          "text": [
            "INFO:tensorflow:*** Available Device: _DeviceAttributes(/job:worker/replica:0/task:0/device:XLA_CPU:0, XLA_CPU, 0, 0)\n"
          ]
        }
      ]
    },
    {
      "cell_type": "code",
      "execution_count": 21,
      "id": "922f91c3-7059-420e-92ee-48d343b40758",
      "metadata": {
        "id": "922f91c3-7059-420e-92ee-48d343b40758"
      },
      "outputs": [],
      "source": [
        "with strategy.scope():\n",
        "  l_in = tf.keras.layers.Input(shape=(seq_len,7), batch_size=batch_size)\n",
        "  c1 = tf.keras.layers.Conv1D(64,16,activation=\"relu\")(l_in)\n",
        "  c2 = tf.keras.layers.Conv1D(128,8,activation=\"relu\")(c1)\n",
        "  c3 = tf.keras.layers.Conv1D(256,4,activation=\"relu\")(c2)\n",
        "  rn1 = tf.keras.layers.GRU(128, return_sequences=True)(c3)\n",
        "  rn2 = tf.keras.layers.GRU(128, return_sequences=True)(rn1)\n",
        "  rn3 = tf.keras.layers.GRU(128, return_sequences=False)(rn2)\n",
        "  flat = tf.keras.layers.Flatten()(rn3)\n",
        "  d1 = tf.keras.layers.Dense(256,activation=\"relu\")(flat)\n",
        "  d2 = tf.keras.layers.Dense(128,activation=\"relu\")(d1)\n",
        "  d3 = tf.keras.layers.Dense(64,activation=\"relu\")(d2)\n",
        "  l_out = tf.keras.layers.Dense(2)(d3)\n",
        "\n",
        "  model = tf.keras.Model(l_in, l_out)\n",
        "\n",
        "\n",
        "  training_loss = tf.keras.metrics.Mean('training_loss', dtype=tf.float32)\n",
        "\n",
        "#model.summary()"
      ]
    },
    {
      "cell_type": "code",
      "source": [
        "@tf.function\n",
        "def train(X,Y):\n",
        "  with tf.GradientTape() as tape:\n",
        "        outputs = model(X)\n",
        "        loss = tf.nn.compute_average_loss(tf.keras.losses.mse(Y,outputs), global_batch_size=batch_size)\n",
        "    \n",
        "  gradients = tape.gradient(loss,model.trainable_variables)\n",
        "  opt.apply_gradients(zip(gradients,model.trainable_variables))\n",
        "  training_loss.update_state(loss * strategy.num_replicas_in_sync)\n"
      ],
      "metadata": {
        "id": "zcvoYVC8ieA_"
      },
      "id": "zcvoYVC8ieA_",
      "execution_count": 22,
      "outputs": []
    },
    {
      "cell_type": "code",
      "execution_count": 23,
      "id": "62f5adae-868f-4347-ba5b-50bbb4d196e1",
      "metadata": {
        "colab": {
          "base_uri": "https://localhost:8080/"
        },
        "id": "62f5adae-868f-4347-ba5b-50bbb4d196e1",
        "outputId": "7bd9969f-f2b8-4286-e409-53115736a126"
      },
      "outputs": [
        {
          "output_type": "stream",
          "name": "stdout",
          "text": [
            "number of batches: 12959\n",
            "number of samples: 2073583\n",
            "647 total buffers with 19 batches in last buffer\n"
          ]
        }
      ],
      "source": [
        "samples_len = npd.shape[0] - seq_len - looks_in_future\n",
        "batch_num = int(samples_len / batch_size)\n",
        "print(\"number of batches:\",batch_num)\n",
        "print(\"number of samples:\",samples_len)\n",
        "\n",
        "run_nums = int(batch_num / buffer_size)\n",
        "last_batches = int(batch_num % buffer_size)\n",
        "print(run_nums, \"total buffers with\",last_batches,\"batches in last buffer\")\n",
        "\n",
        "opt = tf.keras.optimizers.Adam(learnrate)"
      ]
    },
    {
      "cell_type": "code",
      "source": [
        "losses = []\n",
        "t0 = time.time()\n",
        "for s in range(run_nums):\n",
        "\n",
        "    print(\"calculating new buffer...\")\n",
        "    if(s < run_nums - 1):\n",
        "      buffer_len = buffer_size * batch_size + seq_len + looks_in_future\n",
        "    else:\n",
        "      buffer_len = last_batches * batch_size + seq_len + looks_in_future\n",
        "\n",
        "    buffer_start = s * buffer_size * batch_size\n",
        "    buffer_end =  s * buffer_size * batch_size + buffer_len\n",
        "\n",
        "    curr_batch = npd[buffer_start:buffer_end]\n",
        "    samples = array_to_samples(curr_batch)\n",
        "    X, Y = unpack_batch(samples)\n",
        "    \n",
        "    print(\"converting to dataset...\")\n",
        "    X_dataset = tf.data.Dataset.from_tensor_slices((X)).batch(batch_size)\n",
        "    X_dataset = strategy.experimental_distribute_dataset(X_dataset)\n",
        "\n",
        "    Y_dataset = tf.data.Dataset.from_tensor_slices((Y)).batch(batch_size) \n",
        "    Y_dataset = strategy.experimental_distribute_dataset(Y_dataset)\n",
        "\n",
        "    print(\"start training...\")\n",
        "    for (X_batch,Y_batch) in zip(X_dataset,Y_dataset):\n",
        "      strategy.run(train,args=(X_batch,Y_batch))\n",
        "      losses.append(training_loss.result().numpy())\n",
        "    \n",
        "    clear_output()\n",
        "    t1 = time.time()\n",
        "    past = t1-t0\n",
        "    t0 = t1\n",
        "    print(\"\\r\",s,\"/\",run_nums, \":\", str(past)+\"s   (\"+str((run_nums-s)*past)+\"s left)\", end=\"\")\n",
        "\n",
        "    plt.figure(figsize=(22,4))\n",
        "    plt.plot(losses)\n",
        "    plt.show()\n",
        "\n",
        "\n",
        "clear_output()"
      ],
      "metadata": {
        "colab": {
          "base_uri": "https://localhost:8080/",
          "height": 287
        },
        "id": "j3xGgkzPlI1K",
        "outputId": "5a2d633f-cfbc-4b6d-e4f0-945af95b6d67"
      },
      "id": "j3xGgkzPlI1K",
      "execution_count": null,
      "outputs": [
        {
          "output_type": "stream",
          "name": "stdout",
          "text": [
            "\r 7 / 647 : 14.032057523727417s   (8980.516815185547s left)"
          ]
        },
        {
          "output_type": "display_data",
          "data": {
            "image/png": "[encoded data removed]",
            "text/plain": [
              "<Figure size 1584x288 with 1 Axes>"
            ]
          },
          "metadata": {
            "needs_background": "light"
          }
        },
        {
          "output_type": "stream",
          "name": "stdout",
          "text": [
            "calculating new buffer...\n",
            "converting to dataset...\n"
          ]
        }
      ]
    },
    {
      "cell_type": "code",
      "execution_count": null,
      "id": "565a7c70-2b9f-4663-8d02-4cd6317e0741",
      "metadata": {
        "id": "565a7c70-2b9f-4663-8d02-4cd6317e0741"
      },
      "outputs": [],
      "source": [
        "plt.figure(figsize=(22,4))\n",
        "plt.plot(losses)\n",
        "plt.show()\n",
        "\n",
        "model.save_weights(\"/content/drive/MyDrive/weights/\"+symbol+\".h5\", overwrite=True)\n",
        "np.save(\"/content/drive/MyDrive/losses/\"+symbol,np.array(losses))\n"
      ]
    },
    {
      "cell_type": "code",
      "source": [
        ""
      ],
      "metadata": {
        "id": "6_pDbxphuFHU"
      },
      "id": "6_pDbxphuFHU",
      "execution_count": 93,
      "outputs": []
    },
    {
      "cell_type": "code",
      "execution_count": null,
      "id": "d4ac1e24-c1dc-44f4-8d51-10a0bfd45292",
      "metadata": {
        "id": "d4ac1e24-c1dc-44f4-8d51-10a0bfd45292"
      },
      "outputs": [],
      "source": [
        ""
      ]
    }
  ],
  "metadata": {
    "kernelspec": {
      "display_name": "Python 3",
      "language": "python",
      "name": "python3"
    },
    "language_info": {
      "codemirror_mode": {
        "name": "ipython",
        "version": 3
      },
      "file_extension": ".py",
      "mimetype": "text/x-python",
      "name": "python",
      "nbconvert_exporter": "python",
      "pygments_lexer": "ipython3",
      "version": "3.6.8"
    },
    "colab": {
      "name": "cyforecast",
      "provenance": [],
      "collapsed_sections": [],
      "include_colab_link": true
    },
    "accelerator": "TPU",
    "widgets": {
      "application/vnd.jupyter.widget-state+json": {
        "0e07878c19a84cf5b55a9dfa0884f3d2": {
          "model_module": "@jupyter-widgets/controls",
          "model_name": "HBoxModel",
          "model_module_version": "1.5.0",
          "state": {
            "_view_name": "HBoxView",
            "_dom_classes": [],
            "_model_name": "HBoxModel",
            "_view_module": "@jupyter-widgets/controls",
            "_model_module_version": "1.5.0",
            "_view_count": null,
            "_view_module_version": "1.5.0",
            "box_style": "",
            "layout": "IPY_MODEL_e9526bb4a8554ce99e29422f1acba68b",
            "_model_module": "@jupyter-widgets/controls",
            "children": [
              "IPY_MODEL_679d0507eb204a168fa8d25c8468b3b6",
              "IPY_MODEL_705d604726c646fea8505e019357aaad",
              "IPY_MODEL_0f81a1b1ab524e3e98352d320085a826"
            ]
          }
        },
        "e9526bb4a8554ce99e29422f1acba68b": {
          "model_module": "@jupyter-widgets/base",
          "model_name": "LayoutModel",
          "model_module_version": "1.2.0",
          "state": {
            "_view_name": "LayoutView",
            "grid_template_rows": null,
            "right": null,
            "justify_content": null,
            "_view_module": "@jupyter-widgets/base",
            "overflow": null,
            "_model_module_version": "1.2.0",
            "_view_count": null,
            "flex_flow": null,
            "width": null,
            "min_width": null,
            "border": null,
            "align_items": null,
            "bottom": null,
            "_model_module": "@jupyter-widgets/base",
            "top": null,
            "grid_column": null,
            "overflow_y": null,
            "overflow_x": null,
            "grid_auto_flow": null,
            "grid_area": null,
            "grid_template_columns": null,
            "flex": null,
            "_model_name": "LayoutModel",
            "justify_items": null,
            "grid_row": null,
            "max_height": null,
            "align_content": null,
            "visibility": null,
            "align_self": null,
            "height": null,
            "min_height": null,
            "padding": null,
            "grid_auto_rows": null,
            "grid_gap": null,
            "max_width": null,
            "order": null,
            "_view_module_version": "1.2.0",
            "grid_template_areas": null,
            "object_position": null,
            "object_fit": null,
            "grid_auto_columns": null,
            "margin": null,
            "display": null,
            "left": null
          }
        },
        "679d0507eb204a168fa8d25c8468b3b6": {
          "model_module": "@jupyter-widgets/controls",
          "model_name": "HTMLModel",
          "model_module_version": "1.5.0",
          "state": {
            "_view_name": "HTMLView",
            "style": "IPY_MODEL_0b081f477e2946e0a6c0c0a951621ba0",
            "_dom_classes": [],
            "description": "",
            "_model_name": "HTMLModel",
            "placeholder": "​",
            "_view_module": "@jupyter-widgets/controls",
            "_model_module_version": "1.5.0",
            "value": "100%",
            "_view_count": null,
            "_view_module_version": "1.5.0",
            "description_tooltip": null,
            "_model_module": "@jupyter-widgets/controls",
            "layout": "IPY_MODEL_afb0bd0315704c5bbe1bada642edf91c"
          }
        },
        "705d604726c646fea8505e019357aaad": {
          "model_module": "@jupyter-widgets/controls",
          "model_name": "FloatProgressModel",
          "model_module_version": "1.5.0",
          "state": {
            "_view_name": "ProgressView",
            "style": "IPY_MODEL_2a4f4396c4d0478b9ac716f62c0b90cc",
            "_dom_classes": [],
            "description": "",
            "_model_name": "FloatProgressModel",
            "bar_style": "success",
            "max": 2077933,
            "_view_module": "@jupyter-widgets/controls",
            "_model_module_version": "1.5.0",
            "value": 2077933,
            "_view_count": null,
            "_view_module_version": "1.5.0",
            "orientation": "horizontal",
            "min": 0,
            "description_tooltip": null,
            "_model_module": "@jupyter-widgets/controls",
            "layout": "IPY_MODEL_7b34a596a8224150afd116828c2b5518"
          }
        },
        "0f81a1b1ab524e3e98352d320085a826": {
          "model_module": "@jupyter-widgets/controls",
          "model_name": "HTMLModel",
          "model_module_version": "1.5.0",
          "state": {
            "_view_name": "HTMLView",
            "style": "IPY_MODEL_dd5e6d9fa8684d6ba8f2ec4ffddaf840",
            "_dom_classes": [],
            "description": "",
            "_model_name": "HTMLModel",
            "placeholder": "​",
            "_view_module": "@jupyter-widgets/controls",
            "_model_module_version": "1.5.0",
            "value": " 2077933/2077933 [00:02&lt;00:00, 784360.49it/s]",
            "_view_count": null,
            "_view_module_version": "1.5.0",
            "description_tooltip": null,
            "_model_module": "@jupyter-widgets/controls",
            "layout": "IPY_MODEL_bd79e63b57874445a33b8d4d1eb4abd0"
          }
        },
        "0b081f477e2946e0a6c0c0a951621ba0": {
          "model_module": "@jupyter-widgets/controls",
          "model_name": "DescriptionStyleModel",
          "model_module_version": "1.5.0",
          "state": {
            "_view_name": "StyleView",
            "_model_name": "DescriptionStyleModel",
            "description_width": "",
            "_view_module": "@jupyter-widgets/base",
            "_model_module_version": "1.5.0",
            "_view_count": null,
            "_view_module_version": "1.2.0",
            "_model_module": "@jupyter-widgets/controls"
          }
        },
        "afb0bd0315704c5bbe1bada642edf91c": {
          "model_module": "@jupyter-widgets/base",
          "model_name": "LayoutModel",
          "model_module_version": "1.2.0",
          "state": {
            "_view_name": "LayoutView",
            "grid_template_rows": null,
            "right": null,
            "justify_content": null,
            "_view_module": "@jupyter-widgets/base",
            "overflow": null,
            "_model_module_version": "1.2.0",
            "_view_count": null,
            "flex_flow": null,
            "width": null,
            "min_width": null,
            "border": null,
            "align_items": null,
            "bottom": null,
            "_model_module": "@jupyter-widgets/base",
            "top": null,
            "grid_column": null,
            "overflow_y": null,
            "overflow_x": null,
            "grid_auto_flow": null,
            "grid_area": null,
            "grid_template_columns": null,
            "flex": null,
            "_model_name": "LayoutModel",
            "justify_items": null,
            "grid_row": null,
            "max_height": null,
            "align_content": null,
            "visibility": null,
            "align_self": null,
            "height": null,
            "min_height": null,
            "padding": null,
            "grid_auto_rows": null,
            "grid_gap": null,
            "max_width": null,
            "order": null,
            "_view_module_version": "1.2.0",
            "grid_template_areas": null,
            "object_position": null,
            "object_fit": null,
            "grid_auto_columns": null,
            "margin": null,
            "display": null,
            "left": null
          }
        },
        "2a4f4396c4d0478b9ac716f62c0b90cc": {
          "model_module": "@jupyter-widgets/controls",
          "model_name": "ProgressStyleModel",
          "model_module_version": "1.5.0",
          "state": {
            "_view_name": "StyleView",
            "_model_name": "ProgressStyleModel",
            "description_width": "",
            "_view_module": "@jupyter-widgets/base",
            "_model_module_version": "1.5.0",
            "_view_count": null,
            "_view_module_version": "1.2.0",
            "bar_color": null,
            "_model_module": "@jupyter-widgets/controls"
          }
        },
        "7b34a596a8224150afd116828c2b5518": {
          "model_module": "@jupyter-widgets/base",
          "model_name": "LayoutModel",
          "model_module_version": "1.2.0",
          "state": {
            "_view_name": "LayoutView",
            "grid_template_rows": null,
            "right": null,
            "justify_content": null,
            "_view_module": "@jupyter-widgets/base",
            "overflow": null,
            "_model_module_version": "1.2.0",
            "_view_count": null,
            "flex_flow": null,
            "width": null,
            "min_width": null,
            "border": null,
            "align_items": null,
            "bottom": null,
            "_model_module": "@jupyter-widgets/base",
            "top": null,
            "grid_column": null,
            "overflow_y": null,
            "overflow_x": null,
            "grid_auto_flow": null,
            "grid_area": null,
            "grid_template_columns": null,
            "flex": null,
            "_model_name": "LayoutModel",
            "justify_items": null,
            "grid_row": null,
            "max_height": null,
            "align_content": null,
            "visibility": null,
            "align_self": null,
            "height": null,
            "min_height": null,
            "padding": null,
            "grid_auto_rows": null,
            "grid_gap": null,
            "max_width": null,
            "order": null,
            "_view_module_version": "1.2.0",
            "grid_template_areas": null,
            "object_position": null,
            "object_fit": null,
            "grid_auto_columns": null,
            "margin": null,
            "display": null,
            "left": null
          }
        },
        "dd5e6d9fa8684d6ba8f2ec4ffddaf840": {
          "model_module": "@jupyter-widgets/controls",
          "model_name": "DescriptionStyleModel",
          "model_module_version": "1.5.0",
          "state": {
            "_view_name": "StyleView",
            "_model_name": "DescriptionStyleModel",
            "description_width": "",
            "_view_module": "@jupyter-widgets/base",
            "_model_module_version": "1.5.0",
            "_view_count": null,
            "_view_module_version": "1.2.0",
            "_model_module": "@jupyter-widgets/controls"
          }
        },
        "bd79e63b57874445a33b8d4d1eb4abd0": {
          "model_module": "@jupyter-widgets/base",
          "model_name": "LayoutModel",
          "model_module_version": "1.2.0",
          "state": {
            "_view_name": "LayoutView",
            "grid_template_rows": null,
            "right": null,
            "justify_content": null,
            "_view_module": "@jupyter-widgets/base",
            "overflow": null,
            "_model_module_version": "1.2.0",
            "_view_count": null,
            "flex_flow": null,
            "width": null,
            "min_width": null,
            "border": null,
            "align_items": null,
            "bottom": null,
            "_model_module": "@jupyter-widgets/base",
            "top": null,
            "grid_column": null,
            "overflow_y": null,
            "overflow_x": null,
            "grid_auto_flow": null,
            "grid_area": null,
            "grid_template_columns": null,
            "flex": null,
            "_model_name": "LayoutModel",
            "justify_items": null,
            "grid_row": null,
            "max_height": null,
            "align_content": null,
            "visibility": null,
            "align_self": null,
            "height": null,
            "min_height": null,
            "padding": null,
            "grid_auto_rows": null,
            "grid_gap": null,
            "max_width": null,
            "order": null,
            "_view_module_version": "1.2.0",
            "grid_template_areas": null,
            "object_position": null,
            "object_fit": null,
            "grid_auto_columns": null,
            "margin": null,
            "display": null,
            "left": null
          }
        },
        "884d1e1e25d54737ac0319622331534b": {
          "model_module": "@jupyter-widgets/controls",
          "model_name": "HBoxModel",
          "model_module_version": "1.5.0",
          "state": {
            "_view_name": "HBoxView",
            "_dom_classes": [],
            "_model_name": "HBoxModel",
            "_view_module": "@jupyter-widgets/controls",
            "_model_module_version": "1.5.0",
            "_view_count": null,
            "_view_module_version": "1.5.0",
            "box_style": "",
            "layout": "IPY_MODEL_69b301df75634b4d94af7e57b5a18ac9",
            "_model_module": "@jupyter-widgets/controls",
            "children": [
              "IPY_MODEL_b6e09852661b432e88089c0c26cce2c3",
              "IPY_MODEL_097b0d19f5b24e398e09d4218506047c",
              "IPY_MODEL_a8ea92d7aae046b4a98c9c67e0345cc4"
            ]
          }
        },
        "69b301df75634b4d94af7e57b5a18ac9": {
          "model_module": "@jupyter-widgets/base",
          "model_name": "LayoutModel",
          "model_module_version": "1.2.0",
          "state": {
            "_view_name": "LayoutView",
            "grid_template_rows": null,
            "right": null,
            "justify_content": null,
            "_view_module": "@jupyter-widgets/base",
            "overflow": null,
            "_model_module_version": "1.2.0",
            "_view_count": null,
            "flex_flow": null,
            "width": null,
            "min_width": null,
            "border": null,
            "align_items": null,
            "bottom": null,
            "_model_module": "@jupyter-widgets/base",
            "top": null,
            "grid_column": null,
            "overflow_y": null,
            "overflow_x": null,
            "grid_auto_flow": null,
            "grid_area": null,
            "grid_template_columns": null,
            "flex": null,
            "_model_name": "LayoutModel",
            "justify_items": null,
            "grid_row": null,
            "max_height": null,
            "align_content": null,
            "visibility": null,
            "align_self": null,
            "height": null,
            "min_height": null,
            "padding": null,
            "grid_auto_rows": null,
            "grid_gap": null,
            "max_width": null,
            "order": null,
            "_view_module_version": "1.2.0",
            "grid_template_areas": null,
            "object_position": null,
            "object_fit": null,
            "grid_auto_columns": null,
            "margin": null,
            "display": null,
            "left": null
          }
        },
        "b6e09852661b432e88089c0c26cce2c3": {
          "model_module": "@jupyter-widgets/controls",
          "model_name": "HTMLModel",
          "model_module_version": "1.5.0",
          "state": {
            "_view_name": "HTMLView",
            "style": "IPY_MODEL_1c13b84ea91f4015a2c081699e217bda",
            "_dom_classes": [],
            "description": "",
            "_model_name": "HTMLModel",
            "placeholder": "​",
            "_view_module": "@jupyter-widgets/controls",
            "_model_module_version": "1.5.0",
            "value": "100%",
            "_view_count": null,
            "_view_module_version": "1.5.0",
            "description_tooltip": null,
            "_model_module": "@jupyter-widgets/controls",
            "layout": "IPY_MODEL_7f6edec758c64c01ac5f73fdcafd14bf"
          }
        },
        "097b0d19f5b24e398e09d4218506047c": {
          "model_module": "@jupyter-widgets/controls",
          "model_name": "FloatProgressModel",
          "model_module_version": "1.5.0",
          "state": {
            "_view_name": "ProgressView",
            "style": "IPY_MODEL_778876d55eff4873a08e237e9dd3917f",
            "_dom_classes": [],
            "description": "",
            "_model_name": "FloatProgressModel",
            "bar_style": "success",
            "max": 2077933,
            "_view_module": "@jupyter-widgets/controls",
            "_model_module_version": "1.5.0",
            "value": 2077933,
            "_view_count": null,
            "_view_module_version": "1.5.0",
            "orientation": "horizontal",
            "min": 0,
            "description_tooltip": null,
            "_model_module": "@jupyter-widgets/controls",
            "layout": "IPY_MODEL_3c43a0dfe3ad4a38afad059d93fa8181"
          }
        },
        "a8ea92d7aae046b4a98c9c67e0345cc4": {
          "model_module": "@jupyter-widgets/controls",
          "model_name": "HTMLModel",
          "model_module_version": "1.5.0",
          "state": {
            "_view_name": "HTMLView",
            "style": "IPY_MODEL_874f3ee976034c21851162dde1c87087",
            "_dom_classes": [],
            "description": "",
            "_model_name": "HTMLModel",
            "placeholder": "​",
            "_view_module": "@jupyter-widgets/controls",
            "_model_module_version": "1.5.0",
            "value": " 2077933/2077933 [00:31&lt;00:00, 64180.05it/s]",
            "_view_count": null,
            "_view_module_version": "1.5.0",
            "description_tooltip": null,
            "_model_module": "@jupyter-widgets/controls",
            "layout": "IPY_MODEL_b5e66110191d4ee4a916ff60dc9b870c"
          }
        },
        "1c13b84ea91f4015a2c081699e217bda": {
          "model_module": "@jupyter-widgets/controls",
          "model_name": "DescriptionStyleModel",
          "model_module_version": "1.5.0",
          "state": {
            "_view_name": "StyleView",
            "_model_name": "DescriptionStyleModel",
            "description_width": "",
            "_view_module": "@jupyter-widgets/base",
            "_model_module_version": "1.5.0",
            "_view_count": null,
            "_view_module_version": "1.2.0",
            "_model_module": "@jupyter-widgets/controls"
          }
        },
        "7f6edec758c64c01ac5f73fdcafd14bf": {
          "model_module": "@jupyter-widgets/base",
          "model_name": "LayoutModel",
          "model_module_version": "1.2.0",
          "state": {
            "_view_name": "LayoutView",
            "grid_template_rows": null,
            "right": null,
            "justify_content": null,
            "_view_module": "@jupyter-widgets/base",
            "overflow": null,
            "_model_module_version": "1.2.0",
            "_view_count": null,
            "flex_flow": null,
            "width": null,
            "min_width": null,
            "border": null,
            "align_items": null,
            "bottom": null,
            "_model_module": "@jupyter-widgets/base",
            "top": null,
            "grid_column": null,
            "overflow_y": null,
            "overflow_x": null,
            "grid_auto_flow": null,
            "grid_area": null,
            "grid_template_columns": null,
            "flex": null,
            "_model_name": "LayoutModel",
            "justify_items": null,
            "grid_row": null,
            "max_height": null,
            "align_content": null,
            "visibility": null,
            "align_self": null,
            "height": null,
            "min_height": null,
            "padding": null,
            "grid_auto_rows": null,
            "grid_gap": null,
            "max_width": null,
            "order": null,
            "_view_module_version": "1.2.0",
            "grid_template_areas": null,
            "object_position": null,
            "object_fit": null,
            "grid_auto_columns": null,
            "margin": null,
            "display": null,
            "left": null
          }
        },
        "778876d55eff4873a08e237e9dd3917f": {
          "model_module": "@jupyter-widgets/controls",
          "model_name": "ProgressStyleModel",
          "model_module_version": "1.5.0",
          "state": {
            "_view_name": "StyleView",
            "_model_name": "ProgressStyleModel",
            "description_width": "",
            "_view_module": "@jupyter-widgets/base",
            "_model_module_version": "1.5.0",
            "_view_count": null,
            "_view_module_version": "1.2.0",
            "bar_color": null,
            "_model_module": "@jupyter-widgets/controls"
          }
        },
        "3c43a0dfe3ad4a38afad059d93fa8181": {
          "model_module": "@jupyter-widgets/base",
          "model_name": "LayoutModel",
          "model_module_version": "1.2.0",
          "state": {
            "_view_name": "LayoutView",
            "grid_template_rows": null,
            "right": null,
            "justify_content": null,
            "_view_module": "@jupyter-widgets/base",
            "overflow": null,
            "_model_module_version": "1.2.0",
            "_view_count": null,
            "flex_flow": null,
            "width": null,
            "min_width": null,
            "border": null,
            "align_items": null,
            "bottom": null,
            "_model_module": "@jupyter-widgets/base",
            "top": null,
            "grid_column": null,
            "overflow_y": null,
            "overflow_x": null,
            "grid_auto_flow": null,
            "grid_area": null,
            "grid_template_columns": null,
            "flex": null,
            "_model_name": "LayoutModel",
            "justify_items": null,
            "grid_row": null,
            "max_height": null,
            "align_content": null,
            "visibility": null,
            "align_self": null,
            "height": null,
            "min_height": null,
            "padding": null,
            "grid_auto_rows": null,
            "grid_gap": null,
            "max_width": null,
            "order": null,
            "_view_module_version": "1.2.0",
            "grid_template_areas": null,
            "object_position": null,
            "object_fit": null,
            "grid_auto_columns": null,
            "margin": null,
            "display": null,
            "left": null
          }
        },
        "874f3ee976034c21851162dde1c87087": {
          "model_module": "@jupyter-widgets/controls",
          "model_name": "DescriptionStyleModel",
          "model_module_version": "1.5.0",
          "state": {
            "_view_name": "StyleView",
            "_model_name": "DescriptionStyleModel",
            "description_width": "",
            "_view_module": "@jupyter-widgets/base",
            "_model_module_version": "1.5.0",
            "_view_count": null,
            "_view_module_version": "1.2.0",
            "_model_module": "@jupyter-widgets/controls"
          }
        },
        "b5e66110191d4ee4a916ff60dc9b870c": {
          "model_module": "@jupyter-widgets/base",
          "model_name": "LayoutModel",
          "model_module_version": "1.2.0",
          "state": {
            "_view_name": "LayoutView",
            "grid_template_rows": null,
            "right": null,
            "justify_content": null,
            "_view_module": "@jupyter-widgets/base",
            "overflow": null,
            "_model_module_version": "1.2.0",
            "_view_count": null,
            "flex_flow": null,
            "width": null,
            "min_width": null,
            "border": null,
            "align_items": null,
            "bottom": null,
            "_model_module": "@jupyter-widgets/base",
            "top": null,
            "grid_column": null,
            "overflow_y": null,
            "overflow_x": null,
            "grid_auto_flow": null,
            "grid_area": null,
            "grid_template_columns": null,
            "flex": null,
            "_model_name": "LayoutModel",
            "justify_items": null,
            "grid_row": null,
            "max_height": null,
            "align_content": null,
            "visibility": null,
            "align_self": null,
            "height": null,
            "min_height": null,
            "padding": null,
            "grid_auto_rows": null,
            "grid_gap": null,
            "max_width": null,
            "order": null,
            "_view_module_version": "1.2.0",
            "grid_template_areas": null,
            "object_position": null,
            "object_fit": null,
            "grid_auto_columns": null,
            "margin": null,
            "display": null,
            "left": null
          }
        }
      }
    }
  },
  "nbformat": 4,
  "nbformat_minor": 5
}