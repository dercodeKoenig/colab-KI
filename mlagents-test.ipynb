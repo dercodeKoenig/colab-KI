{
  "nbformat": 4,
  "nbformat_minor": 0,
  "metadata": {
    "colab": {
      "name": "Kopie von ML-Agents-with-Colab.ipynb",
      "provenance": [],
      "collapsed_sections": [],
      "toc_visible": true,
      "include_colab_link": true
    },
    "kernelspec": {
      "name": "python3",
      "display_name": "Python 3"
    },
    "accelerator": "GPU"
  },
  "cells": [
    {
      "cell_type": "markdown",
      "metadata": {
        "id": "view-in-github",
        "colab_type": "text"
      },
      "source": [
        "<a href=\"https://colab.research.google.com/github/MrToffel/colab-KI/blob/main/mlagents-test.ipynb\" target=\"_parent\"><img src=\"https://colab.research.google.com/assets/colab-badge.svg\" alt=\"Open In Colab\"/></a>"
      ]
    },
    {
      "cell_type": "markdown",
      "metadata": {
        "id": "qFeo4oxX0QvA"
      },
      "source": [
        "**# Checking the Python Environment #**"
      ]
    },
    {
      "cell_type": "code",
      "metadata": {
        "id": "k2RB1eZr0MVQ",
        "colab": {
          "base_uri": "https://localhost:8080/"
        },
        "outputId": "aa155613-769a-4fa7-86fa-d414440972bb"
      },
      "source": [
        "import sys\n",
        "\n",
        "print(\"Python version: \")\n",
        "print(sys.version)\n",
        "\n",
        "if (sys.version_info[0] < 3):\n",
        "    raise Exception(\"ERROR: ML-Agents Toolkit requires Python 3\")"
      ],
      "execution_count": 1,
      "outputs": [
        {
          "output_type": "stream",
          "text": [
            "Python version: \n",
            "3.7.10 (default, Feb 20 2021, 21:17:23) \n",
            "[GCC 7.5.0]\n"
          ],
          "name": "stdout"
        }
      ]
    },
    {
      "cell_type": "markdown",
      "metadata": {
        "id": "KnpdrVkkwyI0"
      },
      "source": [
        "#### **1. Setting up the latest ML-Agents from the repository**"
      ]
    },
    {
      "cell_type": "code",
      "metadata": {
        "id": "SAs0o4kLxaQz",
        "colab": {
          "base_uri": "https://localhost:8080/"
        },
        "outputId": "e31cf455-e86b-4321-de8a-74609d46ae5a"
      },
      "source": [
        "# Cloning the ml-agents repo.\n",
        "!git clone --branch release_1 https://github.com/Unity-Technologies/ml-agents.git> /dev/null\n",
        "\n",
        "# Installing the ml-agents from the repo.\n",
        "!pip install -e ml-agents/ml-agents-envs/> /dev/null\n",
        "!pip install -e ml-agents/ml-agents/> /dev/null"
      ],
      "execution_count": 2,
      "outputs": [
        {
          "output_type": "stream",
          "text": [
            "Cloning into 'ml-agents'...\n",
            "remote: Enumerating objects: 1256, done.\u001b[K\n",
            "remote: Counting objects: 100% (1256/1256), done.\u001b[K\n",
            "remote: Compressing objects: 100% (606/606), done.\u001b[K\n",
            "remote: Total 75496 (delta 805), reused 972 (delta 645), pack-reused 74240\u001b[K\n",
            "Receiving objects: 100% (75496/75496), 1.91 GiB | 36.05 MiB/s, done.\n",
            "Resolving deltas: 100% (55293/55293), done.\n",
            "Note: checking out '92163c8031a90891962baa12089e35187b8093b6'.\n",
            "\n",
            "You are in 'detached HEAD' state. You can look around, make experimental\n",
            "changes and commit them, and you can discard any commits you make in this\n",
            "state without impacting any branches by performing another checkout.\n",
            "\n",
            "If you want to create a new branch to retain commits you create, you may\n",
            "do so (now or later) by using -b with the checkout command again. Example:\n",
            "\n",
            "  git checkout -b <new-branch-name>\n",
            "\n"
          ],
          "name": "stdout"
        }
      ]
    },
    {
      "cell_type": "markdown",
      "metadata": {
        "id": "aie7Gq9OyZjt"
      },
      "source": [
        "**Restarting the Colab Runtime.**\n",
        "\n",
        "Sometimes kernel \"**Runtime restart**\" is required because it gives an error (such as no module found even though it shows in pip list)."
      ]
    },
    {
      "cell_type": "code",
      "metadata": {
        "id": "dIuECTTmyO7q"
      },
      "source": [
        "#!mlagents-learn --help"
      ],
      "execution_count": 3,
      "outputs": []
    },
    {
      "cell_type": "markdown",
      "metadata": {
        "id": "G8SN2q9W5JLE"
      },
      "source": [
        "#### **2. Cloning the example environment from github and enabling the permission to executable**"
      ]
    },
    {
      "cell_type": "code",
      "metadata": {
        "id": "bW2MH47s5Gya",
        "colab": {
          "base_uri": "https://localhost:8080/"
        },
        "outputId": "ae5e40a5-8e09-4039-f6a4-02ee3a07ad7b"
      },
      "source": [
        "!git clone https://github.com/MrToffel/rubcubbuild.git>/dev/null\n",
        "!chmod 777 rubcubbuild/build.x86_64"
      ],
      "execution_count": 4,
      "outputs": [
        {
          "output_type": "stream",
          "text": [
            "Cloning into 'rubcubbuild'...\n",
            "remote: Enumerating objects: 152, done.\u001b[K\n",
            "remote: Counting objects: 100% (152/152), done.\u001b[K\n",
            "remote: Compressing objects: 100% (111/111), done.\u001b[K\n",
            "remote: Total 152 (delta 34), reused 152 (delta 34), pack-reused 0\u001b[K\n",
            "Receiving objects: 100% (152/152), 29.61 MiB | 19.78 MiB/s, done.\n",
            "Resolving deltas: 100% (34/34), done.\n"
          ],
          "name": "stdout"
        }
      ]
    },
    {
      "cell_type": "markdown",
      "metadata": {
        "id": "yAmIcYua-d8o"
      },
      "source": [
        "#### 3. Edit the **env_name** according to your environment and add your training **hyperparameters in config.yaml** file.\n"
      ]
    },
    {
      "cell_type": "code",
      "metadata": {
        "id": "qOL_F4ZLP8h2"
      },
      "source": [
        "# Set the Environment name and its Run Id\n",
        "env_name = \"rubcubbuild/build.x86_64\"\n",
        "run_id = \"1\""
      ],
      "execution_count": 5,
      "outputs": []
    },
    {
      "cell_type": "code",
      "metadata": {
        "id": "THCvloAD-dBw",
        "colab": {
          "base_uri": "https://localhost:8080/"
        },
        "outputId": "bb4c6fa6-a864-4ee7-b38c-363a49a3a75f"
      },
      "source": [
        "%%writefile config.yaml\n",
        "behaviors:\n",
        "  spiel:\n",
        "    trainer_type: ppo\n",
        "    hyperparameters:\n",
        "      batch_size: 64\n",
        "      buffer_size: 1280\n",
        "      learning_rate: 0.0002\n",
        "      beta: 0.05\n",
        "      epsilon: 0.2\n",
        "      lambd: 0.92\n",
        "      num_epoch: 3\n",
        "      learning_rate_schedule: linear\n",
        "    network_settings:\n",
        "      normalize: false\n",
        "      hidden_units: 512\n",
        "      num_layers: 4\n",
        "      vis_encode_type: simple\n",
        "    reward_signals:\n",
        "      extrinsic:\n",
        "        gamma: 0.99\n",
        "        strength: 1.0\n",
        "     \n",
        "    keep_checkpoints: 5\n",
        "    max_steps: 50000000\n",
        "    time_horizon: 50\n",
        "    summary_freq: 4000\n",
        "    threaded: true\n"
      ],
      "execution_count": 6,
      "outputs": [
        {
          "output_type": "stream",
          "text": [
            "Writing config.yaml\n"
          ],
          "name": "stdout"
        }
      ]
    },
    {
      "cell_type": "markdown",
      "metadata": {
        "id": "XF9F5CBs_guB"
      },
      "source": [
        "#### **4. Enable the Tensorboard and Starting the training process**"
      ]
    },
    {
      "cell_type": "code",
      "metadata": {
        "id": "LnJljldT_hJG",
        "colab": {
          "base_uri": "https://localhost:8080/",
          "height": 871
        },
        "outputId": "525c0879-bf16-4fc6-9018-dedee849e7b4"
      },
      "source": [
        "#%load_ext tensorboard\n",
        "#%tensorboard --logdir summaries"
      ],
      "execution_count": 11,
      "outputs": [
        {
          "output_type": "stream",
          "text": [
            "The tensorboard extension is already loaded. To reload it, use:\n",
            "  %reload_ext tensorboard\n"
          ],
          "name": "stdout"
        },
        {
          "output_type": "display_data",
          "data": {
            "text/plain": [
              "Reusing TensorBoard on port 6006 (pid 179), started 0:01:27 ago. (Use '!kill 179' to kill it.)"
            ]
          },
          "metadata": {
            "tags": []
          }
        },
        {
          "output_type": "display_data",
          "data": {
            "application/javascript": [
              "\n",
              "        (async () => {\n",
              "            const url = new URL(await google.colab.kernel.proxyPort(6006, {'cache': true}));\n",
              "            url.searchParams.set('tensorboardColab', 'true');\n",
              "            const iframe = document.createElement('iframe');\n",
              "            iframe.src = url;\n",
              "            iframe.setAttribute('width', '100%');\n",
              "            iframe.setAttribute('height', '800');\n",
              "            iframe.setAttribute('frameborder', 0);\n",
              "            document.body.appendChild(iframe);\n",
              "        })();\n",
              "    "
            ],
            "text/plain": [
              "<IPython.core.display.Javascript object>"
            ]
          },
          "metadata": {
            "tags": []
          }
        }
      ]
    },
    {
      "cell_type": "code",
      "metadata": {
        "id": "wtuV9-yHAoX2",
        "colab": {
          "base_uri": "https://localhost:8080/"
        },
        "outputId": "afff6af5-567c-49ff-9ff5-5f4ac02e26eb"
      },
      "source": [
        "!mlagents-learn config.yaml --run-id=$run_id --env=$env_name --force --no-graphics"
      ],
      "execution_count": 12,
      "outputs": [
        {
          "output_type": "stream",
          "text": [
            "2021-03-26 17:48:18.382672: I tensorflow/stream_executor/platform/default/dso_loader.cc:49] Successfully opened dynamic library libcudart.so.11.0\n",
            "WARNING:tensorflow:From /usr/local/lib/python3.7/dist-packages/tensorflow/python/compat/v2_compat.py:96: disable_resource_variables (from tensorflow.python.ops.variable_scope) is deprecated and will be removed in a future version.\n",
            "Instructions for updating:\n",
            "non-resource variables are not supported in the long term\n",
            "\n",
            "\n",
            "                        ▄▄▄▓▓▓▓\n",
            "                   ╓▓▓▓▓▓▓█▓▓▓▓▓\n",
            "              ,▄▄▄m▀▀▀'  ,▓▓▓▀▓▓▄                           ▓▓▓  ▓▓▌\n",
            "            ▄▓▓▓▀'      ▄▓▓▀  ▓▓▓      ▄▄     ▄▄ ,▄▄ ▄▄▄▄   ,▄▄ ▄▓▓▌▄ ▄▄▄    ,▄▄\n",
            "          ▄▓▓▓▀        ▄▓▓▀   ▐▓▓▌     ▓▓▌   ▐▓▓ ▐▓▓▓▀▀▀▓▓▌ ▓▓▓ ▀▓▓▌▀ ^▓▓▌  ╒▓▓▌\n",
            "        ▄▓▓▓▓▓▄▄▄▄▄▄▄▄▓▓▓      ▓▀      ▓▓▌   ▐▓▓ ▐▓▓    ▓▓▓ ▓▓▓  ▓▓▌   ▐▓▓▄ ▓▓▌\n",
            "        ▀▓▓▓▓▀▀▀▀▀▀▀▀▀▀▓▓▄     ▓▓      ▓▓▌   ▐▓▓ ▐▓▓    ▓▓▓ ▓▓▓  ▓▓▌    ▐▓▓▐▓▓\n",
            "          ^█▓▓▓        ▀▓▓▄   ▐▓▓▌     ▓▓▓▓▄▓▓▓▓ ▐▓▓    ▓▓▓ ▓▓▓  ▓▓▓▄    ▓▓▓▓`\n",
            "            '▀▓▓▓▄      ^▓▓▓  ▓▓▓       └▀▀▀▀ ▀▀ ^▀▀    `▀▀ `▀▀   '▀▀    ▐▓▓▌\n",
            "               ▀▀▀▀▓▄▄▄   ▓▓▓▓▓▓,                                      ▓▓▓▓▀\n",
            "                   `▀█▓▓▓▓▓▓▓▓▓▌\n",
            "                        ¬`▀▀▀█▓\n",
            "\n",
            "        \n",
            " Version information:\n",
            "  ml-agents: 0.16.0,\n",
            "  ml-agents-envs: 0.16.0,\n",
            "  Communicator API: 1.0.0,\n",
            "  TensorFlow: 2.4.1\n",
            "Found path: /content/rubcubbuild/build.x86_64\n",
            "Mono path[0] = '/content/rubcubbuild/build_Data/Managed'\n",
            "Mono config path = '/content/rubcubbuild/build_Data/MonoBleedingEdge/etc'\n",
            "Preloaded 'lib_burst_generated.so'\n",
            "Preloaded 'libgrpc_csharp_ext.x64.so'\n",
            "Initialize engine version: 2019.4.21f1 (b76dac84db26)\n",
            "[Subsystems] Discovering subsystems at path /content/rubcubbuild/build_Data/UnitySubsystems\n",
            "Forcing GfxDevice: Null\n",
            "GfxDevice: creating device client; threaded=0\n",
            "NullGfxDevice:\n",
            "    Version:  NULL 1.0 [1.0]\n",
            "    Renderer: Null Device\n",
            "    Vendor:   Unity Technologies\n",
            "ALSA lib confmisc.c:767:(parse_card) cannot find card '0'\n",
            "ALSA lib conf.c:4528:(_snd_config_evaluate) function snd_func_card_driver returned error: No such file or directory\n",
            "ALSA lib confmisc.c:392:(snd_func_concat) error evaluating strings\n",
            "ALSA lib conf.c:4528:(_snd_config_evaluate) function snd_func_concat returned error: No such file or directory\n",
            "ALSA lib confmisc.c:1246:(snd_func_refer) error evaluating name\n",
            "ALSA lib conf.c:4528:(_snd_config_evaluate) function snd_func_refer returned error: No such file or directory\n",
            "ALSA lib conf.c:5007:(snd_config_expand) Evaluate error: No such file or directory\n",
            "ALSA lib pcm.c:2495:(snd_pcm_open_noupdate) Unknown PCM default\n",
            "FMOD failed to initialize the output device.: \"Error initializing output device. \" (60) \n",
            "(Filename:  Line: 1522)\n",
            "\n",
            "Forced to initialize FMOD to to the device driver's system output rate 48000, this may impact performance and/or give inconsistent experiences compared to selected sample rate 48000 \n",
            "(Filename:  Line: 1458)\n",
            "\n",
            "ALSA lib confmisc.c:767:(parse_card) cannot find card '0'\n",
            "ALSA lib conf.c:4528:(_snd_config_evaluate) function snd_func_card_driver returned error: No such file or directory\n",
            "ALSA lib confmisc.c:392:(snd_func_concat) error evaluating strings\n",
            "ALSA lib conf.c:4528:(_snd_config_evaluate) function snd_func_concat returned error: No such file or directory\n",
            "ALSA lib confmisc.c:1246:(snd_func_refer) error evaluating name\n",
            "ALSA lib conf.c:4528:(_snd_config_evaluate) function snd_func_refer returned error: No such file or directory\n",
            "ALSA lib conf.c:5007:(snd_config_expand) Evaluate error: No such file or directory\n",
            "ALSA lib pcm.c:2495:(snd_pcm_open_noupdate) Unknown PCM default\n",
            "FMOD failed to initialize the output device.: \"Error initializing output device. \" (60) \n",
            "(Filename:  Line: 1522)\n",
            "\n",
            "FMOD initialized on nosound output\n",
            "Begin MonoManager ReloadAssembly\n",
            "- Completed reload, in  0.065 seconds\n",
            "UnloadTime: 0.649790 ms\n",
            "Fallback handler could not load library /content/rubcubbuild/build_Data/Mono/libcoreclr.so\n",
            "Fallback handler could not load library /content/rubcubbuild/build_Data/Mono/libcoreclr.so\n",
            "Fallback handler could not load library /content/rubcubbuild/build_Data/Mono/libcoreclr.so\n",
            "Fallback handler could not load library /content/rubcubbuild/build_Data/Mono/libSystem.dylib\n",
            "Fallback handler could not load library /content/rubcubbuild/build_Data/Mono/libSystem.dylib.so\n",
            "Fallback handler could not load library /content/rubcubbuild/build_Data/Mono/libSystem.dylib\n",
            "Fallback handler could not load library /content/rubcubbuild/build_Data/Mono/libcoreclr.so\n",
            "Fallback handler could not load library /content/rubcubbuild/build_Data/Mono/libcoreclr.so\n",
            "Fallback handler could not load library /content/rubcubbuild/build_Data/Mono/libcoreclr.so\n",
            "Fallback handler could not load library /content/rubcubbuild/build_Data/Mono/libSystem.dylib\n",
            "Fallback handler could not load library /content/rubcubbuild/build_Data/Mono/libSystem.dylib.so\n",
            "Fallback handler could not load library /content/rubcubbuild/build_Data/Mono/libSystem.dylib\n",
            "2021-03-26 17:48:20 INFO [environment.py:111] Connected to Unity environment with package version 1.0.7 and communication version 1.0.0\n",
            "Python package version (0.16.0) is out of the supported range or not from an official release. It is strongly recommended that you use a Python package between 0.16.1 and 0.20.0. Training will proceed, but the output format may be different. \n",
            "(Filename: ./Runtime/Export/Debug/Debug.bindings.h Line: 39)\n",
            "\n",
            "2021-03-26 17:48:20 INFO [environment.py:342] Connected new brain:\n",
            "spiel?team=0\n",
            "Setting up 1 worker threads for Enlighten.\n",
            "  Thread -> id: 7f4e4c0cb700 -> priority: 1 \n",
            "2021-03-26 17:48:20 INFO [environment.py:498] Environment shut down with return code 0.\n",
            "2021-03-26 17:48:20 WARNING [learn.py:420] Unable to save to ./summaries/1_timers.json. Make sure the directory exists\n",
            "Traceback (most recent call last):\n",
            "  File \"/content/ml-agents/ml-agents/mlagents/trainers/trainer_controller.py\", line 175, in _create_trainer_and_manager\n",
            "    trainer = self.trainers[brain_name]\n",
            "KeyError: 'spiel'\n",
            "\n",
            "During handling of the above exception, another exception occurred:\n",
            "\n",
            "Traceback (most recent call last):\n",
            "  File \"/usr/local/bin/mlagents-learn\", line 33, in <module>\n",
            "    sys.exit(load_entry_point('mlagents', 'console_scripts', 'mlagents-learn')())\n",
            "  File \"/content/ml-agents/ml-agents/mlagents/trainers/learn.py\", line 554, in main\n",
            "    run_cli(parse_command_line())\n",
            "  File \"/content/ml-agents/ml-agents/mlagents/trainers/learn.py\", line 550, in run_cli\n",
            "    run_training(run_seed, options)\n",
            "  File \"/content/ml-agents/ml-agents/mlagents/trainers/learn.py\", line 407, in run_training\n",
            "    tc.start_learning(env_manager)\n",
            "  File \"/content/ml-agents/ml-agents-envs/mlagents_envs/timers.py\", line 305, in wrapped\n",
            "    return func(*args, **kwargs)\n",
            "  File \"/content/ml-agents/ml-agents/mlagents/trainers/trainer_controller.py\", line 227, in start_learning\n",
            "    self._create_trainers_and_managers(env_manager, new_behavior_ids)\n",
            "  File \"/content/ml-agents/ml-agents/mlagents/trainers/trainer_controller.py\", line 213, in _create_trainers_and_managers\n",
            "    self._create_trainer_and_manager(env_manager, behavior_id)\n",
            "  File \"/content/ml-agents/ml-agents/mlagents/trainers/trainer_controller.py\", line 177, in _create_trainer_and_manager\n",
            "    trainer = self.trainer_factory.generate(brain_name)\n",
            "  File \"/content/ml-agents/ml-agents/mlagents/trainers/trainer_util.py\", line 61, in generate\n",
            "    self.multi_gpu,\n",
            "  File \"/content/ml-agents/ml-agents/mlagents/trainers/trainer_util.py\", line 100, in initialize_trainer\n",
            "    f'Trainer config must have either a \"default\" section, or a section for the brain name ({brain_name}). '\n",
            "mlagents.trainers.exception.TrainerConfigError: Trainer config must have either a \"default\" section, or a section for the brain name (spiel). See config/trainer_config.yaml for an example.\n"
          ],
          "name": "stdout"
        }
      ]
    },
    {
      "cell_type": "markdown",
      "metadata": {
        "id": "bb6-DDDsAqVE"
      },
      "source": [
        "#### **5. Save the trained model (.nn file) to the local machine**"
      ]
    },
    {
      "cell_type": "code",
      "metadata": {
        "id": "D1tuAzQEBeYa",
        "colab": {
          "base_uri": "https://localhost:8080/",
          "height": 313
        },
        "outputId": "5dac3534-81c0-44e5-aa71-46c4dbbdd4a1"
      },
      "source": [
        "path = '/content/models/' + run_id + '/spiel.nn'\n",
        "\n",
        "from google.colab import files\n",
        "files.download(path)"
      ],
      "execution_count": 9,
      "outputs": [
        {
          "output_type": "error",
          "ename": "FileNotFoundError",
          "evalue": "ignored",
          "traceback": [
            "\u001b[0;31m---------------------------------------------------------------------------\u001b[0m",
            "\u001b[0;31mFileNotFoundError\u001b[0m                         Traceback (most recent call last)",
            "\u001b[0;32m<ipython-input-9-4dd404345024>\u001b[0m in \u001b[0;36m<module>\u001b[0;34m()\u001b[0m\n\u001b[1;32m      2\u001b[0m \u001b[0;34m\u001b[0m\u001b[0m\n\u001b[1;32m      3\u001b[0m \u001b[0;32mfrom\u001b[0m \u001b[0mgoogle\u001b[0m\u001b[0;34m.\u001b[0m\u001b[0mcolab\u001b[0m \u001b[0;32mimport\u001b[0m \u001b[0mfiles\u001b[0m\u001b[0;34m\u001b[0m\u001b[0;34m\u001b[0m\u001b[0m\n\u001b[0;32m----> 4\u001b[0;31m \u001b[0mfiles\u001b[0m\u001b[0;34m.\u001b[0m\u001b[0mdownload\u001b[0m\u001b[0;34m(\u001b[0m\u001b[0mpath\u001b[0m\u001b[0;34m)\u001b[0m\u001b[0;34m\u001b[0m\u001b[0;34m\u001b[0m\u001b[0m\n\u001b[0m",
            "\u001b[0;32m/usr/local/lib/python3.7/dist-packages/google/colab/files.py\u001b[0m in \u001b[0;36mdownload\u001b[0;34m(filename)\u001b[0m\n\u001b[1;32m    141\u001b[0m       \u001b[0;32mraise\u001b[0m \u001b[0mOSError\u001b[0m\u001b[0;34m(\u001b[0m\u001b[0mmsg\u001b[0m\u001b[0;34m)\u001b[0m\u001b[0;34m\u001b[0m\u001b[0;34m\u001b[0m\u001b[0m\n\u001b[1;32m    142\u001b[0m     \u001b[0;32melse\u001b[0m\u001b[0;34m:\u001b[0m\u001b[0;34m\u001b[0m\u001b[0;34m\u001b[0m\u001b[0m\n\u001b[0;32m--> 143\u001b[0;31m       \u001b[0;32mraise\u001b[0m \u001b[0mFileNotFoundError\u001b[0m\u001b[0;34m(\u001b[0m\u001b[0mmsg\u001b[0m\u001b[0;34m)\u001b[0m  \u001b[0;31m# pylint: disable=undefined-variable\u001b[0m\u001b[0;34m\u001b[0m\u001b[0;34m\u001b[0m\u001b[0m\n\u001b[0m\u001b[1;32m    144\u001b[0m \u001b[0;34m\u001b[0m\u001b[0m\n\u001b[1;32m    145\u001b[0m   \u001b[0mcomm_manager\u001b[0m \u001b[0;34m=\u001b[0m \u001b[0m_IPython\u001b[0m\u001b[0;34m.\u001b[0m\u001b[0mget_ipython\u001b[0m\u001b[0;34m(\u001b[0m\u001b[0;34m)\u001b[0m\u001b[0;34m.\u001b[0m\u001b[0mkernel\u001b[0m\u001b[0;34m.\u001b[0m\u001b[0mcomm_manager\u001b[0m\u001b[0;34m\u001b[0m\u001b[0;34m\u001b[0m\u001b[0m\n",
            "\u001b[0;31mFileNotFoundError\u001b[0m: Cannot find file: /content/models/1/spiel.nn"
          ]
        }
      ]
    }
  ]
}