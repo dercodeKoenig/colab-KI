{
  "cells": [
    {
      "cell_type": "markdown",
      "metadata": {
        "id": "view-in-github",
        "colab_type": "text"
      },
      "source": [
        "<a href=\"https://colab.research.google.com/github/dercodeKoenig/colab-KI/blob/main/stochastics1.ipynb\" target=\"_parent\"><img src=\"https://colab.research.google.com/assets/colab-badge.svg\" alt=\"Open In Colab\"/></a>"
      ]
    },
    {
      "cell_type": "code",
      "execution_count": 9,
      "metadata": {
        "id": "KtyBmwVKJVhg",
        "colab": {
          "base_uri": "https://localhost:8080/"
        },
        "outputId": "754158dd-7391-4d79-bcc9-5dc5da80b140"
      },
      "outputs": [
        {
          "output_type": "stream",
          "name": "stdout",
          "text": [
            "Requirement already satisfied: ta in /usr/local/lib/python3.7/dist-packages (0.9.0)\n",
            "Requirement already satisfied: python-binance in /usr/local/lib/python3.7/dist-packages (1.0.15)\n",
            "Requirement already satisfied: pandas in /usr/local/lib/python3.7/dist-packages (from ta) (1.3.5)\n",
            "Requirement already satisfied: numpy in /usr/local/lib/python3.7/dist-packages (from ta) (1.21.5)\n",
            "Requirement already satisfied: six in /usr/local/lib/python3.7/dist-packages (from python-binance) (1.15.0)\n",
            "Requirement already satisfied: websockets==9.1 in /usr/local/lib/python3.7/dist-packages (from python-binance) (9.1)\n",
            "Requirement already satisfied: aiohttp in /usr/local/lib/python3.7/dist-packages (from python-binance) (3.8.1)\n",
            "Requirement already satisfied: ujson in /usr/local/lib/python3.7/dist-packages (from python-binance) (5.1.0)\n",
            "Requirement already satisfied: requests in /usr/local/lib/python3.7/dist-packages (from python-binance) (2.23.0)\n",
            "Requirement already satisfied: dateparser in /usr/local/lib/python3.7/dist-packages (from python-binance) (1.1.1)\n",
            "Requirement already satisfied: typing-extensions>=3.7.4 in /usr/local/lib/python3.7/dist-packages (from aiohttp->python-binance) (3.10.0.2)\n",
            "Requirement already satisfied: asynctest==0.13.0 in /usr/local/lib/python3.7/dist-packages (from aiohttp->python-binance) (0.13.0)\n",
            "Requirement already satisfied: async-timeout<5.0,>=4.0.0a3 in /usr/local/lib/python3.7/dist-packages (from aiohttp->python-binance) (4.0.2)\n",
            "Requirement already satisfied: yarl<2.0,>=1.0 in /usr/local/lib/python3.7/dist-packages (from aiohttp->python-binance) (1.7.2)\n",
            "Requirement already satisfied: multidict<7.0,>=4.5 in /usr/local/lib/python3.7/dist-packages (from aiohttp->python-binance) (6.0.2)\n",
            "Requirement already satisfied: attrs>=17.3.0 in /usr/local/lib/python3.7/dist-packages (from aiohttp->python-binance) (21.4.0)\n",
            "Requirement already satisfied: frozenlist>=1.1.1 in /usr/local/lib/python3.7/dist-packages (from aiohttp->python-binance) (1.3.0)\n",
            "Requirement already satisfied: aiosignal>=1.1.2 in /usr/local/lib/python3.7/dist-packages (from aiohttp->python-binance) (1.2.0)\n",
            "Requirement already satisfied: charset-normalizer<3.0,>=2.0 in /usr/local/lib/python3.7/dist-packages (from aiohttp->python-binance) (2.0.12)\n",
            "Requirement already satisfied: idna>=2.0 in /usr/local/lib/python3.7/dist-packages (from yarl<2.0,>=1.0->aiohttp->python-binance) (2.10)\n",
            "Requirement already satisfied: tzlocal in /usr/local/lib/python3.7/dist-packages (from dateparser->python-binance) (1.5.1)\n",
            "Requirement already satisfied: python-dateutil in /usr/local/lib/python3.7/dist-packages (from dateparser->python-binance) (2.8.2)\n",
            "Requirement already satisfied: pytz in /usr/local/lib/python3.7/dist-packages (from dateparser->python-binance) (2018.9)\n",
            "Requirement already satisfied: regex!=2019.02.19,!=2021.8.27,<2022.3.15 in /usr/local/lib/python3.7/dist-packages (from dateparser->python-binance) (2019.12.20)\n",
            "Requirement already satisfied: urllib3!=1.25.0,!=1.25.1,<1.26,>=1.21.1 in /usr/local/lib/python3.7/dist-packages (from requests->python-binance) (1.24.3)\n",
            "Requirement already satisfied: chardet<4,>=3.0.2 in /usr/local/lib/python3.7/dist-packages (from requests->python-binance) (3.0.4)\n",
            "Requirement already satisfied: certifi>=2017.4.17 in /usr/local/lib/python3.7/dist-packages (from requests->python-binance) (2021.10.8)\n"
          ]
        }
      ],
      "source": [
        "!pip install ta python-binance\n",
        "\n",
        "from binance.client import Client\n",
        "import numpy as np\n",
        "import time\n",
        "import matplotlib.pyplot as plt\n",
        "import pandas as pd\n",
        "from IPython.display import clear_output\n",
        "import ta\n",
        "from tqdm import tqdm\n",
        "import random\n",
        "client = Client(None, None)"
      ]
    },
    {
      "cell_type": "code",
      "source": [
        "symbol = \"ETHUSDT\"\n",
        "#symbol = \"DOGEUSDT\"\n",
        "#symbol = \"SOLUSDT\"\n",
        "#symbol = \"LTCUSDT\"\n",
        "#symbol = \"LUNAUSDT\"\n",
        "#symbol = \"BTCUSDT\"\n",
        "#symbol = \"SHIBUSDT\"\n",
        "\n",
        "klines = client.get_historical_klines(\"ETHUSDT\", Client.KLINE_INTERVAL_1MINUTE, \"300 day ago\")\n",
        "\n",
        "o = []\n",
        "h = []\n",
        "l = []\n",
        "c = []\n",
        "\n",
        "for i in tqdm(klines):\n",
        "    o.append(float(i[1]))\n",
        "    h.append(float(i[2]))\n",
        "    l.append(float(i[3]))\n",
        "    c.append(float(i[4]))\n",
        "    \n",
        "data = {\"Open\":o, \"High\":h, \"Low\":l, \"Close\":c}\n",
        "test = pd.DataFrame(data)\n",
        "test\n",
        "\n",
        "\n",
        "class minic:\n",
        "    pass\n",
        "\n",
        "sma21_raw = list(ta.trend.SMAIndicator(test[\"Close\"], 21).sma_indicator())\n",
        "sma50_raw = list(ta.trend.SMAIndicator(test[\"Close\"], 50).sma_indicator())\n",
        "sma200_raw = list(ta.trend.SMAIndicator(test[\"Close\"], 200).sma_indicator())\n",
        "rsi_14 = list(ta.momentum.RSIIndicator(test[\"Close\"], 14).rsi())\n",
        "rsi_2 = list(ta.momentum.RSIIndicator(test[\"Close\"], 2).rsi())\n",
        "rsi_4 = list(ta.momentum.RSIIndicator(test[\"Close\"], 4).rsi())\n",
        "atr_values = list(ta.volatility.AverageTrueRange(test[\"High\"], test[\"Low\"], test[\"Close\"], 200).average_true_range())\n",
        "\n",
        "candles_test = []\n",
        "\n",
        "for i in tqdm(range(220,len(test))):\n",
        "        new_candle = minic()\n",
        "        o,h,l,c = test.iloc[i]\n",
        "        new_candle.o = o\n",
        "        new_candle.h = h\n",
        "        new_candle.l = l\n",
        "        new_candle.c = c\n",
        "        new_candle.atr_value = atr_values[i]\n",
        "        new_candle.sma21 = sma21_raw[i]\n",
        "        new_candle.sma50 = sma50_raw[i]\n",
        "        new_candle.sma200 = sma200_raw[i]\n",
        "        new_candle.rsi14 = rsi_14[i]\n",
        "        new_candle.rsi2 = rsi_2[i]\n",
        "        new_candle.rsi4 = rsi_4[i]        \n",
        "        candles_test.append(new_candle)\n",
        "            \n",
        "        "
      ],
      "metadata": {
        "colab": {
          "base_uri": "https://localhost:8080/"
        },
        "id": "-DP6zTjitnlu",
        "outputId": "c279e882-0060-486c-f9a1-3bfc833f791d"
      },
      "execution_count": 10,
      "outputs": [
        {
          "output_type": "stream",
          "name": "stderr",
          "text": [
            "100%|██████████| 431617/431617 [00:00<00:00, 443107.27it/s]\n",
            "100%|██████████| 431397/431397 [00:37<00:00, 11486.61it/s]\n"
          ]
        }
      ]
    },
    {
      "cell_type": "code",
      "source": [
        "am = 2\n",
        "rrw = 1\n",
        "inc = 2\n",
        "dec = 3\n",
        "b = 0.9\n",
        "\n",
        "#plt.figure(figsize=(20,5))\n",
        "#plt.plot([a.c for a in candle_test])\n",
        "\n",
        "wins = 0\n",
        "losses = 0\n",
        "\n",
        "omd = 0\n",
        "ml = 0\n",
        "pk = 0\n",
        "all_balance = []\n",
        "all_levs = []\n",
        "candle_taken = []\n",
        "for episode in tqdm(range(5)):\n",
        "    \n",
        "    balance = []\n",
        "    levs = []\n",
        "    cbalance = 0\n",
        "    clvl = 1\n",
        "    for _ in range(1):\n",
        "\n",
        "        positions = []\n",
        "        pos = -1\n",
        "        balance.extend([cbalance for _ in range(episode)])\n",
        "        \n",
        "        for i in range(episode, len(candles_test)):\n",
        "            c = candles_test[i].c\n",
        "            h = candles_test[i].h\n",
        "            l = candles_test[i].l\n",
        "            o = candles_test[i].o\n",
        "\n",
        "            #color = \"red\" if o > c else \"green\" if o < c else \"blue\"\n",
        "            #plt.plot([i,i],[o,c],linewidth=3, color = color)\n",
        "            #plt.plot([i,i],[l,h],linewidth=1, color = color)\n",
        "\n",
        "\n",
        "\n",
        "\n",
        "            atr = candles_test[i].atr_value * am\n",
        "\n",
        "            while True:\n",
        "              sth = False\n",
        "              for o in range(len(positions)):\n",
        "                if positions[o][0] == \"S\":\n",
        "                  if h > positions[o][3]:\n",
        "                    cbalance += (positions[o][3] - positions[o][1]) / positions[o][1] * positions[o][4]\n",
        "                    del positions[o]\n",
        "                    sth = True\n",
        "                    losses+=1\n",
        "                    clvl+=1\n",
        "                    break\n",
        "                  if l < positions[o][2]:\n",
        "                    cbalance += (positions[o][2] - positions[o][1]) / positions[o][1] * positions[o][4]\n",
        "                    del positions[o]\n",
        "                    wins+=1\n",
        "                    sth = True\n",
        "                    clvl-=dec\n",
        "                    pos = -1\n",
        "                    break\n",
        "\n",
        "                if positions[o][0] == \"L\":\n",
        "                  if l < positions[o][3]:\n",
        "                    cbalance += (positions[o][3] - positions[o][1]) / positions[o][1] * positions[o][4]\n",
        "                    del positions[o]\n",
        "                    sth = True\n",
        "                    losses+=1\n",
        "                    clvl+=1\n",
        "                    break\n",
        "                  if h > positions[o][2]:\n",
        "                    cbalance += (positions[o][2] - positions[o][1]) / positions[o][1] * positions[o][4]\n",
        "                    del positions[o]\n",
        "                    sth = True\n",
        "                    clvl-=dec\n",
        "                    wins+=1\n",
        "                    pos = -1\n",
        "                    break\n",
        "\n",
        "              if sth == False:\n",
        "                break\n",
        "\n",
        "\n",
        "            clvl = max(clvl,1)\n",
        "            lev = 1*(inc**clvl)**(b**clvl)\n",
        "            \n",
        "            order_value = c/atr * lev* 0.005\n",
        "            #order_value = 1000 * lev\n",
        "            \n",
        "            \n",
        "            \n",
        "            if len(positions) == 0:\n",
        "\n",
        "                #pos = random.randint(0,1) if pos == -1 else (0 if pos == 1 else 1)\n",
        "                #pos = random.randint(0,1) if pos == -1 else pos\n",
        "                #pos = random.randint(0,1)\n",
        "\n",
        "\n",
        "                #if pos == -1: \n",
        "                #     if candles_test[i].sma21 > candles_test[i].sma200 and candles_test[i].rsi14 < 25:\n",
        "                #        pos = 1\n",
        "                #    elif candles_test[i].sma21 < candles_test[i].sma200 and candles_test[i].rsi14 > 75:\n",
        "                #        pos = 0\n",
        "                #else:\n",
        "                #    pos = (0 if pos == 1 else 1)\n",
        "                \n",
        "                if pos == -1 and i not in candle_taken:\n",
        "                    if candles_test[i].rsi2 < 10 and candles_test[i].rsi14 < 30 and candles_test[i].sma21 > candles_test[i].sma50 and candles_test[i].sma21 > candles_test[i].sma200:\n",
        "                        pos = 1\n",
        "                    elif candles_test[i].rsi2 > 90 and candles_test[i].rsi14 > 70 and candles_test[i].sma21 < candles_test[i].sma50 and candles_test[i].sma21 < candles_test[i].sma200:\n",
        "                        pos = 0\n",
        "                #else:\n",
        "                #    pos = 1-pos\n",
        "\n",
        "                if pos == 0:\n",
        "                      positions.append([\"S\", c,c - rrw * atr, c + 1 * atr, -order_value])\n",
        "                      #plt.axvline(x=i, color=\"red\")\n",
        "                      \n",
        "                if pos == 1:\n",
        "                      positions.append([\"L\", c,c + rrw * atr, c - 1 * atr, order_value])\n",
        "                      #plt.axvline(x=i, color=\"green\")\n",
        "                      \n",
        "                if pos == 0 or pos == 1:\n",
        "                    #cbalance-=0.015 / 100 * order_value\n",
        "                    #cbalance-=(1 * order_value * c) / 1000000 * 20 * 2\n",
        "                    levs.append(lev)\n",
        "                    candle_taken.append(i)\n",
        "                    pass\n",
        "\n",
        "            balance.append(cbalance)\n",
        "            pk = max(cbalance, pk)\n",
        "            ml = max(ml, lev * 1000 / (cbalance + 1000))\n",
        "            omd = min(-(pk - cbalance), omd)\n",
        "\n",
        "    all_balance.append(balance)\n",
        "    all_levs.append(levs)\n",
        "    \n",
        "all_b_list = [np.sum([all_balance[y][x] for y in range(len(all_balance))]) for x in tqdm(range(len(all_balance[0])))]\n",
        "#all_b_list = all_balance[0]\n",
        "\n",
        "print(\"current:\", all_b_list[-1])\n",
        "print(\"w/l\", wins, losses)\n",
        "print(\"max l\", ml)\n",
        "print(\"max d\", min(all_b_list))\n",
        "print(\"total_max d\", omd)\n",
        "plt.figure(figsize = (20,3))\n",
        "plt.plot(all_b_list)"
      ],
      "metadata": {
        "colab": {
          "base_uri": "https://localhost:8080/",
          "height": 350
        },
        "id": "FvrESPAOqG2q",
        "outputId": "64d3eb47-7c3a-4d71-d626-1af49d0f3e92"
      },
      "execution_count": 14,
      "outputs": [
        {
          "output_type": "stream",
          "name": "stderr",
          "text": [
            "100%|██████████| 5/5 [01:09<00:00, 13.82s/it]\n",
            "100%|██████████| 431397/431397 [00:03<00:00, 108221.66it/s]\n"
          ]
        },
        {
          "output_type": "stream",
          "name": "stdout",
          "text": [
            "current: 2.674237677098986\n",
            "w/l 1112 948\n",
            "max l 10.879747514782101\n",
            "max d -0.11700147717037107\n",
            "total_max d -1.3426118465341919\n"
          ]
        },
        {
          "output_type": "execute_result",
          "data": {
            "text/plain": [
              "[<matplotlib.lines.Line2D at 0x7f58f8eaab10>]"
            ]
          },
          "metadata": {},
          "execution_count": 14
        },
        {
          "output_type": "display_data",
          "data": {
            "text/plain": [
              "<Figure size 1440x216 with 1 Axes>"
            ],
            "image/png": "[encoded data removed]"
          },
          "metadata": {
            "needs_background": "light"
          }
        }
      ]
    },
    {
      "cell_type": "code",
      "source": [
        "plt.figure(figsize = (20,3))\n",
        "all_b_mean = [np.mean([all_balance[y][x] for y in range(len(all_balance))]) for x in tqdm(range(len(all_balance[0])))]\n",
        "    \n",
        "for i in all_balance:\n",
        "    plt.plot(i, color=\"orange\")\n",
        "    \n",
        "plt.plot(all_b_mean)"
      ],
      "metadata": {
        "id": "JpfVACiQ1JsL",
        "colab": {
          "base_uri": "https://localhost:8080/"
        },
        "outputId": "8bde0dac-e22b-4a3a-cfc8-fdd66c7b97bb"
      },
      "execution_count": null,
      "outputs": [
        {
          "output_type": "stream",
          "name": "stderr",
          "text": [
            " 31%|███▏      | 135697/431397 [00:01<00:03, 74422.08it/s]"
          ]
        }
      ]
    },
    {
      "cell_type": "code",
      "source": [
        "plt.figure(figsize = (20,3))\n",
        "    \n",
        "for i in all_levs:\n",
        "    plt.plot(i, color=\"orange\")"
      ],
      "metadata": {
        "id": "yrQsc9IRdkPg"
      },
      "execution_count": null,
      "outputs": []
    },
    {
      "cell_type": "code",
      "source": [
        ""
      ],
      "metadata": {
        "id": "dFu0r9fTdlcH"
      },
      "execution_count": 13,
      "outputs": []
    }
  ],
  "metadata": {
    "colab": {
      "collapsed_sections": [],
      "name": "stochastics1",
      "provenance": [],
      "mount_file_id": "1_Liyl1QM2eHkE0gUeL_gZ_klZCJVsfOT",
      "authorship_tag": "ABX9TyMK25s55L4PlXj/8H7r4x0o",
      "include_colab_link": true
    },
    "kernelspec": {
      "display_name": "Python 3",
      "name": "python3"
    },
    "language_info": {
      "name": "python"
    }
  },
  "nbformat": 4,
  "nbformat_minor": 0
}