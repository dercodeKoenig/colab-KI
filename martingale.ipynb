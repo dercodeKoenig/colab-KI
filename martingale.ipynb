{
  "nbformat": 4,
  "nbformat_minor": 0,
  "metadata": {
    "colab": {
      "name": "martingale.ipynb",
      "provenance": [],
      "authorship_tag": "ABX9TyP/IRj5L48eVQFJjHTvNe3l",
      "include_colab_link": true
    },
    "kernelspec": {
      "name": "python3",
      "display_name": "Python 3"
    },
    "language_info": {
      "name": "python"
    }
  },
  "cells": [
    {
      "cell_type": "markdown",
      "metadata": {
        "id": "view-in-github",
        "colab_type": "text"
      },
      "source": [
        "<a href=\"https://colab.research.google.com/github/dercodeKoenig/colab-KI/blob/main/martingale.ipynb\" target=\"_parent\"><img src=\"https://colab.research.google.com/assets/colab-badge.svg\" alt=\"Open In Colab\"/></a>"
      ]
    },
    {
      "cell_type": "code",
      "execution_count": 3,
      "metadata": {
        "colab": {
          "base_uri": "https://localhost:8080/"
        },
        "id": "-IESlZPb6-ab",
        "outputId": "5b38fb0b-9cca-4aa3-d843-84ef54087e2e"
      },
      "outputs": [
        {
          "output_type": "stream",
          "name": "stdout",
          "text": [
            "Requirement already satisfied: python-binance in /usr/local/lib/python3.7/dist-packages (1.0.15)\n",
            "Collecting ta\n",
            "  Downloading ta-0.9.0.tar.gz (25 kB)\n",
            "Requirement already satisfied: aiohttp in /usr/local/lib/python3.7/dist-packages (from python-binance) (3.8.1)\n",
            "Requirement already satisfied: requests in /usr/local/lib/python3.7/dist-packages (from python-binance) (2.23.0)\n",
            "Requirement already satisfied: websockets==9.1 in /usr/local/lib/python3.7/dist-packages (from python-binance) (9.1)\n",
            "Requirement already satisfied: ujson in /usr/local/lib/python3.7/dist-packages (from python-binance) (5.1.0)\n",
            "Requirement already satisfied: dateparser in /usr/local/lib/python3.7/dist-packages (from python-binance) (1.1.1)\n",
            "Requirement already satisfied: six in /usr/local/lib/python3.7/dist-packages (from python-binance) (1.15.0)\n",
            "Requirement already satisfied: numpy in /usr/local/lib/python3.7/dist-packages (from ta) (1.21.5)\n",
            "Requirement already satisfied: pandas in /usr/local/lib/python3.7/dist-packages (from ta) (1.3.5)\n",
            "Requirement already satisfied: attrs>=17.3.0 in /usr/local/lib/python3.7/dist-packages (from aiohttp->python-binance) (21.4.0)\n",
            "Requirement already satisfied: async-timeout<5.0,>=4.0.0a3 in /usr/local/lib/python3.7/dist-packages (from aiohttp->python-binance) (4.0.2)\n",
            "Requirement already satisfied: asynctest==0.13.0 in /usr/local/lib/python3.7/dist-packages (from aiohttp->python-binance) (0.13.0)\n",
            "Requirement already satisfied: multidict<7.0,>=4.5 in /usr/local/lib/python3.7/dist-packages (from aiohttp->python-binance) (6.0.2)\n",
            "Requirement already satisfied: yarl<2.0,>=1.0 in /usr/local/lib/python3.7/dist-packages (from aiohttp->python-binance) (1.7.2)\n",
            "Requirement already satisfied: aiosignal>=1.1.2 in /usr/local/lib/python3.7/dist-packages (from aiohttp->python-binance) (1.2.0)\n",
            "Requirement already satisfied: typing-extensions>=3.7.4 in /usr/local/lib/python3.7/dist-packages (from aiohttp->python-binance) (3.10.0.2)\n",
            "Requirement already satisfied: frozenlist>=1.1.1 in /usr/local/lib/python3.7/dist-packages (from aiohttp->python-binance) (1.3.0)\n",
            "Requirement already satisfied: charset-normalizer<3.0,>=2.0 in /usr/local/lib/python3.7/dist-packages (from aiohttp->python-binance) (2.0.12)\n",
            "Requirement already satisfied: idna>=2.0 in /usr/local/lib/python3.7/dist-packages (from yarl<2.0,>=1.0->aiohttp->python-binance) (2.10)\n",
            "Requirement already satisfied: regex!=2019.02.19,!=2021.8.27,<2022.3.15 in /usr/local/lib/python3.7/dist-packages (from dateparser->python-binance) (2019.12.20)\n",
            "Requirement already satisfied: python-dateutil in /usr/local/lib/python3.7/dist-packages (from dateparser->python-binance) (2.8.2)\n",
            "Requirement already satisfied: pytz in /usr/local/lib/python3.7/dist-packages (from dateparser->python-binance) (2018.9)\n",
            "Requirement already satisfied: tzlocal in /usr/local/lib/python3.7/dist-packages (from dateparser->python-binance) (1.5.1)\n",
            "Requirement already satisfied: urllib3!=1.25.0,!=1.25.1,<1.26,>=1.21.1 in /usr/local/lib/python3.7/dist-packages (from requests->python-binance) (1.24.3)\n",
            "Requirement already satisfied: chardet<4,>=3.0.2 in /usr/local/lib/python3.7/dist-packages (from requests->python-binance) (3.0.4)\n",
            "Requirement already satisfied: certifi>=2017.4.17 in /usr/local/lib/python3.7/dist-packages (from requests->python-binance) (2021.10.8)\n",
            "Building wheels for collected packages: ta\n",
            "  Building wheel for ta (setup.py) ... \u001b[?25l\u001b[?25hdone\n",
            "  Created wheel for ta: filename=ta-0.9.0-py3-none-any.whl size=28908 sha256=27f22f66057652aabe7ffec76e11901e84750b7dadec1c9bdcba23ebbf4a40aa\n",
            "  Stored in directory: /root/.cache/pip/wheels/72/78/64/cc1c01506a1010a9845e9bd7c69333730f7174661228ea4f98\n",
            "Successfully built ta\n",
            "Installing collected packages: ta\n",
            "Successfully installed ta-0.9.0\n"
          ]
        }
      ],
      "source": [
        "!pip install python-binance ta"
      ]
    },
    {
      "cell_type": "code",
      "source": [
        "from binance.client import Client\n",
        "import numpy as np\n",
        "import time\n",
        "import matplotlib.pyplot as plt\n",
        "import pandas as pd\n",
        "from IPython.display import clear_output\n",
        "import ta\n",
        "from tqdm import tqdm\n",
        "import random\n",
        "client = Client(None, None)"
      ],
      "metadata": {
        "id": "Mtl2l5h67GUV"
      },
      "execution_count": 4,
      "outputs": []
    },
    {
      "cell_type": "code",
      "source": [
        "klines = client.get_historical_klines(\"ETHUSDT\", Client.KLINE_INTERVAL_1MINUTE, \"100 day ago\")"
      ],
      "metadata": {
        "id": "IU5JBlvb7GlX"
      },
      "execution_count": null,
      "outputs": []
    },
    {
      "cell_type": "code",
      "source": [
        "o = []\n",
        "h = []\n",
        "l = []\n",
        "c = []\n",
        "\n",
        "for i in tqdm(klines):\n",
        "    o.append(float(i[1]))\n",
        "    h.append(float(i[2]))\n",
        "    l.append(float(i[3]))\n",
        "    c.append(float(i[4]))"
      ],
      "metadata": {
        "id": "JUyjPk_B7HkA"
      },
      "execution_count": null,
      "outputs": []
    },
    {
      "cell_type": "code",
      "source": [
        "data = {\"Open\":o, \"High\":h, \"Low\":l, \"Close\":c}\n",
        "test = pd.DataFrame(data)"
      ],
      "metadata": {
        "id": "ml2Eo2dD7IhA"
      },
      "execution_count": null,
      "outputs": []
    },
    {
      "cell_type": "code",
      "source": [
        "class minic:\n",
        "    pass\n",
        "\n",
        "sma21_raw = list(ta.trend.SMAIndicator(test[\"Close\"], 21).sma_indicator())\n",
        "sma50_raw = list(ta.trend.SMAIndicator(test[\"Close\"], 50).sma_indicator())\n",
        "sma200_raw = list(ta.trend.SMAIndicator(test[\"Close\"], 200).sma_indicator())\n",
        "rsi_14 = list(ta.momentum.RSIIndicator(test[\"Close\"], 14).rsi())\n",
        "rsi_2 = list(ta.momentum.RSIIndicator(test[\"Close\"], 2).rsi())\n",
        "rsi_4 = list(ta.momentum.RSIIndicator(test[\"Close\"], 4).rsi())\n",
        "atr_values = list(ta.volatility.AverageTrueRange(test[\"High\"], test[\"Low\"], test[\"Close\"], 200).average_true_range())\n",
        "\n",
        "candles_test = []\n",
        "\n",
        "for i in tqdm(range(220,len(test))):\n",
        "        new_candle = minic()\n",
        "        o,h,l,c = test.iloc[i]\n",
        "        new_candle.o = o\n",
        "        new_candle.h = h\n",
        "        new_candle.l = l\n",
        "        new_candle.c = c\n",
        "        new_candle.atr_value = atr_values[i]\n",
        "        new_candle.sma21 = sma21_raw[i]\n",
        "        new_candle.sma50 = sma50_raw[i]\n",
        "        new_candle.sma200 = sma200_raw[i]\n",
        "        new_candle.rsi14 = rsi_14[i]\n",
        "        new_candle.rsi2 = rsi_2[i]\n",
        "        new_candle.rsi4 = rsi_4[i]        \n",
        "        candles_test.append(new_candle)\n",
        "            \n",
        "        "
      ],
      "metadata": {
        "id": "lZ4f77NF7Jn4"
      },
      "execution_count": null,
      "outputs": []
    },
    {
      "cell_type": "code",
      "source": [
        "am = 6\n",
        "rrw = 1\n",
        "inc = 1.5\n",
        "b = 0.9\n",
        "\n",
        "#plt.figure(figsize=(20,5))\n",
        "#plt.plot([a.c for a in candle_test])\n",
        "\n",
        "wins = 0\n",
        "losses = 0\n",
        "\n",
        "omd = 0\n",
        "ml = 0\n",
        "pk = 0\n",
        "all_balance = []\n",
        "all_levs = []\n",
        "for episode in tqdm(range(50)):\n",
        "    \n",
        "    balance = []\n",
        "    levs = []\n",
        "    cbalance = 0\n",
        "    clvl = 1\n",
        "    for _ in range(1):\n",
        "\n",
        "        positions = []\n",
        "        pos = -1\n",
        "        balance.extend([cbalance for _ in range(episode)])\n",
        "        \n",
        "        for i in range(episode, len(candles_test)):\n",
        "            c = candles_test[i].c\n",
        "            h = candles_test[i].h\n",
        "            l = candles_test[i].l\n",
        "            o = candles_test[i].o\n",
        "\n",
        "            #color = \"red\" if o > c else \"green\" if o < c else \"blue\"\n",
        "            #plt.plot([i,i],[o,c],linewidth=3, color = color)\n",
        "            #plt.plot([i,i],[l,h],linewidth=1, color = color)\n",
        "\n",
        "\n",
        "\n",
        "\n",
        "            atr = candles_test[i].atr_value * am\n",
        "\n",
        "            while True:\n",
        "              sth = False\n",
        "              for o in range(len(positions)):\n",
        "                if positions[o][0] == \"S\":\n",
        "                  if h > positions[o][3]:\n",
        "                    cbalance += (positions[o][3] - positions[o][1]) / positions[o][1] * positions[o][4]\n",
        "                    del positions[o]\n",
        "                    sth = True\n",
        "                    losses+=1\n",
        "                    clvl+=1\n",
        "                    break\n",
        "                  if l < positions[o][2]:\n",
        "                    cbalance += (positions[o][2] - positions[o][1]) / positions[o][1] * positions[o][4]\n",
        "                    del positions[o]\n",
        "                    wins+=1\n",
        "                    sth = True\n",
        "                    clvl=1\n",
        "                    pos = -1\n",
        "                    break\n",
        "\n",
        "                if positions[o][0] == \"L\":\n",
        "                  if l < positions[o][3]:\n",
        "                    cbalance += (positions[o][3] - positions[o][1]) / positions[o][1] * positions[o][4]\n",
        "                    del positions[o]\n",
        "                    sth = True\n",
        "                    losses+=1\n",
        "                    clvl+=1\n",
        "                    break\n",
        "                  if h > positions[o][2]:\n",
        "                    cbalance += (positions[o][2] - positions[o][1]) / positions[o][1] * positions[o][4]\n",
        "                    del positions[o]\n",
        "                    sth = True\n",
        "                    clvl=1\n",
        "                    wins+=1\n",
        "                    pos = -1\n",
        "                    break\n",
        "\n",
        "              if sth == False:\n",
        "                break\n",
        "\n",
        "\n",
        "                \n",
        "            lev = 1*(inc**clvl)**(b**clvl)\n",
        "            \n",
        "            order_value = c/atr * lev* 0.005\n",
        "            #order_value = 1000 * lev\n",
        "            \n",
        "            \n",
        "            \n",
        "            if len(positions) == 0:\n",
        "\n",
        "                #pos = random.randint(0,1) if pos == -1 else (0 if pos == 1 else 1)\n",
        "                #pos = random.randint(0,1) if pos == -1 else pos\n",
        "                pos = random.randint(0,1)\n",
        "\n",
        "\n",
        "                #if pos == -1: \n",
        "                #     if candles_test[i].sma21 > candles_test[i].sma200 and candles_test[i].rsi14 < 25:\n",
        "                #        pos = 1\n",
        "                #    elif candles_test[i].sma21 < candles_test[i].sma200 and candles_test[i].rsi14 > 75:\n",
        "                #        pos = 0\n",
        "                #else:\n",
        "                #    pos = (0 if pos == 1 else 1)\n",
        "                \n",
        "                #if pos == -1:\n",
        "                #    if candles_test[i].rsi2 < 10 and candles_test[i].rsi14 < 30 and candles_test[i].sma21 > candles_test[i].sma50 and candles_test[i].sma21 > candles_test[i].sma200:\n",
        "                #        pos = 1\n",
        "                #    elif candles_test[i].rsi2 > 90 and candles_test[i].rsi14 > 70 and candles_test[i].sma21 < candles_test[i].sma50 and candles_test[i].sma21 < candles_test[i].sma200:\n",
        "                #        pos = 0\n",
        "                #else:\n",
        "                #    pos = 1-pos\n",
        "\n",
        "                if pos == 0:\n",
        "                      positions.append([\"S\", c,c - rrw * atr, c + 1 * atr, -order_value])\n",
        "                      #plt.axvline(x=i, color=\"red\")\n",
        "                      \n",
        "                if pos == 1:\n",
        "                      positions.append([\"L\", c,c + rrw * atr, c - 1 * atr, order_value])\n",
        "                      #plt.axvline(x=i, color=\"green\")\n",
        "                      \n",
        "                if pos == 0 or pos == 1:\n",
        "                    #cbalance-=0.015 / 100 * order_value\n",
        "                    #cbalance-=(1 * order_value * c) / 1000000 * 20 * 2\n",
        "                    levs.append(lev)\n",
        "                    pass\n",
        "\n",
        "            balance.append(cbalance)\n",
        "            pk = max(cbalance, pk)\n",
        "            ml = max(ml, lev * 1000 / (cbalance + 1000))\n",
        "            omd = min(-(pk - cbalance), omd)\n",
        "\n",
        "    all_balance.append(balance)\n",
        "    all_levs.append(levs)\n",
        "    \n",
        "all_b_list = [np.sum([all_balance[y][x] for y in range(len(all_balance))]) for x in tqdm(range(len(all_balance[0])))]\n",
        "#all_b_list = all_balance[0]\n",
        "\n",
        "print(\"current:\", all_b_list[-1])\n",
        "print(\"w/l\", wins, losses)\n",
        "print(\"max l\", ml)\n",
        "print(\"max d\", min(all_b_list))\n",
        "print(\"total_max d\", omd)\n",
        "plt.figure(figsize = (20,3))\n",
        "plt.plot(all_b_list)"
      ],
      "metadata": {
        "id": "-KZJKTCH7Rqo"
      },
      "execution_count": null,
      "outputs": []
    },
    {
      "cell_type": "code",
      "source": [
        "plt.figure(figsize = (20,3))\n",
        "all_b_mean = [np.mean([all_balance[y][x] for y in range(len(all_balance))]) for x in tqdm(range(len(all_balance[0])))]\n",
        "    \n",
        "for i in all_balance:\n",
        "    plt.plot(i, color=\"orange\")\n",
        "    \n",
        "plt.plot(all_b_mean)"
      ],
      "metadata": {
        "id": "TcdZZsxJ7S43"
      },
      "execution_count": null,
      "outputs": []
    },
    {
      "cell_type": "code",
      "source": [
        "plt.figure(figsize = (20,3))\n",
        "    \n",
        "for i in all_levs:\n",
        "    plt.plot(i, color=\"orange\")"
      ],
      "metadata": {
        "id": "TxJHEoft7UYm"
      },
      "execution_count": null,
      "outputs": []
    },
    {
      "cell_type": "code",
      "source": [
        ""
      ],
      "metadata": {
        "id": "aLPDvol07VYV"
      },
      "execution_count": null,
      "outputs": []
    }
  ]
}