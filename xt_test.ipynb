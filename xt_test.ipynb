{
  "cells": [
    {
      "cell_type": "markdown",
      "metadata": {
        "id": "view-in-github",
        "colab_type": "text"
      },
      "source": [
        "<a href=\"https://colab.research.google.com/github/dercodeKoenig/colab-KI/blob/main/xt_test.ipynb\" target=\"_parent\"><img src=\"https://colab.research.google.com/assets/colab-badge.svg\" alt=\"Open In Colab\"/></a>"
      ]
    },
    {
      "cell_type": "code",
      "execution_count": null,
      "metadata": {
        "colab": {
          "base_uri": "https://localhost:8080/"
        },
        "id": "-PNMVYABBRY8",
        "outputId": "ee94f180-9544-45b0-8604-e47e22f751d7"
      },
      "outputs": [
        {
          "output_type": "stream",
          "name": "stdout",
          "text": [
            "Found existing installation: kaggle 1.5.12\n",
            "Uninstalling kaggle-1.5.12:\n",
            "  Successfully uninstalled kaggle-1.5.12\n",
            "Collecting kaggle\n",
            "  Downloading kaggle-1.5.12.tar.gz (58 kB)\n",
            "\u001b[K     |████████████████████████████████| 58 kB 2.0 MB/s \n",
            "\u001b[?25hRequirement already satisfied: six>=1.10 in /usr/local/lib/python3.7/dist-packages (from kaggle) (1.15.0)\n",
            "Requirement already satisfied: certifi in /usr/local/lib/python3.7/dist-packages (from kaggle) (2021.10.8)\n",
            "Requirement already satisfied: python-dateutil in /usr/local/lib/python3.7/dist-packages (from kaggle) (2.8.2)\n",
            "Requirement already satisfied: requests in /usr/local/lib/python3.7/dist-packages (from kaggle) (2.23.0)\n",
            "Requirement already satisfied: tqdm in /usr/local/lib/python3.7/dist-packages (from kaggle) (4.62.3)\n",
            "Requirement already satisfied: python-slugify in /usr/local/lib/python3.7/dist-packages (from kaggle) (6.0.1)\n",
            "Requirement already satisfied: urllib3 in /usr/local/lib/python3.7/dist-packages (from kaggle) (1.24.3)\n",
            "Requirement already satisfied: text-unidecode>=1.3 in /usr/local/lib/python3.7/dist-packages (from python-slugify->kaggle) (1.3)\n",
            "Requirement already satisfied: idna<3,>=2.5 in /usr/local/lib/python3.7/dist-packages (from requests->kaggle) (2.10)\n",
            "Requirement already satisfied: chardet<4,>=3.0.2 in /usr/local/lib/python3.7/dist-packages (from requests->kaggle) (3.0.4)\n",
            "Building wheels for collected packages: kaggle\n",
            "  Building wheel for kaggle (setup.py) ... \u001b[?25l\u001b[?25hdone\n",
            "  Created wheel for kaggle: filename=kaggle-1.5.12-py3-none-any.whl size=73051 sha256=e10a7429679c6cc9259bfe73bc9c9855e9b95358e90999d59279388c87a6f71f\n",
            "  Stored in directory: /root/.cache/pip/wheels/62/d6/58/5853130f941e75b2177d281eb7e44b4a98ed46dd155f556dc5\n",
            "Successfully built kaggle\n",
            "Installing collected packages: kaggle\n",
            "Successfully installed kaggle-1.5.12\n"
          ]
        }
      ],
      "source": [
        "!mkdir /root/.kaggle/\n",
        "!echo '{\"username\":\"bpwqsdd\",\"key\":\"55c6bac7a9ea2f38dd966a1d1a4e31f8\"}' > /root/.kaggle/kaggle.json\n",
        "!pip uninstall kaggle -y\n",
        "!python -m pip install kaggle"
      ]
    },
    {
      "cell_type": "code",
      "execution_count": null,
      "metadata": {
        "colab": {
          "base_uri": "https://localhost:8080/"
        },
        "id": "v2gxG5N1BSFi",
        "outputId": "a9710ade-e1f3-4243-ad7a-28a541652634"
      },
      "outputs": [
        {
          "output_type": "stream",
          "name": "stdout",
          "text": [
            "Warning: Your Kaggle API key is readable by other users on this system! To fix this, you can run 'chmod 600 /root/.kaggle/kaggle.json'\n",
            "tcmalloc: large alloc 2302099456 bytes == 0x55b39382c000 @  0x7f8aa14001e7 0x55b2eaf91518 0x55b2eaf5bd17 0x55b2eaf5dd00 0x55b2eaf5f1cd 0x55b2eb051b3d 0x55b2eafd3458 0x55b2eae9fd14 0x55b2eb051c51 0x55b2eb07f639 0x55b2eafcf017 0x55b2eafce02f 0x55b2eaf6136c 0x55b2eaf61571 0x55b2eafd0633 0x55b2eafce02f 0x55b2eaf6136c 0x55b2eaf61571 0x55b2eafd0633 0x55b2eafce02f 0x55b2eae9fe2b 0x55b2eafd0633 0x55b2eafce02f 0x55b2eaf60aba 0x55b2eafd32c0 0x55b2eafce02f 0x55b2eaf60aba 0x55b2eafcf108 0x55b2eafce02f 0x55b2eaf6136c 0x55b2eaf61571\n",
            "Output file downloaded to data/AUDUSD-2000-2020-15m.csv_X.npy\n",
            "Output file downloaded to data/AUDUSD-2000-2020-15m.csv_Y.npy\n",
            "tcmalloc: large alloc 2298937344 bytes == 0x55b393892000 @  0x7f8aa14001e7 0x55b2eaf91518 0x55b2eaf5bd17 0x55b2eaf5dd00 0x55b2eaf5f1cd 0x55b2eb051b3d 0x55b2eafd3458 0x55b2eae9fd14 0x55b2eb051c51 0x55b2eb07f639 0x55b2eafcf017 0x55b2eafce02f 0x55b2eaf6136c 0x55b2eaf61571 0x55b2eafd0633 0x55b2eafce02f 0x55b2eaf6136c 0x55b2eaf61571 0x55b2eafd0633 0x55b2eafce02f 0x55b2eae9fe2b 0x55b2eafd0633 0x55b2eafce02f 0x55b2eaf60aba 0x55b2eafd32c0 0x55b2eafce02f 0x55b2eaf60aba 0x55b2eafcf108 0x55b2eafce02f 0x55b2eaf6136c 0x55b2eaf61571\n",
            "Output file downloaded to data/EURCHF-2000-2020-15m.csv_X.npy\n",
            "Output file downloaded to data/EURCHF-2000-2020-15m.csv_Y.npy\n",
            "tcmalloc: large alloc 2246574080 bytes == 0x55b392770000 @  0x7f8aa14001e7 0x55b2eaf91518 0x55b2eaf5bd17 0x55b2eaf5dd00 0x55b2eaf5f1cd 0x55b2eb051b3d 0x55b2eafd3458 0x55b2eae9fd14 0x55b2eb051c51 0x55b2eb07f639 0x55b2eafcf017 0x55b2eafce02f 0x55b2eaf6136c 0x55b2eaf61571 0x55b2eafd0633 0x55b2eafce02f 0x55b2eaf6136c 0x55b2eaf61571 0x55b2eafd0633 0x55b2eafce02f 0x55b2eae9fe2b 0x55b2eafd0633 0x55b2eafce02f 0x55b2eaf60aba 0x55b2eafd32c0 0x55b2eafce02f 0x55b2eaf60aba 0x55b2eafcf108 0x55b2eafce02f 0x55b2eaf6136c 0x55b2eaf61571\n",
            "Output file downloaded to data/EURJPY-2000-2020-15m.csv_X.npy\n",
            "Output file downloaded to data/EURJPY-2000-2020-15m.csv_Y.npy\n",
            "tcmalloc: large alloc 2305433600 bytes == 0x55b393ff4000 @  0x7f8aa14001e7 0x55b2eaf91518 0x55b2eaf5bd17 0x55b2eaf5dd00 0x55b2eaf5f1cd 0x55b2eb051b3d 0x55b2eafd3458 0x55b2eae9fd14 0x55b2eb051c51 0x55b2eb07f639 0x55b2eafcf017 0x55b2eafce02f 0x55b2eaf6136c 0x55b2eaf61571 0x55b2eafd0633 0x55b2eafce02f 0x55b2eaf6136c 0x55b2eaf61571 0x55b2eafd0633 0x55b2eafce02f 0x55b2eae9fe2b 0x55b2eafd0633 0x55b2eafce02f 0x55b2eaf60aba 0x55b2eafd32c0 0x55b2eafce02f 0x55b2eaf60aba 0x55b2eafcf108 0x55b2eafce02f 0x55b2eaf6136c 0x55b2eaf61571\n",
            "Output file downloaded to data/EURUSD-2000-2020-15m.csv_X.npy\n",
            "Output file downloaded to data/EURUSD-2000-2020-15m.csv_Y.npy\n",
            "tcmalloc: large alloc 2298273792 bytes == 0x55b393fe6000 @  0x7f8aa14001e7 0x55b2eaf91518 0x55b2eaf5bd17 0x55b2eaf5dd00 0x55b2eaf5f1cd 0x55b2eb051b3d 0x55b2eafd3458 0x55b2eae9fd14 0x55b2eb051c51 0x55b2eb07f639 0x55b2eafcf017 0x55b2eafce02f 0x55b2eaf6136c 0x55b2eaf61571 0x55b2eafd0633 0x55b2eafce02f 0x55b2eaf6136c 0x55b2eaf61571 0x55b2eafd0633 0x55b2eafce02f 0x55b2eae9fe2b 0x55b2eafd0633 0x55b2eafce02f 0x55b2eaf60aba 0x55b2eafd32c0 0x55b2eafce02f 0x55b2eaf60aba 0x55b2eafcf108 0x55b2eafce02f 0x55b2eaf6136c 0x55b2eaf61571\n",
            "Output file downloaded to data/USDCAD-2000-2020-15m.csv_X.npy\n",
            "Output file downloaded to data/USDCAD-2000-2020-15m.csv_Y.npy\n",
            "tcmalloc: large alloc 2302287872 bytes == 0x55b393fee000 @  0x7f8aa14001e7 0x55b2eaf91518 0x55b2eaf5bd17 0x55b2eaf5dd00 0x55b2eaf5f1cd 0x55b2eb051b3d 0x55b2eafd3458 0x55b2eae9fd14 0x55b2eb051c51 0x55b2eb07f639 0x55b2eafcf017 0x55b2eafce02f 0x55b2eaf6136c 0x55b2eaf61571 0x55b2eafd0633 0x55b2eafce02f 0x55b2eaf6136c 0x55b2eaf61571 0x55b2eafd0633 0x55b2eafce02f 0x55b2eae9fe2b 0x55b2eafd0633 0x55b2eafce02f 0x55b2eaf60aba 0x55b2eafd32c0 0x55b2eafce02f 0x55b2eaf60aba 0x55b2eafcf108 0x55b2eafce02f 0x55b2eaf6136c 0x55b2eaf61571\n",
            "Output file downloaded to data/USDCHF-2000-2020-15m.csv_X.npy\n",
            "Output file downloaded to data/USDCHF-2000-2020-15m.csv_Y.npy\n",
            "tcmalloc: large alloc 2303057920 bytes == 0x55b393d38000 @  0x7f8aa14001e7 0x55b2eaf91518 0x55b2eaf5bd17 0x55b2eaf5dd00 0x55b2eaf5f1cd 0x55b2eb051b3d 0x55b2eafd3458 0x55b2eae9fd14 0x55b2eb051c51 0x55b2eb07f639 0x55b2eafcf017 0x55b2eafce02f 0x55b2eaf6136c 0x55b2eaf61571 0x55b2eafd0633 0x55b2eafce02f 0x55b2eaf6136c 0x55b2eaf61571 0x55b2eafd0633 0x55b2eafce02f 0x55b2eae9fe2b 0x55b2eafd0633 0x55b2eafce02f 0x55b2eaf60aba 0x55b2eafd32c0 0x55b2eafce02f 0x55b2eaf60aba 0x55b2eafcf108 0x55b2eafce02f 0x55b2eaf6136c 0x55b2eaf61571\n",
            "Output file downloaded to data/USDJPY-2000-2020-15m.csv_X.npy\n",
            "Output file downloaded to data/USDJPY-2000-2020-15m.csv_Y.npy\n",
            "Kernel log downloaded to data/notebook5ab17ab441.log \n"
          ]
        }
      ],
      "source": [
        "!kaggle kernels output bpwqsdd/notebook5ab17ab441 -p data/"
      ]
    },
    {
      "cell_type": "code",
      "execution_count": null,
      "metadata": {
        "id": "IW7DauNDBb6C"
      },
      "outputs": [],
      "source": [
        "import tensorflow as tf\n",
        "from tensorflow import keras\n",
        "from tensorflow.keras import layers\n",
        "import numpy as np\n",
        "import matplotlib.pyplot as plt\n",
        "import os\n",
        "from IPython.display import clear_output\n",
        "from tqdm.notebook import tqdm\n",
        "import gc"
      ]
    },
    {
      "cell_type": "code",
      "execution_count": null,
      "metadata": {
        "colab": {
          "base_uri": "https://localhost:8080/"
        },
        "id": "x2u1gxqxBm2S",
        "outputId": "0b462c0b-3499-4131-af19-67c2858a2305"
      },
      "outputs": [
        {
          "output_type": "execute_result",
          "data": {
            "text/plain": [
              "[('EURCHF-2000-2020-15m.csv_X.npy', 'EURCHF-2000-2020-15m.csv_Y.npy'),\n",
              " ('EURUSD-2000-2020-15m.csv_X.npy', 'EURUSD-2000-2020-15m.csv_Y.npy'),\n",
              " ('AUDUSD-2000-2020-15m.csv_X.npy', 'AUDUSD-2000-2020-15m.csv_Y.npy'),\n",
              " ('EURJPY-2000-2020-15m.csv_X.npy', 'EURJPY-2000-2020-15m.csv_Y.npy'),\n",
              " ('USDCHF-2000-2020-15m.csv_X.npy', 'USDCHF-2000-2020-15m.csv_Y.npy'),\n",
              " ('USDCAD-2000-2020-15m.csv_X.npy', 'USDCAD-2000-2020-15m.csv_Y.npy'),\n",
              " ('USDJPY-2000-2020-15m.csv_X.npy', 'USDJPY-2000-2020-15m.csv_Y.npy')]"
            ]
          },
          "metadata": {},
          "execution_count": 4
        }
      ],
      "source": [
        "ddir = \"data/\"\n",
        "\n",
        "files = os.listdir(ddir)\n",
        "\n",
        "xfiles = []\n",
        "yfiles = []\n",
        "for i in files:\n",
        "    if \"Y.npy\" in i:\n",
        "        yfiles.append(i)\n",
        "    if \"X.npy\" in i:\n",
        "        xfiles.append(i)\n",
        "xfiles, yfiles        \n",
        "\n",
        "pairs = []\n",
        "for i in xfiles:\n",
        "    for o in yfiles:\n",
        "        if(i[:-5] == o[:-5]):\n",
        "            pairs.append((i,o))\n",
        "pairs"
      ]
    },
    {
      "cell_type": "code",
      "execution_count": null,
      "metadata": {
        "colab": {
          "base_uri": "https://localhost:8080/"
        },
        "id": "cBcMCog5B7B9",
        "outputId": "a72c5235-b042-4815-8b4d-8057f4270627"
      },
      "outputs": [
        {
          "output_type": "stream",
          "name": "stdout",
          "text": [
            "Model: \"model\"\n",
            "_________________________________________________________________\n",
            " Layer (type)                Output Shape              Param #   \n",
            "=================================================================\n",
            " input_1 (InputLayer)        [(None, 144, 8)]          0         \n",
            "                                                                 \n",
            " conv1d (Conv1D)             (None, 144, 128)          5248      \n",
            "                                                                 \n",
            " leaky_re_lu (LeakyReLU)     (None, 144, 128)          0         \n",
            "                                                                 \n",
            " lstm (LSTM)                 (None, 144, 128)          131584    \n",
            "                                                                 \n",
            " dropout (Dropout)           (None, 144, 128)          0         \n",
            "                                                                 \n",
            " transformer_block (Transfor  (None, 144, 128)         808256    \n",
            " merBlock)                                                       \n",
            "                                                                 \n",
            " conv1d_1 (Conv1D)           (None, 144, 128)          82048     \n",
            "                                                                 \n",
            " leaky_re_lu_1 (LeakyReLU)   (None, 144, 128)          0         \n",
            "                                                                 \n",
            " lstm_1 (LSTM)               (None, 144, 128)          131584    \n",
            "                                                                 \n",
            " dropout_3 (Dropout)         (None, 144, 128)          0         \n",
            "                                                                 \n",
            " transformer_block_1 (Transf  (None, 144, 128)         808256    \n",
            " ormerBlock)                                                     \n",
            "                                                                 \n",
            " conv1d_2 (Conv1D)           (None, 144, 128)          82048     \n",
            "                                                                 \n",
            " leaky_re_lu_2 (LeakyReLU)   (None, 144, 128)          0         \n",
            "                                                                 \n",
            " lstm_2 (LSTM)               (None, 144, 128)          131584    \n",
            "                                                                 \n",
            " dropout_6 (Dropout)         (None, 144, 128)          0         \n",
            "                                                                 \n",
            " transformer_block_2 (Transf  (None, 144, 128)         808256    \n",
            " ormerBlock)                                                     \n",
            "                                                                 \n",
            " gru (GRU)                   (None, 256)               296448    \n",
            "                                                                 \n",
            " dropout_9 (Dropout)         (None, 256)               0         \n",
            "                                                                 \n",
            " dense_6 (Dense)             (None, 128)               32896     \n",
            "                                                                 \n",
            " dense_7 (Dense)             (None, 64)                8256      \n",
            "                                                                 \n",
            " dense_8 (Dense)             (None, 32)                2080      \n",
            "                                                                 \n",
            " dense_9 (Dense)             (None, 16)                528       \n",
            "                                                                 \n",
            " dense_10 (Dense)            (None, 8)                 136       \n",
            "                                                                 \n",
            " dense_11 (Dense)            (None, 1)                 9         \n",
            "                                                                 \n",
            "=================================================================\n",
            "Total params: 3,329,217\n",
            "Trainable params: 3,329,217\n",
            "Non-trainable params: 0\n",
            "_________________________________________________________________\n"
          ]
        }
      ],
      "source": [
        "seq_len = int(60 / 15 * 24 * 1.5)\n",
        "nf = 8\n",
        "\n",
        "if True:\n",
        "    inputs = layers.Input(shape = (seq_len, nf))\n",
        "    x = inputs\n",
        "    \n",
        "    x = tf.keras.layers.Conv1D(32,5,activation = \"relu\", padding=\"same\")(x)\n",
        "    x = tf.keras.layers.LeakyReLU()(x)\n",
        "    x = tf.keras.layers.LSTM(32, activation = \"tanh\", return_sequences=True)(x)\n",
        "    x = tf.keras.layers.Dropout(0.1)(x)\n",
        "    \n",
        "    x = tf.keras.layers.Conv1D(32,5,activation = \"relu\", padding=\"same\")(x)\n",
        "    x = tf.keras.layers.LeakyReLU()(x)\n",
        "    x = tf.keras.layers.LSTM(32, activation = \"tanh\", return_sequences=True)(x)\n",
        "    x = tf.keras.layers.Dropout(0.1)(x)\n",
        "    \n",
        "    x = tf.keras.layers.Conv1D(32,5,activation = \"relu\", padding=\"same\")(x)\n",
        "    x = tf.keras.layers.LeakyReLU()(x)\n",
        "    x = tf.keras.layers.LSTM(32, activation = \"tanh\", return_sequences=True)(x)\n",
        "    x = tf.keras.layers.Dropout(0.1)(x)\n",
        "\n",
        "\n",
        "    x = tf.keras.layers.GRU(32, activation = \"tanh\", return_sequences=False)(x)\n",
        "    x = tf.keras.layers.Dropout(0.1)(x)\n",
        "    \n",
        "    x = tf.keras.layers.Dense(32, activation=\"relu\")(x)\n",
        "    x = tf.keras.layers.Dense(16, activation=\"relu\")(x)\n",
        "    x = tf.keras.layers.Dense(8, activation=\"relu\")(x)\n",
        "    \n",
        "    outputs = tf.keras.layers.Dense(1, activation = \"tanh\")(x)\n",
        "    \n",
        "    model = tf.keras.Model(inputs, outputs)\n",
        "    loss = tf.keras.losses.MeanSquaredError()\n",
        "    opt = tf.keras.optimizers.SGD(learning_rate=0.00002, momentum=0.9, nesterov=True)\n",
        "    #opt = tf.keras.optimizers.Adam(learning_rate=0.0001)\n",
        "    model.compile(opt, loss, metrics=[tf.keras.metrics.MeanAbsoluteError()])\n",
        "\n",
        "model.summary()"
      ]
    },
    {
      "cell_type": "code",
      "execution_count": null,
      "metadata": {
        "colab": {
          "base_uri": "https://localhost:8080/"
        },
        "id": "eVMjL1QoCeRz",
        "outputId": "fb3eeb80-8b7b-482b-f68c-54f2b8b8dec7"
      },
      "outputs": [
        {
          "output_type": "stream",
          "name": "stdout",
          "text": [
            "   9590/Unknown - 12981s 1s/step - loss: 0.7247 - mean_absolute_error: 0.7177"
          ]
        }
      ],
      "source": [
        "batch_size = 256\n",
        "def generator():\n",
        "    for x,y in pairs:\n",
        "        X = np.load(ddir+x)\n",
        "        Y = np.load(ddir+y)\n",
        "        p = np.random.permutation(X.shape[0])\n",
        "        for i in range(0, Y.shape[0], batch_size):\n",
        "            yield X[p[i:i+batch_size]], Y[p[i:i+batch_size]]\n",
        "        del X\n",
        "        del Y\n",
        "        gc.collect()\n",
        "for _ in range(100):\n",
        "    model.fit(generator())"
      ]
    },
    {
      "cell_type": "code",
      "execution_count": null,
      "metadata": {
        "id": "6KUmCDkACx3M"
      },
      "outputs": [],
      "source": [
        ""
      ]
    },
    {
      "cell_type": "code",
      "source": [
        ""
      ],
      "metadata": {
        "id": "2W1tplAZZ0Lj"
      },
      "execution_count": null,
      "outputs": []
    }
  ],
  "metadata": {
    "accelerator": "GPU",
    "colab": {
      "name": "xt_test",
      "provenance": [],
      "authorship_tag": "ABX9TyM4q0kRNFtf6SdMEJqobaCh",
      "include_colab_link": true
    },
    "kernelspec": {
      "display_name": "Python 3",
      "name": "python3"
    },
    "language_info": {
      "name": "python"
    }
  },
  "nbformat": 4,
  "nbformat_minor": 0
}