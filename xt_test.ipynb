{
  "cells": [
    {
      "cell_type": "markdown",
      "metadata": {
        "id": "view-in-github",
        "colab_type": "text"
      },
      "source": [
        "<a href=\"https://colab.research.google.com/github/dercodeKoenig/colab-KI/blob/main/xt_test.ipynb\" target=\"_parent\"><img src=\"https://colab.research.google.com/assets/colab-badge.svg\" alt=\"Open In Colab\"/></a>"
      ]
    },
    {
      "cell_type": "code",
      "execution_count": null,
      "metadata": {
        "colab": {
          "base_uri": "https://localhost:8080/"
        },
        "id": "-PNMVYABBRY8",
        "outputId": "05c09d09-1c90-4f40-db4b-b8cdd31b9a1b"
      },
      "outputs": [
        {
          "output_type": "stream",
          "name": "stdout",
          "text": [
            "Found existing installation: kaggle 1.5.12\n",
            "Uninstalling kaggle-1.5.12:\n",
            "  Successfully uninstalled kaggle-1.5.12\n",
            "Collecting kaggle\n",
            "  Downloading kaggle-1.5.12.tar.gz (58 kB)\n",
            "\u001b[K     |████████████████████████████████| 58 kB 7.0 MB/s \n",
            "\u001b[?25hRequirement already satisfied: six>=1.10 in /usr/local/lib/python3.7/dist-packages (from kaggle) (1.15.0)\n",
            "Requirement already satisfied: certifi in /usr/local/lib/python3.7/dist-packages (from kaggle) (2021.10.8)\n",
            "Requirement already satisfied: python-dateutil in /usr/local/lib/python3.7/dist-packages (from kaggle) (2.8.2)\n",
            "Requirement already satisfied: requests in /usr/local/lib/python3.7/dist-packages (from kaggle) (2.23.0)\n",
            "Requirement already satisfied: tqdm in /usr/local/lib/python3.7/dist-packages (from kaggle) (4.63.0)\n",
            "Requirement already satisfied: python-slugify in /usr/local/lib/python3.7/dist-packages (from kaggle) (6.1.1)\n",
            "Requirement already satisfied: urllib3 in /usr/local/lib/python3.7/dist-packages (from kaggle) (1.24.3)\n",
            "Requirement already satisfied: text-unidecode>=1.3 in /usr/local/lib/python3.7/dist-packages (from python-slugify->kaggle) (1.3)\n",
            "Requirement already satisfied: idna<3,>=2.5 in /usr/local/lib/python3.7/dist-packages (from requests->kaggle) (2.10)\n",
            "Requirement already satisfied: chardet<4,>=3.0.2 in /usr/local/lib/python3.7/dist-packages (from requests->kaggle) (3.0.4)\n",
            "Building wheels for collected packages: kaggle\n",
            "  Building wheel for kaggle (setup.py) ... \u001b[?25l\u001b[?25hdone\n",
            "  Created wheel for kaggle: filename=kaggle-1.5.12-py3-none-any.whl size=73051 sha256=b67fd6a77bfbe4b0381d64e29e14c35477d0dfb16c3e094fd03990de5ecc43e9\n",
            "  Stored in directory: /root/.cache/pip/wheels/62/d6/58/5853130f941e75b2177d281eb7e44b4a98ed46dd155f556dc5\n",
            "Successfully built kaggle\n",
            "Installing collected packages: kaggle\n",
            "Successfully installed kaggle-1.5.12\n"
          ]
        }
      ],
      "source": [
        "!mkdir /root/.kaggle/\n",
        "!echo '{\"username\":\"bpwqsdd\",\"key\":\"55c6bac7a9ea2f38dd966a1d1a4e31f8\"}' > /root/.kaggle/kaggle.json\n",
        "!pip uninstall kaggle -y\n",
        "!python -m pip install kaggle"
      ]
    },
    {
      "cell_type": "code",
      "execution_count": null,
      "metadata": {
        "colab": {
          "base_uri": "https://localhost:8080/"
        },
        "id": "v2gxG5N1BSFi",
        "outputId": "2329c8c9-b2ca-48b2-9ae6-1340a9bf8bef"
      },
      "outputs": [
        {
          "output_type": "stream",
          "name": "stdout",
          "text": [
            "Warning: Your Kaggle API key is readable by other users on this system! To fix this, you can run 'chmod 600 /root/.kaggle/kaggle.json'\n",
            "tcmalloc: large alloc 2302099456 bytes == 0x55f55e11c000 @  0x7fbf907ef1e7 0x55f4b60cc518 0x55f4b6096d17 0x55f4b6098d00 0x55f4b609a1cd 0x55f4b618cb3d 0x55f4b610e458 0x55f4b5fdad14 0x55f4b618cc51 0x55f4b61ba639 0x55f4b610a017 0x55f4b610902f 0x55f4b609c36c 0x55f4b609c571 0x55f4b610b633 0x55f4b610902f 0x55f4b609c36c 0x55f4b609c571 0x55f4b610b633 0x55f4b610902f 0x55f4b5fdae2b 0x55f4b610b633 0x55f4b610902f 0x55f4b609baba 0x55f4b610e2c0 0x55f4b610902f 0x55f4b609baba 0x55f4b610a108 0x55f4b610902f 0x55f4b609c36c 0x55f4b609c571\n",
            "Output file downloaded to data/AUDUSD-2000-2020-15m.csv_X.npy\n",
            "Output file downloaded to data/AUDUSD-2000-2020-15m.csv_Y.npy\n",
            "tcmalloc: large alloc 2298937344 bytes == 0x55f55e188000 @  0x7fbf907ef1e7 0x55f4b60cc518 0x55f4b6096d17 0x55f4b6098d00 0x55f4b609a1cd 0x55f4b618cb3d 0x55f4b610e458 0x55f4b5fdad14 0x55f4b618cc51 0x55f4b61ba639 0x55f4b610a017 0x55f4b610902f 0x55f4b609c36c 0x55f4b609c571 0x55f4b610b633 0x55f4b610902f 0x55f4b609c36c 0x55f4b609c571 0x55f4b610b633 0x55f4b610902f 0x55f4b5fdae2b 0x55f4b610b633 0x55f4b610902f 0x55f4b609baba 0x55f4b610e2c0 0x55f4b610902f 0x55f4b609baba 0x55f4b610a108 0x55f4b610902f 0x55f4b609c36c 0x55f4b609c571\n",
            "Output file downloaded to data/EURCHF-2000-2020-15m.csv_X.npy\n",
            "Output file downloaded to data/EURCHF-2000-2020-15m.csv_Y.npy\n",
            "User cancelled operation\n"
          ]
        }
      ],
      "source": [
        "!kaggle kernels output bpwqsdd/notebook5ab17ab441 -p data/"
      ]
    },
    {
      "cell_type": "code",
      "execution_count": null,
      "metadata": {
        "id": "IW7DauNDBb6C"
      },
      "outputs": [],
      "source": [
        "import tensorflow as tf\n",
        "from tensorflow import keras\n",
        "from tensorflow.keras import layers\n",
        "import numpy as np\n",
        "import matplotlib.pyplot as plt\n",
        "import os\n",
        "from IPython.display import clear_output\n",
        "from tqdm.notebook import tqdm\n",
        "import gc"
      ]
    },
    {
      "cell_type": "code",
      "execution_count": null,
      "metadata": {
        "id": "x2u1gxqxBm2S"
      },
      "outputs": [],
      "source": [
        "ddir = \"data/\"\n",
        "\n",
        "files = os.listdir(ddir)\n",
        "\n",
        "xfiles = []\n",
        "yfiles = []\n",
        "for i in files:\n",
        "    if \"Y.npy\" in i:\n",
        "        yfiles.append(i)\n",
        "    if \"X.npy\" in i:\n",
        "        xfiles.append(i)\n",
        "xfiles, yfiles        \n",
        "\n",
        "pairs = []\n",
        "for i in xfiles:\n",
        "    for o in yfiles:\n",
        "        if(i[:-5] == o[:-5]):\n",
        "            pairs.append((i,o))\n",
        "            \n",
        "pairs\n",
        "tc = pairs[0]"
      ]
    },
    {
      "cell_type": "code",
      "execution_count": null,
      "metadata": {
        "colab": {
          "base_uri": "https://localhost:8080/"
        },
        "id": "eVMjL1QoCeRz",
        "outputId": "0c837c5d-75ed-49ba-936d-b20676bdb3a2"
      },
      "outputs": [
        {
          "output_type": "stream",
          "name": "stdout",
          "text": [
            "Model: \"model_2\"\n",
            "_________________________________________________________________\n",
            " Layer (type)                Output Shape              Param #   \n",
            "=================================================================\n",
            " input_3 (InputLayer)        [(None, 144, 8)]          0         \n",
            "                                                                 \n",
            " conv1d_2 (Conv1D)           (None, 144, 8)            200       \n",
            "                                                                 \n",
            " lstm_2 (LSTM)               (None, 144, 8)            544       \n",
            "                                                                 \n",
            " gru_2 (GRU)                 (None, 8)                 432       \n",
            "                                                                 \n",
            " dense_4 (Dense)             (None, 16)                144       \n",
            "                                                                 \n",
            " dense_5 (Dense)             (None, 3)                 51        \n",
            "                                                                 \n",
            "=================================================================\n",
            "Total params: 1,371\n",
            "Trainable params: 1,371\n",
            "Non-trainable params: 0\n",
            "_________________________________________________________________\n"
          ]
        }
      ],
      "source": [
        "seq_len = int(60 / 15 * 24 * 1.5)\n",
        "nf = 8\n",
        "resume = False\n",
        "if resume == False:\n",
        "    \n",
        "    inputs = layers.Input(shape = (seq_len, 8))\n",
        "    x = inputs\n",
        "    \n",
        "    x = tf.keras.layers.Conv1D(8,3, padding=\"same\")(x)\n",
        "    tf.keras.layers.LeakyReLU(alpha=0.2)(x)\n",
        "    x = tf.keras.layers.LSTM(8, activation = \"tanh\", return_sequences=True)(x)\n",
        "    #x = TransformerBlock(x.shape[2], 4, 32)(x)\n",
        "\n",
        "    x = tf.keras.layers.GRU(8, activation = \"tanh\", return_sequences=False)(x)\n",
        "    \n",
        "    x = tf.keras.layers.Dense(16, activation=\"relu\")(x)\n",
        "    \n",
        "    outputs = tf.keras.layers.Dense(3, activation = \"softmax\")(x)\n",
        "    \n",
        "    model = tf.keras.Model(inputs, outputs)\n",
        "    \n",
        "    loss = tf.keras.losses.SparseCategoricalCrossentropy()\n",
        "    #opt = tf.keras.optimizers.SGD(learning_rate=0.0001, momentum=0.95, nesterov=True)\n",
        "    opt = tf.keras.optimizers.Adam(learning_rate=0.00002)\n",
        "    model.compile(opt, loss, metrics=\"accuracy\")\n",
        "\n",
        "    \n",
        "else:\n",
        "    model = tf.keras.models.load_model(\"model_v12\")\n",
        "    \n",
        "model.summary()"
      ]
    },
    {
      "cell_type": "code",
      "execution_count": null,
      "metadata": {
        "id": "6KUmCDkACx3M"
      },
      "outputs": [],
      "source": [
        "X = np.load(ddir+tc[0])\n",
        "Y = np.load(ddir+tc[1])"
      ]
    },
    {
      "cell_type": "code",
      "source": [
        "accs = []\n",
        "losses = []\n",
        "twin = 0\n",
        "tloss = 0\n",
        "z = 0\n",
        "sn = 300\n",
        "for i in range(len(X)-sn-4*24):\n",
        "    X_t = X[i:i+sn]\n",
        "    Y_t = Y[i:i+sn]\n",
        "    \n",
        "    X_e = X[i+sn+4*24].reshape(1, -1, 8)\n",
        "    Y_e = Y[i+sn+100+4*24].reshape(1, -1)\n",
        "    \n",
        "    model.fit(X_t, Y_t, batch_size = 8, verbose = 0, shuffle = False)\n",
        "    loss, acc = model.evaluate(X_e, Y_e, verbose = 0)\n",
        "    accs.append(acc)\n",
        "    losses.append(loss)\n",
        "    res = model.predict(X_e)\n",
        "\n",
        "    for o in range(len(res)):\n",
        "      p = np.argmax(res[o])\n",
        "\n",
        "      if not p == 2:\n",
        "        if p == Y_e[o]: twin+=1\n",
        "        else: tloss+=1\n",
        "      else: z+= 1\n",
        "  \n",
        "    if i%50 == 0:\n",
        "      clear_output()\n",
        "      plt.plot(accs)\n",
        "      plt.show()\n",
        "      plt.plot(losses)\n",
        "      plt.show()\n",
        "      print(twin, tloss, twin+tloss, z)"
      ],
      "metadata": {
        "id": "2W1tplAZZ0Lj",
        "colab": {
          "base_uri": "https://localhost:8080/",
          "height": 531
        },
        "outputId": "dda7dfa2-f9a4-4873-8f85-0d7709a2f201"
      },
      "execution_count": null,
      "outputs": [
        {
          "output_type": "display_data",
          "data": {
            "image/png": "[encoded data removed]",
            "text/plain": [
              "<Figure size 432x288 with 1 Axes>"
            ]
          },
          "metadata": {
            "needs_background": "light"
          }
        },
        {
          "output_type": "display_data",
          "data": {
            "image/png": "[encoded data removed]",
            "text/plain": [
              "<Figure size 432x288 with 1 Axes>"
            ]
          },
          "metadata": {
            "needs_background": "light"
          }
        },
        {
          "output_type": "stream",
          "name": "stdout",
          "text": [
            "308 752 1060 1291\n"
          ]
        }
      ]
    },
    {
      "cell_type": "code",
      "source": [
        ""
      ],
      "metadata": {
        "colab": {
          "base_uri": "https://localhost:8080/"
        },
        "id": "sVCpBrDYl3y_",
        "outputId": "ef69b897-e387-4deb-f2b9-134d5afd809d"
      },
      "execution_count": null,
      "outputs": [
        {
          "output_type": "stream",
          "name": "stdout",
          "text": [
            "0 62 62\n"
          ]
        }
      ]
    },
    {
      "cell_type": "code",
      "source": [
        ""
      ],
      "metadata": {
        "id": "FBV1PxPfyDYd"
      },
      "execution_count": null,
      "outputs": []
    }
  ],
  "metadata": {
    "accelerator": "GPU",
    "colab": {
      "name": "xt_test",
      "provenance": [],
      "collapsed_sections": [],
      "authorship_tag": "ABX9TyMZW/F62x6mr77n69JDMf0T",
      "include_colab_link": true
    },
    "kernelspec": {
      "display_name": "Python 3",
      "name": "python3"
    },
    "language_info": {
      "name": "python"
    }
  },
  "nbformat": 4,
  "nbformat_minor": 0
}