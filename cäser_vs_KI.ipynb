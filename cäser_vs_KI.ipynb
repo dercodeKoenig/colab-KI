{
  "nbformat": 4,
  "nbformat_minor": 0,
  "metadata": {
    "colab": {
      "name": "cäser_vs_KI",
      "provenance": [],
      "collapsed_sections": [],
      "include_colab_link": true
    },
    "kernelspec": {
      "name": "python3",
      "display_name": "Python 3"
    },
    "language_info": {
      "name": "python"
    }
  },
  "cells": [
    {
      "cell_type": "markdown",
      "metadata": {
        "id": "view-in-github",
        "colab_type": "text"
      },
      "source": [
        "<a href=\"https://colab.research.google.com/github/dercodeKoenig/colab-KI/blob/main/c%C3%A4ser_vs_KI.ipynb\" target=\"_parent\"><img src=\"https://colab.research.google.com/assets/colab-badge.svg\" alt=\"Open In Colab\"/></a>"
      ]
    },
    {
      "cell_type": "markdown",
      "metadata": {
        "id": "Tzg6EDhJUeSe"
      },
      "source": [
        "Verschlüsseln"
      ]
    },
    {
      "cell_type": "code",
      "metadata": {
        "colab": {
          "base_uri": "https://localhost:8080/"
        },
        "id": "oK6-9BVTUGbS",
        "outputId": "ba0e5ebe-6c4b-4adb-b779-3a40eae26f6c"
      },
      "source": [
        "text=\"Kuenstliche Neuronen besiegen Caeser-Verschluesselung\".lower()\n",
        "schlüssel = 4\n",
        "\n",
        "verschlüsselt = \"\"\n",
        "a = list(text.encode('UTF-8'))\n",
        "for i in a:\n",
        "  if(chr(i).isalpha()):\n",
        "    tmp=chr(i+schlüssel)\n",
        "    if(tmp.isalpha()==False):\n",
        "      tmp=chr(i+schlüssel-26)\n",
        "    verschlüsselt+=tmp\n",
        "  else:\n",
        "    verschlüsselt+=chr(i)\n",
        "\n",
        "print(verschlüsselt)"
      ],
      "execution_count": null,
      "outputs": [
        {
          "output_type": "stream",
          "text": [
            "oyirwxpmgli riyvsrir fiwmikir geiwiv-zivwglpyiwwipyrk\n"
          ],
          "name": "stdout"
        }
      ]
    },
    {
      "cell_type": "markdown",
      "metadata": {
        "id": "NtrAnxhDUgID"
      },
      "source": [
        "Entschlüsseln<br>\n"
      ]
    },
    {
      "cell_type": "code",
      "metadata": {
        "colab": {
          "base_uri": "https://localhost:8080/"
        },
        "id": "TTrfNW7xM5Zj",
        "outputId": "9ac22c28-3f11-49bc-90ec-f90faf494380"
      },
      "source": [
        "import numpy as np\n",
        "import tensorflow as tf\n",
        "from tensorflow.keras.models import Sequential\n",
        "from tensorflow.keras.layers import Dense\n",
        "from tensorflow.keras.layers import Dropout\n",
        "from tensorflow.keras.layers import LSTM\n",
        "from tensorflow.keras.callbacks import ModelCheckpoint\n",
        "from tensorflow.keras.utils import to_categorical\n",
        "\n",
        "leise = True #kurze Ausgabe\n",
        "\n",
        "#Modell laden\n",
        "#Code zum trainieren des Modells auf https://colab.research.google.com/github/dercodeKoenig/colab-KI/blob/main/text_ki.ipynb\n",
        "#die Parameter werden so importiert wie sie im trainingsnotebook gespeichert wurden\n",
        "!wget -q https://github.com/dercodeKoenig/colab-KI/raw/main/weights.hdf5\n",
        "\n",
        "#Diese Werte sind im Modell eintrainiert\n",
        "seq_length = 5\n",
        "raw_text2=\"QWERTZUIOPÜ*'ASDFGHJKLÖÄYXCVBNM;:_qwertzuiopü+#asdfghjklöäyxcvbnm,.-<>|@1234567890ß!\\\"§$%&/()=? \\n»«~+*\\\\—½{}[]è\" #alle zeichen hier rein\n",
        "\n",
        "chars = sorted(list(set(raw_text2)))\n",
        "print(chars)\n",
        "char_to_int = dict((c, i) for i, c in enumerate(chars))\n",
        "int_to_char = dict((i, c) for i, c in enumerate(chars))\n",
        "n_vocab = len(chars)\n",
        "print (\"Anzahl unterstützter Buchstaben: \", n_vocab)\n",
        "\n",
        "\n",
        "\n",
        "filepath=\"weights.hdf5\"\n",
        "\n",
        "#Modell-Struktur für die vortrainierten Parameter\n",
        "#Dropout, loss und Optimierer können rausgelassen werden, weil sie nur im Training wichtig sind\n",
        "\n",
        "model = Sequential()\n",
        "model.add(LSTM(32, input_shape=(seq_length, n_vocab),return_sequences=True))\n",
        "model.add(LSTM(64,return_sequences=False))\n",
        "model.add(Dense(2, activation='softmax'))\n",
        "model.compile()\n",
        "try:\n",
        "  model.load_weights(filepath)\n",
        "except:\n",
        "    print(\"fehler\")\n",
        "\n",
        "#print(model.summary())\n",
        "\n",
        "\n",
        "max_score=-1\n",
        "bester_schlüssel=0\n",
        "bester_text=\"\"\n",
        "\n",
        "\n",
        "\n",
        "\n",
        "print(\"\")\n",
        "print(\"Entschlüsselung starten\")\n",
        "print(\"\")\n",
        "verschlüsselt_kopie = verschlüsselt # Eingabe des Verschlüsselten Texts, wird aus oberer Code-Zeile übernommen\n",
        "\n",
        "for a in range(26): #alles durchtesten\n",
        "  verschlüsselt= verschlüsselt_kopie\n",
        "  schlüssel = a\n",
        "\n",
        "  entschlüsselt = \"\"\n",
        "\n",
        "  a = list(verschlüsselt.encode('UTF-8'))\n",
        "\n",
        "  for i in a:\n",
        "    if(chr(i).isalpha()):\n",
        "      tmp=chr(i+schlüssel)\n",
        "      if(tmp.isalpha()==False):\n",
        "        tmp=chr(i+schlüssel-26)\n",
        "      entschlüsselt+=tmp\n",
        "    else:\n",
        "      entschlüsselt+=chr(i)\n",
        "\n",
        "\n",
        "\n",
        "  eingabe = entschlüsselt\n",
        "  if(leise==False):\n",
        "    print(eingabe)\n",
        "  n_chars = len(eingabe)\n",
        "  dataX = [] #liste aus Sequenzen für die KI\n",
        "  for i in range(n_chars-seq_length):\n",
        "    data=eingabe[i:i+seq_length];\n",
        "    dataX+=data\n",
        "  dataX=np.reshape(np.array(dataX),(int(len(dataX)/seq_length),seq_length))\n",
        "  Xeingabe = []\n",
        "  for i in range(len(dataX)):\n",
        "    for o in range(len(dataX[i])):\n",
        "      Xeingabe+=[char_to_int[dataX[i][o]]]\n",
        "  Xeingabe = to_categorical(Xeingabe,num_classes=n_vocab)\n",
        "  #  X = [samples, time steps, features]\n",
        "  Xeingabe = np.reshape(Xeingabe, (int(len(Xeingabe)/seq_length), seq_length, n_vocab)) #DataX one-hot-encoded -> aus 2 wird 3 Dimensionen\n",
        "\n",
        "  wahr = 0.0\n",
        "  falsch = 0.0\n",
        "  gesamt = 0\n",
        "\n",
        "  for i in Xeingabe:\n",
        "    gesamt+=1\n",
        "    Xeingabe=np.reshape(np.array(i),(1,seq_length,n_vocab)) #Die KI erwartet ein \"batch\" aus Eingabedatenweil sie durchaus mit TPUs mehrere Eingaben gleichzeitig bearbeitet\n",
        "                                                            #Die Eingabe muss nach X = [samples, time steps, features] aufgebaut sein, nur dass nur 1 \"sample\" durchgerechnet wird\n",
        "                                                            #alternativ zu dieser Schleife könnte man auch alle Auf einmal durchführen aber das ist jetzt so nicht eingebaut\n",
        "                                                            #wäre was für die Zukunft\n",
        "    res = model.predict(Xeingabe)\n",
        "\n",
        "    wahr += res[0][1]                                       # 2 Neuronen in res sagen falsch und wahr mit einer wahrscheinlichkeit\n",
        "                                                            # Wenn falsch von wahr abgezogen wird hat man ein Ergebnis zwischen -1 und 1 für falsch und richtig\n",
        "    falsch +=res[0][0]\n",
        "  if((wahr - falsch)/gesamt>max_score):\n",
        "    max_score = (wahr - falsch)/gesamt\n",
        "    bester_schlüssel = schlüssel\n",
        "    bester_text = entschlüsselt\n",
        "  \n",
        "  if(leise==False):\n",
        "    print(\"Bewertung Text: \",((wahr - falsch)/gesamt))\n",
        "    print(\"\")\n",
        "  else:\n",
        "    print(\"\\r\", schlüssel, \" / 25: \",(wahr - falsch)/gesamt,\", bester Schlüssel: \", bester_schlüssel, \" (\"+bester_text[0:15]+\"...)\", end=\"\")\n",
        "  \n",
        "if(leise):\n",
        "  print(\"\\rfertig!\")\n",
        "print(\"\")\n",
        "print(\"\")\n",
        "print(\"Ergebnis:\")\n",
        "print(bester_text)\n",
        "print(\"\")\n",
        "print(\"score: \", max_score)\n",
        "print(\"Schlüssel: \", bester_schlüssel)"
      ],
      "execution_count": null,
      "outputs": [
        {
          "output_type": "stream",
          "text": [
            "['\\n', ' ', '!', '\"', '#', '$', '%', '&', \"'\", '(', ')', '*', '+', ',', '-', '.', '/', '0', '1', '2', '3', '4', '5', '6', '7', '8', '9', ':', ';', '<', '=', '>', '?', '@', 'A', 'B', 'C', 'D', 'E', 'F', 'G', 'H', 'I', 'J', 'K', 'L', 'M', 'N', 'O', 'P', 'Q', 'R', 'S', 'T', 'U', 'V', 'W', 'X', 'Y', 'Z', '[', '\\\\', ']', '_', 'a', 'b', 'c', 'd', 'e', 'f', 'g', 'h', 'i', 'j', 'k', 'l', 'm', 'n', 'o', 'p', 'q', 'r', 's', 't', 'u', 'v', 'w', 'x', 'y', 'z', '{', '|', '}', '~', '§', '«', '»', '½', 'Ä', 'Ö', 'Ü', 'ß', 'ä', 'è', 'ö', 'ü', '—']\n",
            "Anzahl unterstützter Buchstaben:  107\n",
            "\n",
            "Entschlüsselung starten\n",
            "\n",
            "fertig!\n",
            "\n",
            "\n",
            "Ergebnis:\n",
            "kuenstliche neuronen besiegen caeser-verschluesselung\n",
            "\n",
            "score:  0.9951673729586202\n",
            "Schlüssel:  22\n"
          ],
          "name": "stdout"
        }
      ]
    }
  ]
}