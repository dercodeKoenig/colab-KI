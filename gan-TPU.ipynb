{
  "nbformat": 4,
  "nbformat_minor": 0,
  "metadata": {
    "colab": {
      "name": "GAN",
      "provenance": [],
      "collapsed_sections": [],
      "mount_file_id": "1A5XGIs9hhqBxCs40Njs2Wt6MCfznz1ML",
      "authorship_tag": "ABX9TyNEczWkEBoiBsrg1yjFaDwh",
      "include_colab_link": true
    },
    "kernelspec": {
      "name": "python3",
      "display_name": "Python 3"
    },
    "language_info": {
      "name": "python"
    },
    "accelerator": "TPU"
  },
  "cells": [
    {
      "cell_type": "markdown",
      "metadata": {
        "id": "view-in-github",
        "colab_type": "text"
      },
      "source": [
        "<a href=\"https://colab.research.google.com/github/dercodeKoenig/colab-KI/blob/main/gan-TPU.ipynb\" target=\"_parent\"><img src=\"https://colab.research.google.com/assets/colab-badge.svg\" alt=\"Open In Colab\"/></a>"
      ]
    },
    {
      "cell_type": "code",
      "metadata": {
        "colab": {
          "base_uri": "https://localhost:8080/"
        },
        "id": "L907QAfGlueU",
        "outputId": "71f08da8-7fca-4d60-d7fc-22f95d52539b"
      },
      "source": [
        "%cd /content/drive/MyDrive/\n",
        "!rm -r outputs\n",
        "\n",
        "\n",
        "import os\n",
        "import matplotlib.pyplot as plt\n",
        "import tensorflow as tf\n",
        "import glob\n",
        "import numpy as np\n",
        "import os\n",
        "from tensorflow.keras import layers\n",
        "import time\n",
        "import cv2\n",
        "from IPython import display\n",
        "\n",
        "train_images_cartoon = []\n",
        "small_images_cartoon = []\n",
        "\n",
        "\n",
        "\n",
        "try:\n",
        "  train_images_cartoon = np.load(\"npfilet.npy\")\n",
        "  small_images_cartoon = np.load(\"npfiles.npy\")\n",
        "except:\n",
        "  %cd /content\n",
        "  !git clone https://github.com/dercodeKoenig/cartoon-faces.git\n",
        "  train_images_cartoon = []\n",
        "  small_images_cartoon = []\n",
        "  z=0\n",
        "  total = len(os.listdir(\"cartoon-faces\"))\n",
        "  max=512*100\n",
        "  files = os.listdir(\"cartoon-faces\")\n",
        "  while(True):\n",
        "    if(z>=max):\n",
        "      break\n",
        "    print(\"\\r\" + str(z) + \" / \" + str(51200),end=\"\")\n",
        "    try:\n",
        "      img = cv2.imread(\"cartoon-faces/\"+files[z])\n",
        "\n",
        "      img1 = img.copy()\n",
        "      img3 = cv2.resize(img1, (64,64))\n",
        "      img3 = cv2.blur(img3,(7,7))\n",
        "      small_images_cartoon.append(img3)\n",
        "\n",
        "      img1 = img.copy()\n",
        "      img2 = cv2.resize(img1, (64,64))\n",
        "      train_images_cartoon.append(img2)\n",
        "    \n",
        "    except:\n",
        "      print(\"error: \")\n",
        "      try:\n",
        "        print(\" cartoon-faces/\"+files[z])\n",
        "      except:\n",
        "        pass\n",
        "      max+=1\n",
        "\n",
        "    z+=1\n",
        "  print(\"\")\n",
        "\n",
        "  train_images_cartoon = np.array(train_images_cartoon,dtype=object)\n",
        "  train_images_cartoon = train_images_cartoon.reshape(train_images_cartoon.shape[0], 64, 64, 3).astype('float32')\n",
        "  train_images_cartoon = (train_images_cartoon - 127.5) / 127.5  # Normalize the images to [-1, 1]\n",
        "\n",
        "  small_images_cartoon = np.array(small_images_cartoon,dtype=object)\n",
        "  small_images_cartoon = small_images_cartoon.reshape(small_images_cartoon.shape[0], 64, 64, 3).astype('float32')\n",
        "  small_images_cartoon = (small_images_cartoon - 127.5) / 127.5  # Normalize the images to [-1, 1]\n",
        "\n",
        "  %cd /content/drive/MyDrive/\n",
        "  np.save(\"npfilet\", train_images_cartoon)\n",
        "  np.save(\"npfiles\", small_images_cartoon)\n",
        "\n",
        "\n",
        "\n",
        "print(\"\")\n",
        "\n",
        "test_img = small_images_cartoon[0:20]\n",
        "\n",
        "print(train_images_cartoon.shape)\n",
        "train_images_cartoon1=train_images_cartoon[0:int(1*train_images_cartoon.shape[0]/4)]\n",
        "train_images_cartoon2=train_images_cartoon[int(1*train_images_cartoon.shape[0]/4):int(2*train_images_cartoon.shape[0]/4)]\n",
        "train_images_cartoon3=train_images_cartoon[int(2*train_images_cartoon.shape[0]/4):int(3*train_images_cartoon.shape[0]/4)]\n",
        "train_images_cartoon4=train_images_cartoon[int(3*train_images_cartoon.shape[0]/4):int(4*train_images_cartoon.shape[0]/4)]\n",
        "print(train_images_cartoon1.shape)\n",
        "print(train_images_cartoon2.shape)\n",
        "print(train_images_cartoon3.shape)\n",
        "print(train_images_cartoon4.shape)\n",
        "\n",
        "\n",
        "\n",
        "\n",
        "\n",
        "print(small_images_cartoon.shape)\n",
        "small_images_cartoon1=small_images_cartoon[0:int(1*small_images_cartoon.shape[0]/4)]\n",
        "small_images_cartoon2=small_images_cartoon[int(1*small_images_cartoon.shape[0]/4):int(2*small_images_cartoon.shape[0]/4)]\n",
        "small_images_cartoon3=small_images_cartoon[int(2*small_images_cartoon.shape[0]/4):int(3*small_images_cartoon.shape[0]/4)]\n",
        "small_images_cartoon4=small_images_cartoon[int(3*small_images_cartoon.shape[0]/4):int(4*small_images_cartoon.shape[0]/4)]\n",
        "print(small_images_cartoon1.shape)\n",
        "print(small_images_cartoon2.shape)\n",
        "print(small_images_cartoon3.shape)\n",
        "print(small_images_cartoon4.shape)\n",
        "\n",
        "\n",
        "\n",
        "\n",
        "\n",
        "\n",
        "print(\"All devices: \", tf.config.list_logical_devices('TPU'))\n",
        "BATCH_SIZE_PER_REPLICA = 8\n",
        "GLOBAL_BATCH_SIZE = BATCH_SIZE_PER_REPLICA * 8 #8TPUs\n",
        "\n",
        "\n",
        "resolver = tf.distribute.cluster_resolver.TPUClusterResolver(tpu='')\n",
        "tf.config.experimental_connect_to_cluster(resolver)\n",
        "strategy = tf.distribute.TPUStrategy(resolver)\n",
        "\n",
        "train_images_cartoon1 = tf.data.Dataset.from_tensor_slices((train_images_cartoon1)).batch(GLOBAL_BATCH_SIZE)  \n",
        "train_images_cartoon2 = tf.data.Dataset.from_tensor_slices((train_images_cartoon2)).batch(GLOBAL_BATCH_SIZE) \n",
        "train_images_cartoon3 = tf.data.Dataset.from_tensor_slices((train_images_cartoon3)).batch(GLOBAL_BATCH_SIZE) \n",
        "train_images_cartoon4 = tf.data.Dataset.from_tensor_slices((train_images_cartoon4)).batch(GLOBAL_BATCH_SIZE) \n",
        "train_images_cartoon1 = strategy.experimental_distribute_dataset(train_images_cartoon1)\n",
        "train_images_cartoon2 = strategy.experimental_distribute_dataset(train_images_cartoon2)\n",
        "train_images_cartoon3 = strategy.experimental_distribute_dataset(train_images_cartoon3)\n",
        "train_images_cartoon4 = strategy.experimental_distribute_dataset(train_images_cartoon4)\n",
        "\n",
        "\n",
        "small_images_cartoon1 = tf.data.Dataset.from_tensor_slices((small_images_cartoon1)).batch(GLOBAL_BATCH_SIZE)  \n",
        "small_images_cartoon2 = tf.data.Dataset.from_tensor_slices((small_images_cartoon2)).batch(GLOBAL_BATCH_SIZE) \n",
        "small_images_cartoon3 = tf.data.Dataset.from_tensor_slices((small_images_cartoon3)).batch(GLOBAL_BATCH_SIZE) \n",
        "small_images_cartoon4 = tf.data.Dataset.from_tensor_slices((small_images_cartoon4)).batch(GLOBAL_BATCH_SIZE) \n",
        "small_images_cartoon1 = strategy.experimental_distribute_dataset(small_images_cartoon1)\n",
        "small_images_cartoon2 = strategy.experimental_distribute_dataset(small_images_cartoon2)\n",
        "small_images_cartoon3 = strategy.experimental_distribute_dataset(small_images_cartoon3)\n",
        "small_images_cartoon4 = strategy.experimental_distribute_dataset(small_images_cartoon4)\n",
        "\n"
      ],
      "execution_count": 2,
      "outputs": [
        {
          "output_type": "stream",
          "text": [
            "/content/drive/MyDrive\n",
            "rm: cannot remove 'outputs': No such file or directory\n",
            "/content\n",
            "Cloning into 'cartoon-faces'...\n",
            "remote: Enumerating objects: 41527, done.\u001b[K\n",
            "remote: Total 41527 (delta 0), reused 0 (delta 0), pack-reused 41527\u001b[K\n",
            "Receiving objects: 100% (41527/41527), 253.93 MiB | 31.29 MiB/s, done.\n",
            "Resolving deltas: 100% (2/2), done.\n",
            "Checking out files: 100% (63566/63566), done.\n",
            "9313 / 51200error: \n",
            " cartoon-faces/.git\n",
            "51200 / 51200\n",
            "/content/drive/MyDrive\n",
            "\n",
            "(51200, 64, 64, 3)\n",
            "(12800, 64, 64, 3)\n",
            "(12800, 64, 64, 3)\n",
            "(12800, 64, 64, 3)\n",
            "(12800, 64, 64, 3)\n",
            "(51200, 64, 64, 3)\n",
            "(12800, 64, 64, 3)\n",
            "(12800, 64, 64, 3)\n",
            "(12800, 64, 64, 3)\n",
            "(12800, 64, 64, 3)\n",
            "All devices:  []\n",
            "INFO:tensorflow:Initializing the TPU system: grpc://10.57.14.90:8470\n"
          ],
          "name": "stdout"
        },
        {
          "output_type": "stream",
          "text": [
            "INFO:tensorflow:Initializing the TPU system: grpc://10.57.14.90:8470\n"
          ],
          "name": "stderr"
        },
        {
          "output_type": "stream",
          "text": [
            "INFO:tensorflow:Clearing out eager caches\n"
          ],
          "name": "stdout"
        },
        {
          "output_type": "stream",
          "text": [
            "INFO:tensorflow:Clearing out eager caches\n"
          ],
          "name": "stderr"
        },
        {
          "output_type": "stream",
          "text": [
            "INFO:tensorflow:Finished initializing TPU system.\n"
          ],
          "name": "stdout"
        },
        {
          "output_type": "stream",
          "text": [
            "INFO:tensorflow:Finished initializing TPU system.\n"
          ],
          "name": "stderr"
        },
        {
          "output_type": "stream",
          "text": [
            "INFO:tensorflow:Found TPU system:\n"
          ],
          "name": "stdout"
        },
        {
          "output_type": "stream",
          "text": [
            "INFO:tensorflow:Found TPU system:\n"
          ],
          "name": "stderr"
        },
        {
          "output_type": "stream",
          "text": [
            "INFO:tensorflow:*** Num TPU Cores: 8\n"
          ],
          "name": "stdout"
        },
        {
          "output_type": "stream",
          "text": [
            "INFO:tensorflow:*** Num TPU Cores: 8\n"
          ],
          "name": "stderr"
        },
        {
          "output_type": "stream",
          "text": [
            "INFO:tensorflow:*** Num TPU Workers: 1\n"
          ],
          "name": "stdout"
        },
        {
          "output_type": "stream",
          "text": [
            "INFO:tensorflow:*** Num TPU Workers: 1\n"
          ],
          "name": "stderr"
        },
        {
          "output_type": "stream",
          "text": [
            "INFO:tensorflow:*** Num TPU Cores Per Worker: 8\n"
          ],
          "name": "stdout"
        },
        {
          "output_type": "stream",
          "text": [
            "INFO:tensorflow:*** Num TPU Cores Per Worker: 8\n"
          ],
          "name": "stderr"
        },
        {
          "output_type": "stream",
          "text": [
            "INFO:tensorflow:*** Available Device: _DeviceAttributes(/job:localhost/replica:0/task:0/device:CPU:0, CPU, 0, 0)\n"
          ],
          "name": "stdout"
        },
        {
          "output_type": "stream",
          "text": [
            "INFO:tensorflow:*** Available Device: _DeviceAttributes(/job:localhost/replica:0/task:0/device:CPU:0, CPU, 0, 0)\n"
          ],
          "name": "stderr"
        },
        {
          "output_type": "stream",
          "text": [
            "INFO:tensorflow:*** Available Device: _DeviceAttributes(/job:worker/replica:0/task:0/device:CPU:0, CPU, 0, 0)\n"
          ],
          "name": "stdout"
        },
        {
          "output_type": "stream",
          "text": [
            "INFO:tensorflow:*** Available Device: _DeviceAttributes(/job:worker/replica:0/task:0/device:CPU:0, CPU, 0, 0)\n"
          ],
          "name": "stderr"
        },
        {
          "output_type": "stream",
          "text": [
            "INFO:tensorflow:*** Available Device: _DeviceAttributes(/job:worker/replica:0/task:0/device:TPU:0, TPU, 0, 0)\n"
          ],
          "name": "stdout"
        },
        {
          "output_type": "stream",
          "text": [
            "INFO:tensorflow:*** Available Device: _DeviceAttributes(/job:worker/replica:0/task:0/device:TPU:0, TPU, 0, 0)\n"
          ],
          "name": "stderr"
        },
        {
          "output_type": "stream",
          "text": [
            "INFO:tensorflow:*** Available Device: _DeviceAttributes(/job:worker/replica:0/task:0/device:TPU:1, TPU, 0, 0)\n"
          ],
          "name": "stdout"
        },
        {
          "output_type": "stream",
          "text": [
            "INFO:tensorflow:*** Available Device: _DeviceAttributes(/job:worker/replica:0/task:0/device:TPU:1, TPU, 0, 0)\n"
          ],
          "name": "stderr"
        },
        {
          "output_type": "stream",
          "text": [
            "INFO:tensorflow:*** Available Device: _DeviceAttributes(/job:worker/replica:0/task:0/device:TPU:2, TPU, 0, 0)\n"
          ],
          "name": "stdout"
        },
        {
          "output_type": "stream",
          "text": [
            "INFO:tensorflow:*** Available Device: _DeviceAttributes(/job:worker/replica:0/task:0/device:TPU:2, TPU, 0, 0)\n"
          ],
          "name": "stderr"
        },
        {
          "output_type": "stream",
          "text": [
            "INFO:tensorflow:*** Available Device: _DeviceAttributes(/job:worker/replica:0/task:0/device:TPU:3, TPU, 0, 0)\n"
          ],
          "name": "stdout"
        },
        {
          "output_type": "stream",
          "text": [
            "INFO:tensorflow:*** Available Device: _DeviceAttributes(/job:worker/replica:0/task:0/device:TPU:3, TPU, 0, 0)\n"
          ],
          "name": "stderr"
        },
        {
          "output_type": "stream",
          "text": [
            "INFO:tensorflow:*** Available Device: _DeviceAttributes(/job:worker/replica:0/task:0/device:TPU:4, TPU, 0, 0)\n"
          ],
          "name": "stdout"
        },
        {
          "output_type": "stream",
          "text": [
            "INFO:tensorflow:*** Available Device: _DeviceAttributes(/job:worker/replica:0/task:0/device:TPU:4, TPU, 0, 0)\n"
          ],
          "name": "stderr"
        },
        {
          "output_type": "stream",
          "text": [
            "INFO:tensorflow:*** Available Device: _DeviceAttributes(/job:worker/replica:0/task:0/device:TPU:5, TPU, 0, 0)\n"
          ],
          "name": "stdout"
        },
        {
          "output_type": "stream",
          "text": [
            "INFO:tensorflow:*** Available Device: _DeviceAttributes(/job:worker/replica:0/task:0/device:TPU:5, TPU, 0, 0)\n"
          ],
          "name": "stderr"
        },
        {
          "output_type": "stream",
          "text": [
            "INFO:tensorflow:*** Available Device: _DeviceAttributes(/job:worker/replica:0/task:0/device:TPU:6, TPU, 0, 0)\n"
          ],
          "name": "stdout"
        },
        {
          "output_type": "stream",
          "text": [
            "INFO:tensorflow:*** Available Device: _DeviceAttributes(/job:worker/replica:0/task:0/device:TPU:6, TPU, 0, 0)\n"
          ],
          "name": "stderr"
        },
        {
          "output_type": "stream",
          "text": [
            "INFO:tensorflow:*** Available Device: _DeviceAttributes(/job:worker/replica:0/task:0/device:TPU:7, TPU, 0, 0)\n"
          ],
          "name": "stdout"
        },
        {
          "output_type": "stream",
          "text": [
            "INFO:tensorflow:*** Available Device: _DeviceAttributes(/job:worker/replica:0/task:0/device:TPU:7, TPU, 0, 0)\n"
          ],
          "name": "stderr"
        },
        {
          "output_type": "stream",
          "text": [
            "INFO:tensorflow:*** Available Device: _DeviceAttributes(/job:worker/replica:0/task:0/device:TPU_SYSTEM:0, TPU_SYSTEM, 0, 0)\n"
          ],
          "name": "stdout"
        },
        {
          "output_type": "stream",
          "text": [
            "INFO:tensorflow:*** Available Device: _DeviceAttributes(/job:worker/replica:0/task:0/device:TPU_SYSTEM:0, TPU_SYSTEM, 0, 0)\n"
          ],
          "name": "stderr"
        },
        {
          "output_type": "stream",
          "text": [
            "INFO:tensorflow:*** Available Device: _DeviceAttributes(/job:worker/replica:0/task:0/device:XLA_CPU:0, XLA_CPU, 0, 0)\n"
          ],
          "name": "stdout"
        },
        {
          "output_type": "stream",
          "text": [
            "INFO:tensorflow:*** Available Device: _DeviceAttributes(/job:worker/replica:0/task:0/device:XLA_CPU:0, XLA_CPU, 0, 0)\n"
          ],
          "name": "stderr"
        }
      ]
    },
    {
      "cell_type": "code",
      "metadata": {
        "id": "XA6YBmHTl6Pm"
      },
      "source": [
        "tf.tpu.experimental.initialize_tpu_system(resolver)\n",
        "def make_generator_model():\n",
        "    model = tf.keras.Sequential()\n",
        "    model.add(tf.keras.layers.Input(shape=(64,64,3)))\n",
        "    \n",
        "    model.add(layers.Conv2D(128, 5))\n",
        "    model.add(layers.BatchNormalization())\n",
        "    model.add(layers.LeakyReLU())\n",
        "    print(model.output_shape)\n",
        "\n",
        "    model.add(layers.Conv2D(32, 5))\n",
        "    model.add(layers.BatchNormalization())\n",
        "    model.add(layers.LeakyReLU())\n",
        "    print(model.output_shape)\n",
        "\n",
        "    model.add(layers.Conv2D(32, 5))\n",
        "    model.add(layers.BatchNormalization())\n",
        "    model.add(layers.LeakyReLU())\n",
        "    print(model.output_shape)\n",
        "    \n",
        "    model.add(layers.Flatten())\n",
        "    model.add(layers.Dense(8*8*16, use_bias=False))\n",
        "    model.add(layers.BatchNormalization())\n",
        "    model.add(layers.LeakyReLU())\n",
        "    print(model.output_shape)\n",
        "    \n",
        "    model.add(layers.Reshape((8,8,16)))\n",
        "    print(model.output_shape)\n",
        "\n",
        "\n",
        "    model.add(layers.Conv2D(128, 5,padding=\"same\", use_bias=False))\n",
        "    model.add(layers.BatchNormalization())\n",
        "    model.add(layers.LeakyReLU())\n",
        "    print(model.output_shape)\n",
        "\n",
        "    model.add(layers.Conv2D(128, 5,padding=\"same\", use_bias=False))\n",
        "    model.add(layers.BatchNormalization())\n",
        "    model.add(layers.LeakyReLU())\n",
        "    print(model.output_shape)\n",
        "\n",
        "\n",
        "    model.add(layers.Conv2D(128, 5,padding=\"same\", use_bias=False))\n",
        "    model.add(layers.BatchNormalization())\n",
        "    model.add(layers.LeakyReLU())\n",
        "    print(model.output_shape)\n",
        "\n",
        "\n",
        "\n",
        "    model.add(layers.Conv2DTranspose(128, (5, 5), strides=(1, 1),padding=\"same\", use_bias=False))\n",
        "    model.add(layers.BatchNormalization())\n",
        "    model.add(layers.LeakyReLU())\n",
        "    print(model.output_shape)\n",
        "\n",
        "    model.add(layers.Conv2D(128, 5,padding=\"same\", use_bias=False))\n",
        "    model.add(layers.BatchNormalization())\n",
        "    model.add(layers.LeakyReLU())\n",
        "    print(model.output_shape)\n",
        "\n",
        "    \n",
        "    model.add(layers.Conv2D(128, 5,padding=\"same\", use_bias=False))\n",
        "    model.add(layers.BatchNormalization())\n",
        "    model.add(layers.LeakyReLU())\n",
        "    print(model.output_shape)\n",
        "\n",
        "\n",
        "    model.add(layers.Conv2D(128, 5,padding=\"same\", use_bias=False))\n",
        "    model.add(layers.BatchNormalization())\n",
        "    model.add(layers.LeakyReLU())\n",
        "    print(model.output_shape)\n",
        "\n",
        "\n",
        "\n",
        "    model.add(layers.Conv2DTranspose(128, (5, 5), strides=(2, 2),padding=\"same\", use_bias=False))\n",
        "    model.add(layers.BatchNormalization())\n",
        "    model.add(layers.LeakyReLU())\n",
        "    print(model.output_shape)\n",
        "\n",
        "    model.add(layers.Conv2D(128, 5,padding=\"same\", use_bias=False))\n",
        "    model.add(layers.BatchNormalization())\n",
        "    model.add(layers.LeakyReLU())\n",
        "    print(model.output_shape)\n",
        "\n",
        "    \n",
        "    model.add(layers.Conv2D(128, 5,padding=\"same\", use_bias=False))\n",
        "    model.add(layers.BatchNormalization())\n",
        "    model.add(layers.LeakyReLU())\n",
        "    print(model.output_shape)\n",
        "\n",
        "\n",
        "    model.add(layers.Conv2D(128, 5,padding=\"same\", use_bias=False))\n",
        "    model.add(layers.BatchNormalization())\n",
        "    model.add(layers.LeakyReLU())\n",
        "    print(model.output_shape)\n",
        "\n",
        "\n",
        "\n",
        "    model.add(layers.Conv2DTranspose(128, (5, 5),padding=\"same\", strides=(2, 2), use_bias=False))\n",
        "    model.add(layers.BatchNormalization())\n",
        "    model.add(layers.LeakyReLU())\n",
        "    print(model.output_shape)\n",
        "\n",
        "    model.add(layers.Conv2D(128, 5,padding=\"same\", use_bias=False))\n",
        "    model.add(layers.BatchNormalization())\n",
        "    model.add(layers.LeakyReLU())\n",
        "    print(model.output_shape)\n",
        "\n",
        "    \n",
        "    model.add(layers.Conv2D(128, 5,padding=\"same\", use_bias=False))\n",
        "    model.add(layers.BatchNormalization())\n",
        "    model.add(layers.LeakyReLU())\n",
        "    print(model.output_shape)\n",
        "\n",
        "\n",
        "    model.add(layers.Conv2D(128, 5,padding=\"same\", use_bias=False))\n",
        "    model.add(layers.BatchNormalization())\n",
        "    model.add(layers.LeakyReLU())\n",
        "    print(model.output_shape)\n",
        "\n",
        "\n",
        "    \n",
        "    model.add(layers.Conv2DTranspose(128, (5, 5),padding=\"same\", strides=(2, 2), use_bias=False))\n",
        "    model.add(layers.BatchNormalization())\n",
        "    model.add(layers.LeakyReLU())\n",
        "    print(model.output_shape)\n",
        "\n",
        "  \n",
        "    model.add(layers.Conv2D(128, 5,padding=\"same\", use_bias=False))\n",
        "    model.add(layers.BatchNormalization())\n",
        "    model.add(layers.LeakyReLU())\n",
        "    print(model.output_shape)\n",
        "\n",
        "    \n",
        "    model.add(layers.Conv2D(128, 5,padding=\"same\", use_bias=False))\n",
        "    model.add(layers.BatchNormalization())\n",
        "    model.add(layers.LeakyReLU())\n",
        "    print(model.output_shape)\n",
        "\n",
        "\n",
        "    model.add(layers.Conv2D(128, 5,padding=\"same\", use_bias=False))\n",
        "    model.add(layers.BatchNormalization())\n",
        "    model.add(layers.LeakyReLU())\n",
        "    print(model.output_shape)\n",
        "\n",
        "    model.add(layers.Conv2DTranspose(3,5,padding=\"same\",strides=(1, 1), activation='tanh', use_bias=False))\n",
        "\n",
        "\n",
        "    return model\n",
        "\n",
        "\n",
        "def make_discriminator_model():\n",
        "    model = tf.keras.Sequential()\n",
        "\n",
        "    model.add(tf.keras.layers.Input(shape=(64,64,3)))\n",
        "    \n",
        "    print(model.output_shape)\n",
        "\n",
        "    model.add(layers.Conv2D(16, (5, 5), strides=(1, 1)))\n",
        "    model.add(layers.LeakyReLU())\n",
        "    model.add(layers.Dropout(0.3))\n",
        "    print(model.output_shape)\n",
        "\n",
        "    model.add(layers.Conv2D(32, (5, 5), strides=(1, 1)))\n",
        "    model.add(layers.LeakyReLU())\n",
        "    model.add(layers.Dropout(0.3))\n",
        "    print(model.output_shape)\n",
        "\n",
        "    model.add(layers.Conv2D(128, (5, 5), strides=(1, 1)))\n",
        "    model.add(layers.LeakyReLU())\n",
        "    model.add(layers.Dropout(0.3))\n",
        "    print(model.output_shape)\n",
        "\n",
        "    model.add(layers.Conv2D(128, (5, 5), strides=(1, 1)))\n",
        "    model.add(layers.LeakyReLU())\n",
        "    model.add(layers.Dropout(0.3))\n",
        "    print(model.output_shape)\n",
        "\n",
        "    model.add(layers.Conv2D(128, (5, 5), strides=(1, 1)))\n",
        "    model.add(layers.LeakyReLU())\n",
        "    model.add(layers.Dropout(0.3))\n",
        "    print(model.output_shape)\n",
        "\n",
        "    model.add(layers.Conv2D(128, (5, 5), strides=(1, 1)))\n",
        "    model.add(layers.LeakyReLU())\n",
        "    model.add(layers.Dropout(0.3))\n",
        "    print(model.output_shape)\n",
        "\n",
        "    model.add(layers.Flatten())\n",
        "\n",
        "\n",
        "    model.add(layers.Dense(256))\n",
        "    model.add(layers.LeakyReLU())\n",
        "    model.add(layers.Dropout(0.3))\n",
        "    print(model.output_shape)\n",
        "\n",
        "    model.add(layers.Dense(1,activation=\"sigmoid\"))\n",
        "\n",
        "    return model\n"
      ],
      "execution_count": null,
      "outputs": []
    },
    {
      "cell_type": "code",
      "metadata": {
        "id": "NmwSt0nYl7q_"
      },
      "source": [
        "with strategy.scope():\n",
        "  discriminator_cartoon = make_discriminator_model()\n",
        "  generator = make_generator_model()\n",
        "\n",
        "  discriminator_cartoon.summary()\n",
        "  generator.summary()\n"
      ],
      "execution_count": null,
      "outputs": []
    },
    {
      "cell_type": "code",
      "metadata": {
        "colab": {
          "base_uri": "https://localhost:8080/"
        },
        "id": "leHPhSAxl8oA",
        "outputId": "13d9b43e-d289-425f-fd80-844754beb87c"
      },
      "source": [
        "with strategy.scope():\n",
        "# This method returns a helper function to compute cross entropy loss\n",
        "  cross_entropy = tf.keras.losses.BinaryCrossentropy(from_logits=False,reduction=tf.keras.losses.Reduction.NONE)\n",
        "\n",
        "  def discriminator_cartoon_loss(real_output, fake_output):\n",
        "    real_loss = cross_entropy(tf.ones_like(real_output), real_output)\n",
        "    fake_loss = cross_entropy(tf.zeros_like(fake_output), fake_output)\n",
        "    total_loss = real_loss + fake_loss\n",
        "    #print(\"disc_loss:\",total_loss)\n",
        "    return  tf.nn.compute_average_loss(total_loss, global_batch_size=GLOBAL_BATCH_SIZE)\n",
        "\n",
        "\n",
        "  def _gaussian_kernel(kernel_size, sigma, n_channels, dtype):\n",
        "    x = tf.range(-kernel_size // 2 + 1, kernel_size // 2 + 1, dtype=dtype)\n",
        "    g = tf.math.exp(-(tf.pow(x, 2) / (2 * tf.pow(tf.cast(sigma, dtype), 2))))\n",
        "    g_norm2d = tf.pow(tf.reduce_sum(g), 2)\n",
        "    g_kernel = tf.tensordot(g, g, axes=0) / g_norm2d\n",
        "    g_kernel = tf.expand_dims(g_kernel, axis=-1)\n",
        "    return tf.expand_dims(tf.tile(g_kernel, (1, 1, n_channels)), axis=-1)\n",
        "\n",
        "\n",
        "  def apply_blur(img):\n",
        "    blur = _gaussian_kernel(13, 2, 3, img.dtype)\n",
        "    img = tf.nn.depthwise_conv2d(img, blur, [1,1,1,1], 'SAME')\n",
        "    return img\n",
        "\n",
        "\n",
        "  def generator_loss(fake_output,norm,genr):\n",
        "\n",
        "    norm=apply_blur(norm)\n",
        "    genr=apply_blur(genr)\n",
        "    total_loss=tf.nn.compute_average_loss(((norm-genr)*(norm-genr)))+tf.nn.compute_average_loss((cross_entropy(tf.ones_like(fake_output), fake_output)))\n",
        "   # print(\"gen_loss:\",total_loss)\n",
        "    return  (total_loss)\n",
        "\n",
        "  generator_optimizer = tf.keras.optimizers.Adam(0.000005)\n",
        "  discriminator_cartoon_optimizer = tf.keras.optimizers.Adam(0.00002)\n",
        "\n",
        "  @tf.function\n",
        "  def train_step_cartoon(cartoons,dataset_seed):\n",
        "\n",
        "      with tf.GradientTape() as gen_tape, tf.GradientTape() as disc_cartoon_tape :\n",
        "        \n",
        "        generated_images = generator(dataset_seed, training=True)\n",
        "\n",
        "        real_output_cartoon = discriminator_cartoon(cartoons, training=True)\n",
        "\n",
        "        fake_output_cartoon = discriminator_cartoon(generated_images, training=True)\n",
        "\n",
        "        gen_loss = generator_loss(fake_output_cartoon,dataset_seed,generated_images)\n",
        "        \n",
        "        disc_cartoon_loss = discriminator_cartoon_loss(real_output_cartoon, fake_output_cartoon)\n",
        "      \n",
        "      gradients_of_generator = gen_tape.gradient(gen_loss, generator.trainable_variables)\n",
        "      gradients_of_discriminator_cartoon = disc_cartoon_tape.gradient(disc_cartoon_loss, discriminator_cartoon.trainable_variables)\n",
        "      \n",
        "      generator_optimizer.apply_gradients(zip(gradients_of_generator, generator.trainable_variables))\n",
        "      \n",
        "      discriminator_cartoon_optimizer.apply_gradients(zip(gradients_of_discriminator_cartoon, discriminator_cartoon.trainable_variables))\n",
        "      \n",
        "        \n",
        "  \n",
        "\n",
        "def train(dataset_seed,dataset_cartoon, epochs):\n",
        "  for epoch in range(epochs):\n",
        "    start = time.time()\n",
        "    ii=0\n",
        "    for image_batch in dataset_cartoon:\n",
        "      for seed_batch in dataset_seed:\n",
        "        ii+=1\n",
        "        print(\"\\r\" + str(ii),end=\"\")\n",
        "        strategy.run(train_step_cartoon,args=(image_batch,seed_batch,))\n",
        "      print(\"start test\")\n",
        "      generate_images(generator,test_img)\n",
        "        \n",
        "      \n",
        "    print ('Time for epoch {} is {} sec'.format(epoch + 1, time.time()-start))\n",
        "\n",
        "\n",
        "starttime = time.process_time()\n",
        "\n",
        "\n",
        "def generate_images(model, test_input):    \n",
        "  predictions = model(test_input,training=False)\n",
        "  predictions = np.array(predictions)\n",
        "    \n",
        "#  test_input = apply_blur(test_input)\n",
        "  test_input = np.array(test_input,dtype= 'float32')\n",
        "  test_input = (test_input+1)*127.5\n",
        "\n",
        "#  predictions=apply_blur(predictions)\n",
        "\n",
        "  generated_images = np.array(predictions,dtype= 'float32')\n",
        "#  print(generated_images)\n",
        "  generated_images = (generated_images+1)*127.5\n",
        "  cz=0\n",
        "  cz2 =0\n",
        "  heighest = 0\n",
        "  while(True):\n",
        "      heighest +=1\n",
        "      if(os.path.exists(\"outputs/0/\"+str(heighest)+\".jpg\")==False):\n",
        "        break\n",
        "\n",
        "  fig = plt.figure(figsize=(20,10))\n",
        "  for i in generated_images:\n",
        "    plt.subplot(4, 10, cz2+1)\n",
        "    plt.imshow(np.array(cv2.cvtColor(test_input[cz], cv2.COLOR_BGR2RGB),dtype= 'int32'))\n",
        "    plt.subplot(4, 10, cz2+2)\n",
        "    plt.imshow(np.array(cv2.cvtColor(i, cv2.COLOR_BGR2RGB),dtype= 'int32'))\n",
        "    plt.axis('off')\n",
        "    cv2.imwrite(\"outputs/\"+str(cz)+\"/\"+str(heighest)+\".jpg\",i)\n",
        "    cv2.imwrite(\"outputs/\"+str(cz)+\"/\"+str(heighest)+\"_o.jpg\",i)\n",
        "    cz+=1\n",
        "    cz2+=2\n",
        "  \n",
        "  display.clear_output(wait=True)\n",
        "  plt.show()\n",
        "  global starttime\n",
        "  end = time.process_time()\n",
        "  print(end - starttime)\n",
        "  starttime = time.process_time()\n",
        "\n",
        "\n",
        "os.system(\"mkdir outputs\")\n",
        "for i in range(20):\n",
        "  os.system(\"mkdir outputs/\"+str(i))\n",
        "\n",
        "\n",
        "try:\n",
        "  generator.load_weights('gen_weights.h5')\n",
        "  discriminator.load_weights('disc_weights.h5')\n",
        "except:\n",
        "  print(\"no weights\")\n",
        "\n",
        "for i in range(10000):\n",
        "  train(train_images_cartoon1,train_images_cartoon1, 1)\n",
        "  print(\"save chkp\")\n",
        "  generator.save_weights('gen_weights.h5', overwrite=True)\n",
        "  discriminator.save_weights('disc_weights.h5', overwrite=True)\n",
        "  \n",
        "  train(train_images_cartoon2,train_images_cartoon2, 1)\n",
        "  print(\"save chkp\")\n",
        "  generator.save_weights('gen_weights.h5', overwrite=True)\n",
        "  discriminator.save_weights('disc_weights.h5', overwrite=True)\n",
        "  \n",
        "  train(train_images_cartoon3,train_images_cartoon3, 1)\n",
        "  print(\"save chkp\")\n",
        "  generator.save_weights('gen_weights.h5', overwrite=True)\n",
        "  discriminator.save_weights('disc_weights.h5', overwrite=True)\n",
        "  \n",
        "  train(train_images_cartoon4,train_images_cartoon4, 1)\n",
        "  print(\"save chkp\")\n",
        "  generator.save_weights('gen_weights.h5', overwrite=True)\n",
        "  discriminator.save_weights('disc_weights.h5', overwrite=True)\n",
        "  \n",
        "\n",
        "\n"
      ],
      "execution_count": null,
      "outputs": [
        {
          "output_type": "stream",
          "text": [
            "no weights\n",
            "1"
          ],
          "name": "stdout"
        }
      ]
    },
    {
      "cell_type": "code",
      "metadata": {
        "id": "xDLNAGTNpMQx"
      },
      "source": [
        ""
      ],
      "execution_count": null,
      "outputs": []
    }
  ]
}