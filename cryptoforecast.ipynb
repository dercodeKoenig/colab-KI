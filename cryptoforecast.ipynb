{
  "metadata": {
    "kernelspec": {
      "language": "python",
      "display_name": "Python 3",
      "name": "python3"
    },
    "language_info": {
      "pygments_lexer": "ipython3",
      "nbconvert_exporter": "python",
      "version": "3.6.4",
      "file_extension": ".py",
      "codemirror_mode": {
        "name": "ipython",
        "version": 3
      },
      "name": "python",
      "mimetype": "text/x-python"
    },
    "colab": {
      "name": "cryptoforecast.ipynb",
      "provenance": [],
      "collapsed_sections": [],
      "include_colab_link": true
    },
    "accelerator": "GPU"
  },
  "nbformat_minor": 0,
  "nbformat": 4,
  "cells": [
    {
      "cell_type": "markdown",
      "metadata": {
        "id": "view-in-github",
        "colab_type": "text"
      },
      "source": [
        "<a href=\"https://colab.research.google.com/github/dercodeKoenig/colab-KI/blob/main/cryptoforecast.ipynb\" target=\"_parent\"><img src=\"https://colab.research.google.com/assets/colab-badge.svg\" alt=\"Open In Colab\"/></a>"
      ]
    },
    {
      "cell_type": "code",
      "source": [
        "from google.colab import drive\n",
        "drive.mount('/content/drive')"
      ],
      "metadata": {
        "id": "tGZM2dEEaEoe"
      },
      "execution_count": null,
      "outputs": []
    },
    {
      "cell_type": "code",
      "source": [
        "%%writefile kaggle.json\n",
        "{\"username\":\"rammellutz\",\"key\":\"bc9c85fb114c7ca4f3f046207998604c\"}"
      ],
      "metadata": {
        "id": "4YxBzINaaKX9"
      },
      "execution_count": null,
      "outputs": []
    },
    {
      "cell_type": "code",
      "source": [
        "!mkdir /root/.kaggle\n",
        "!mv kaggle.json /root/.kaggle/kaggle.json\n",
        "!kaggle datasets download -d bpwqsdd/ethusdt01012018\n",
        "!unzip ethusdt01012018.zip\n",
        "!mkdir input\n",
        "!mv *.npy input/"
      ],
      "metadata": {
        "id": "vh_uMKQ5aMsO"
      },
      "execution_count": null,
      "outputs": []
    },
    {
      "cell_type": "markdown",
      "source": [
        "# **Train**"
      ],
      "metadata": {
        "id": "tPm99EE_Z_fX"
      }
    },
    {
      "cell_type": "markdown",
      "source": [
        "We want to predict the change of the price of crypto a few minutes in the future based on the prices of past minutes. <br>\n",
        "The dataset is generated with binance-api. Code for dataset generation will be on github soon.<br>\n",
        "(https://github.com/dercodeKoenig/crypto-forecast-jupyterlab)<br>\n",
        "Data looks like this:<br>\n",
        "[<br>\n",
        "    &nbsp;&nbsp;&nbsp;[date, time, open, high, low, close, volume],<br>\n",
        "    &nbsp;&nbsp;&nbsp;[date, time, open, high, low, close, volume],<br>\n",
        "    &nbsp;&nbsp;&nbsp;...<br>\n",
        "    &nbsp;&nbsp;&nbsp;[date, time, open, high, low, close, volume],<br>\n",
        " ]<br>\n",
        "There is one entry for each minute<br>\n",
        "\n",
        "Lets put it into a neural network and start trading. $$$"
      ],
      "metadata": {
        "id": "d8SjpWTXZ_fZ"
      }
    },
    {
      "cell_type": "code",
      "source": [
        "from IPython.display import clear_output\n",
        "import numpy as np\n",
        "import tensorflow as tf\n",
        "import copy\n",
        "import matplotlib.pyplot as plt\n",
        "from tqdm.notebook import tqdm\n",
        "import time"
      ],
      "metadata": {
        "_uuid": "8f2839f25d086af736a60e9eeb907d3b93b6e0e5",
        "_cell_guid": "b1076dfc-b9ad-4769-8c92-a6c4dae69d19",
        "trusted": true,
        "id": "fJ4xTn4LZ_fb"
      },
      "execution_count": null,
      "outputs": []
    },
    {
      "cell_type": "markdown",
      "source": [
        "I uploaded a dataset on kaggle. It contains all prices for the listed symbols.<br>\n",
        "We only need to choose one."
      ],
      "metadata": {
        "id": "bZ0_83foZ_fd"
      }
    },
    {
      "cell_type": "code",
      "source": [
        "datadir = \"input/\"\n",
        "\n",
        "valid_symbols = ['ETHUSDT', 'AAVEUSDT', 'ADAUSDT', 'ADXUSDT', 'AIONUSDT', 'AVAXUSDT', 'AXSUSDT', 'BATUSDT', 'BLZUSDT', 'BNBUSDT', 'BNTUSDT', 'CHRUSDT', 'CVCUSDT', 'DASHUSDT', 'DATAUSDT', 'DENTUSDT', 'DEXEUSDT', 'DOTUSDT', 'ELFUSDT', 'ENJUSDT', 'EOSUSDT', 'ETCUSDT', 'FIROUSDT', 'FTMUSDT', 'FUNUSDT', 'GALAUSDT', 'GHSTUSDT', 'GRTUSDT', 'GXSUSDT', 'HOTUSDT', 'ICXUSDT', 'IOSTUSDT', 'IOTAUSDT', 'IOTXUSDT', 'KEYUSDT', 'KMDUSDT', 'KNCUSDT', 'LINKUSDT', 'LRCUSDT', 'LSKUSDT', 'LTCUSDT', 'MANAUSDT', 'MATICUSDT', 'MFTUSDT', 'MTLUSDT', 'NANOUSDT', 'NEOUSDT', 'OMGUSDT', 'ONTUSDT', 'POWRUSDT', 'PUNDIXUSDT', 'REPUSDT', 'RLCUSDT', 'SANDUSDT', 'SCUSDT', 'SOLUSDT', 'STRAXUSDT', 'THETAUSDT', 'TRXUSDT', 'VETUSDT', 'VGXUSDT', 'WANUSDT', 'WAVESUSDT', 'XEMUSDT', 'XLMUSDT', 'XMRUSDT', 'XRPUSDT', 'XVGUSDT', 'ZECUSDT', 'ZENUSDT', 'ZILUSDT', 'ZRXUSDT']\n",
        "\n",
        "print(len(valid_symbols),\"symbols found\")\n",
        "symbol = valid_symbols[0]\n",
        "print(\"woking on\", symbol)"
      ],
      "metadata": {
        "trusted": true,
        "id": "MoajvytNZ_fe"
      },
      "execution_count": null,
      "outputs": []
    },
    {
      "cell_type": "markdown",
      "source": [
        "# How does our Model work?\n",
        "We will use a combination of cnn and rnn. First we do some conv1d, appending some RNN layers and finally we get the predictions in dense layers.<br>\n",
        "The input for the model will look like this:<br>\n",
        "\n",
        "batches[<br>\n",
        "&nbsp;&nbsp;&nbsp;&nbsp;samples[<br>\n",
        "&nbsp;&nbsp;&nbsp;&nbsp;&nbsp;&nbsp;&nbsp;[feature1, feature2, feature3 ...]<br>\n",
        "&nbsp;&nbsp;&nbsp;&nbsp;&nbsp;&nbsp;&nbsp;[feature1, feature2, feature3 ...]<br>\n",
        "&nbsp;&nbsp;&nbsp;&nbsp;&nbsp;&nbsp;&nbsp;[feature1, feature2, feature3 ...]<br>\n",
        "&nbsp;&nbsp;&nbsp;&nbsp;&nbsp;&nbsp;&nbsp;[feature1, feature2, feature3 ...]<br>\n",
        "&nbsp;&nbsp;&nbsp;&nbsp;[<br>\n",
        "<br>\n",
        "&nbsp;&nbsp;&nbsp;&nbsp;samples[<br>\n",
        "&nbsp;&nbsp;&nbsp;&nbsp;&nbsp;&nbsp;&nbsp;[feature1, feature2, feature3 ...]<br>\n",
        "&nbsp;&nbsp;&nbsp;&nbsp;&nbsp;&nbsp;&nbsp;[feature1, feature2, feature3 ...]<br>\n",
        "&nbsp;&nbsp;&nbsp;&nbsp;&nbsp;&nbsp;&nbsp;[feature1, feature2, feature3 ...]<br>\n",
        "&nbsp;&nbsp;&nbsp;&nbsp;&nbsp;&nbsp;&nbsp;[feature1, feature2, feature3 ...]<br>\n",
        "&nbsp;&nbsp;&nbsp;&nbsp;[<br>\n",
        "]<br>\n",
        "\n",
        "In this batch we have 2 objects with 4 samples for each object. This would be the past 4 minutes to predict the next price change.<br><br>\n",
        "Only 4 minutes will not be enough to make acceptable predictions so we will make the sequence length a bit longer. Lets say we want the model to look for the past 3 days:<br>\n",
        "seq_len = 3days * 24 hours per day * 60 minutes per hour<br>\n",
        "\n",
        "batch size is the number of training objects to analyse before performing gradient descent<br>\n",
        "looks_in_future is the number of minutes we want to look into the future.<br>\n",
        "\n",
        "# What do we predict?\n",
        "What the model will predict is not the absolute price, it is the change of the price. This is because neurons cant give us a useable number like 3000$, but they can give us a change in price, like 3% price increase in the next 50 minutes<br><br>\n",
        "\n",
        "# More on the input data:\n",
        "We will input 7 features into the model:<br>\n",
        "* open price change = the change of the price where the minute started\n",
        "* high price change = the change of the maximum price reached in this minute\n",
        "* low price change = the change of the lowest price reached in this minute\n",
        "* close price change = the change of the price at the end of this minute\n",
        "* volume change = the change of the volume traded (i think it should be this)\n",
        "* relative to ath max = maximum price reached this minute relative to the last all-time-high\n",
        "* relative to ath min = minumum price reached this minute relative to the last all-time-high\n",
        "<br><br>\n",
        "lets say we have a sequence len of 2 and the last ath was 50: we need 3 entrys<br>\n",
        "<table>\n",
        "  <tr>\n",
        "    <th>date</th>\n",
        "    <th>time</th>\n",
        "    <th>open</th>\n",
        "    <th>high</th>\n",
        "    <th>low</th>\n",
        "    <th>close</th>\n",
        "    <th>volume</th>\n",
        "  </tr>\n",
        "  <tr>\n",
        "    <td>1.1.18</td>\n",
        "    <td>00:01:00</td>\n",
        "    <td>30</td>\n",
        "    <td>35</td>\n",
        "    <td>28</td>\n",
        "    <td>29</td>\n",
        "    <td>100</td>\n",
        "  </tr>\n",
        "    <tr>\n",
        "    <td>1.1.18</td>\n",
        "    <td>00:02:00</td>\n",
        "    <td>29</td>\n",
        "    <td>30</td>\n",
        "    <td>25</td>\n",
        "    <td>26</td>\n",
        "    <td>120</td>\n",
        "  </tr>\n",
        "  <tr>\n",
        "    <td>1.1.18</td>\n",
        "    <td>00:03:00</td>\n",
        "    <td>26</td>\n",
        "    <td>30</td>\n",
        "    <td>26</td>\n",
        "    <td>29</td>\n",
        "    <td>80</td>\n",
        "  </tr>\n",
        "</table>\n",
        "our input sequence should be like this:\n",
        "<table>\n",
        "  <tr>\n",
        "    <th>open_change</th>\n",
        "    <th>high_change</th>\n",
        "    <th>low_change</th>\n",
        "    <th>close_change</th>\n",
        "    <th>volume_change</th>\n",
        "    <th>price_high_relative</th>\n",
        "    <th>price_low_relative</th>\n",
        "  </tr>\n",
        "   <tr>\n",
        "    <td>-0.03</td>\n",
        "    <td>-0.14</td>\n",
        "    <td>-0.1</td>\n",
        "    <td>-0.1</td>\n",
        "    <td>0.2</td>\n",
        "    <td>0.6</td>\n",
        "    <td>0.5</td>\n",
        "  </tr>\n",
        "   <tr>\n",
        "    <td>-0.1</td>\n",
        "    <td>0</td>\n",
        "    <td>0.04</td>\n",
        "    <td>0.1</td>\n",
        "    <td>-0.16</td>\n",
        "    <td>0.6</td>\n",
        "    <td>0.52</td>\n",
        "  </tr>\n",
        " \n",
        "</table>"
      ],
      "metadata": {
        "id": "TwSxPyTgZ_ff"
      }
    },
    {
      "cell_type": "markdown",
      "source": [
        "# The Output:\n",
        "for the specified minutes to forecast we will predict the highest and the lowest value to be reached relative to the last sample in the input sequence"
      ],
      "metadata": {
        "id": "7dQdYSK0Z_fg"
      }
    },
    {
      "cell_type": "code",
      "source": [
        "seq_len = int(24*3*60)\n",
        "batch_size = 32\n",
        "learnrate = 0.000005\n",
        "looks_in_future = 20"
      ],
      "metadata": {
        "trusted": true,
        "id": "D--OMis6Z_fg"
      },
      "execution_count": null,
      "outputs": []
    },
    {
      "cell_type": "code",
      "source": [
        "#load the data\n",
        "npd = np.load(datadir+symbol+\".npy\",allow_pickle=True)\n",
        "print(\"loaded:\", npd.shape)"
      ],
      "metadata": {
        "execution": {
          "iopub.status.busy": "2021-12-20T18:31:10.747298Z",
          "iopub.execute_input": "2021-12-20T18:31:10.747582Z",
          "iopub.status.idle": "2021-12-20T18:31:13.127469Z",
          "shell.execute_reply.started": "2021-12-20T18:31:10.747531Z",
          "shell.execute_reply": "2021-12-20T18:31:13.126706Z"
        },
        "trusted": true,
        "id": "Sew9_0bqZ_fi"
      },
      "execution_count": null,
      "outputs": []
    },
    {
      "cell_type": "code",
      "source": [
        "#for each entry we are calculating the maximum price this crypto reached until than\n",
        "all_time_high = []\n",
        "last_max_val = 0\n",
        "for i in tqdm(range(1,npd.shape[0])):\n",
        "    current_val = float(npd[i][3])\n",
        "    if(current_val > last_max_val):\n",
        "        last_max_val = current_val\n",
        "    \n",
        "    all_time_high.append(last_max_val)\n",
        "\n",
        "print(\"\")\n",
        "plt.title(\"all-time-high values for each entry\")\n",
        "plt.plot(all_time_high)\n",
        "plt.show()"
      ],
      "metadata": {
        "execution": {
          "iopub.status.busy": "2021-12-20T18:31:13.130621Z",
          "iopub.execute_input": "2021-12-20T18:31:13.13083Z",
          "iopub.status.idle": "2021-12-20T18:31:16.540286Z",
          "shell.execute_reply.started": "2021-12-20T18:31:13.130802Z",
          "shell.execute_reply": "2021-12-20T18:31:16.538842Z"
        },
        "trusted": true,
        "id": "3fVK1ST3Z_fi"
      },
      "execution_count": null,
      "outputs": []
    },
    {
      "cell_type": "code",
      "source": [
        "npd_relative = []\n",
        "print(\"converting to relative data...\")\n",
        "\n",
        "prices_relative_to_ath_max = []\n",
        "prices_relative_to_ath_min = []\n",
        "\n",
        "relative_price_changes_max = []\n",
        "relative_price_changes_min = []\n",
        "\n",
        "for i in tqdm(range(npd.shape[0]-1)):\n",
        "    #changes, append *10 for numbers to note be too small\n",
        "    price_open  = (float(npd[i+1][2])-float(npd[i][2]))/float(npd[i][2])*10\n",
        "    price_high  = (float(npd[i+1][3])-float(npd[i][3]))/float(npd[i][3])*10\n",
        "    price_low   = (float(npd[i+1][4])-float(npd[i][4]))/float(npd[i][4])*10\n",
        "    price_close = (float(npd[i+1][5])-float(npd[i][5]))/float(npd[i][5])*10\n",
        "    volume = 0\n",
        "    if float(npd[i][6]) > 0:\n",
        "        volume = (float(npd[i+1][6])-float(npd[i][6]))/float(npd[i][6])\n",
        "        \n",
        "    #max/min price in price / ath\n",
        "    price_relative_ath_max = float(npd[i+1][3]) / all_time_high[i]\n",
        "    price_relative_ath_min = float(npd[i+1][4]) / all_time_high[i]\n",
        "    \n",
        "    prices_relative_to_ath_max.append(price_relative_ath_max)\n",
        "    prices_relative_to_ath_min.append(price_relative_ath_min)\n",
        "    relative_price_changes_min.append(price_high)\n",
        "    relative_price_changes_max.append(price_low)\n",
        "    \n",
        "    npd_relative.append((price_open, price_high, price_low, price_close, volume, price_relative_ath_max, price_relative_ath_min))\n",
        "    \n",
        "npd = np.array(npd_relative,dtype=\"float32\")"
      ],
      "metadata": {
        "execution": {
          "iopub.status.busy": "2021-12-20T18:31:16.541663Z",
          "iopub.execute_input": "2021-12-20T18:31:16.541907Z",
          "iopub.status.idle": "2021-12-20T18:31:54.262099Z",
          "shell.execute_reply.started": "2021-12-20T18:31:16.541873Z",
          "shell.execute_reply": "2021-12-20T18:31:54.261336Z"
        },
        "trusted": true,
        "id": "ldpnlU5mZ_fj"
      },
      "execution_count": null,
      "outputs": []
    },
    {
      "cell_type": "code",
      "source": [
        "fig, (ax1,ax2) = plt.subplots(2,1, figsize=(15,5))\n",
        "ax1.set_title(\"relative high/low values\")\n",
        "ax1.plot(prices_relative_to_ath_min, color=\"red\")\n",
        "ax1.plot(prices_relative_to_ath_max, color=\"green\")\n",
        "\n",
        "ax2.set_title(\"changes in price (high/low)\")\n",
        "ax2.plot(relative_price_changes_min, color=\"red\")\n",
        "ax2.plot(relative_price_changes_max, color=\"green\")\n",
        "\n",
        "fig.show()"
      ],
      "metadata": {
        "execution": {
          "iopub.status.busy": "2021-12-20T18:31:54.264251Z",
          "iopub.execute_input": "2021-12-20T18:31:54.264764Z",
          "iopub.status.idle": "2021-12-20T18:31:56.828914Z",
          "shell.execute_reply.started": "2021-12-20T18:31:54.264723Z",
          "shell.execute_reply": "2021-12-20T18:31:56.828225Z"
        },
        "trusted": true,
        "id": "jq5zcYdPZ_fj"
      },
      "execution_count": null,
      "outputs": []
    },
    {
      "cell_type": "code",
      "source": [
        "def unpack_batch(batch):\n",
        "    X=[]\n",
        "    Y=[]\n",
        "    for i in batch:\n",
        "            X.append(i[0])\n",
        "            Y.append(i[1])\n",
        "    X = np.array(X,dtype=\"float32\")\n",
        "    Y = np.array(Y,dtype=\"float32\")\n",
        "    \n",
        "    return (X, Y)\n",
        "          \n",
        "def array_to_samples(ar):\n",
        "    samples = []\n",
        "    l = ar.shape[0]-seq_len-looks_in_future\n",
        "    \n",
        "    for i in range(l):\n",
        "        array_future_data = ar[i+seq_len+1:i+seq_len+1+looks_in_future]\n",
        "        maxval = np.amax(array_future_data, axis=0)[5]\n",
        "        minval = np.amin(array_future_data, axis=0)[6]\n",
        "        \n",
        "        # again *10 for same reason\n",
        "        maxval_relative = (maxval - ar[i+seq_len][5]) /ar[i+seq_len][5]*10\n",
        "        minval_relative = (minval - ar[i+seq_len][6]) /ar[i+seq_len][6]*10\n",
        "        \n",
        "        data = (ar[i:i+seq_len],(maxval_relative,minval_relative))\n",
        "        samples.append(np.array(data,dtype=object))\n",
        "    \n",
        "    return np.array(samples,dtype=object)"
      ],
      "metadata": {
        "execution": {
          "iopub.status.busy": "2021-12-20T18:31:56.84305Z",
          "iopub.execute_input": "2021-12-20T18:31:56.843254Z",
          "iopub.status.idle": "2021-12-20T18:31:56.85386Z",
          "shell.execute_reply.started": "2021-12-20T18:31:56.843231Z",
          "shell.execute_reply": "2021-12-20T18:31:56.853172Z"
        },
        "trusted": true,
        "id": "k1GklDsBZ_fk"
      },
      "execution_count": null,
      "outputs": []
    },
    {
      "cell_type": "code",
      "source": [
        "samples_len = npd.shape[0] - seq_len - looks_in_future\n",
        "batch_num = int(samples_len / batch_size)\n",
        "print(\"number of batches:\",batch_num)"
      ],
      "metadata": {
        "execution": {
          "iopub.status.busy": "2021-12-20T18:31:56.855157Z",
          "iopub.execute_input": "2021-12-20T18:31:56.85551Z",
          "iopub.status.idle": "2021-12-20T18:31:56.863521Z",
          "shell.execute_reply.started": "2021-12-20T18:31:56.855475Z",
          "shell.execute_reply": "2021-12-20T18:31:56.862616Z"
        },
        "trusted": true,
        "id": "ha0-rokYZ_fk"
      },
      "execution_count": null,
      "outputs": []
    },
    {
      "cell_type": "code",
      "source": [
        "l_in = tf.keras.layers.Input(shape=(seq_len,7), batch_size=batch_size)\n",
        "\n",
        "c1 = tf.keras.layers.Conv1D(64,16,activation=\"relu\")(l_in)\n",
        "p1 = tf.keras.layers.MaxPooling1D(pool_size=2,strides=2)(c1)\n",
        "\n",
        "c2 = tf.keras.layers.Conv1D(128,8,activation=\"relu\")(p1)\n",
        "p2 = tf.keras.layers.MaxPooling1D(pool_size=2,strides=2)(c2)\n",
        "\n",
        "c3 = tf.keras.layers.Conv1D(256,4,activation=\"relu\")(p2)\n",
        "p3 = tf.keras.layers.MaxPooling1D(pool_size=2,strides=2)(c3)\n",
        "\n",
        "c4 = tf.keras.layers.Conv1D(512,2,activation=\"relu\")(p3)\n",
        "p4 = tf.keras.layers.MaxPooling1D(pool_size=2,strides=2)(c4)\n",
        "\n",
        "c5 = tf.keras.layers.Conv1D(32,1,activation=\"relu\")(p4)\n",
        "p5 = tf.keras.layers.MaxPooling1D(pool_size=2,strides=2)(c5)\n",
        "\n",
        "rn1 = tf.keras.layers.LSTM(512, return_sequences=False)(p5)\n",
        "\n",
        "flat = tf.keras.layers.Flatten()(rn1)\n",
        "d1 = tf.keras.layers.Dense(512, activation=\"tanh\")(flat)\n",
        "d2 = tf.keras.layers.Dense(256, activation=\"tanh\")(d1)\n",
        "l_out = tf.keras.layers.Dense(2, activation=\"tanh\")(d2)\n",
        "\n",
        "model = tf.keras.Model(l_in, l_out)\n",
        "model.summary()"
      ],
      "metadata": {
        "execution": {
          "iopub.status.busy": "2021-12-20T18:31:56.865186Z",
          "iopub.execute_input": "2021-12-20T18:31:56.865458Z",
          "iopub.status.idle": "2021-12-20T18:31:57.801891Z",
          "shell.execute_reply.started": "2021-12-20T18:31:56.865401Z",
          "shell.execute_reply": "2021-12-20T18:31:57.801204Z"
        },
        "trusted": true,
        "id": "4YEK4c9FZ_fl"
      },
      "execution_count": null,
      "outputs": []
    },
    {
      "cell_type": "code",
      "source": [
        "opt = tf.keras.optimizers.Adam(learnrate)\n",
        "\n",
        "losses = []\n",
        "ct = 0\n",
        "\n",
        "\n",
        "y_true_vals = []\n",
        "y_output_vals = []\n",
        "\n",
        "t0 = time.time()\n",
        "for s in range(batch_num):\n",
        "    curr_batch = npd[s * batch_size: (s + 1) * batch_size + seq_len + looks_in_future]\n",
        "    samples = array_to_samples(curr_batch)\n",
        "    X, Y = unpack_batch(samples)\n",
        "\n",
        "    with tf.GradientTape() as tape:\n",
        "        outputs = model(X)\n",
        "        loss = tf.keras.losses.mse(Y,outputs)\n",
        "    \n",
        "    \n",
        "    gradients = tape.gradient(loss,model.trainable_variables)\n",
        "    opt.apply_gradients(zip(gradients,model.trainable_variables))\n",
        "   \n",
        "    for i in Y:\n",
        "        y_true_vals.append(i[0])\n",
        "    for i in outputs:\n",
        "        y_output_vals.append(i[0])\n",
        "    losses.append(tf.nn.compute_average_loss(loss).numpy())\n",
        "    \n",
        "    ct+=1\n",
        "    if(ct%100==0):\n",
        "        clear_output()\n",
        "        plt.figure(figsize=(22,4))\n",
        "        plt.plot(losses)\n",
        "        plt.show()\n",
        "        \n",
        "        plt.figure(figsize=(22,4))\n",
        "        plt.plot(y_true_vals, color = \"green\")\n",
        "        plt.plot(y_output_vals, color = \"red\")\n",
        "        plt.show()\n",
        "        \n",
        "    t1 = time.time()\n",
        "    past = t1-t0\n",
        "    t0 = t1\n",
        "    print(\"\\r\",s,\"/\",batch_num, \":\", str(past)+\"s   (\"+str((batch_num-s)*past)+\"s left)\", end=\"\")\n",
        "\n",
        "        \n",
        "clear_output()"
      ],
      "metadata": {
        "execution": {
          "iopub.status.busy": "2021-12-20T18:31:57.804018Z",
          "iopub.execute_input": "2021-12-20T18:31:57.804265Z"
        },
        "trusted": true,
        "id": "ekLhe-4hZ_fl"
      },
      "execution_count": null,
      "outputs": []
    },
    {
      "cell_type": "code",
      "source": [
        "plt.figure(figsize=(22,4))\n",
        "_=plt.plot(losses)\n",
        "plt.show()\n",
        "\n",
        "plt.figure(figsize=(22,4))\n",
        "_=plt.plot(y_true_vals, color = \"green\")\n",
        "_=plt.plot(y_output_vals, color = \"red\")\n",
        "plt.show()\n",
        "\n",
        "!mkdir /content/drive/MyDrive/weights\n",
        "!mkdir /content/drive/MyDrive/losses\n",
        "model.save_weights(\"/content/drive/MyDrive/weights/\"+symbol)\n",
        "np.save(\"/content/drive/MyDrive/losses/\"+symbol,np.array(losses))\n"
      ],
      "metadata": {
        "trusted": true,
        "id": "X64NonzzZ_fm"
      },
      "execution_count": null,
      "outputs": []
    },
    {
      "cell_type": "code",
      "source": [
        ""
      ],
      "metadata": {
        "id": "NGEWViiqZ_fn"
      },
      "execution_count": null,
      "outputs": []
    }
  ]
}